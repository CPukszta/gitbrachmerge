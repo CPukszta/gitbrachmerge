{
  "cells": [
    {
      "cell_type": "markdown",
      "metadata": {
        "id": "view-in-github",
        "colab_type": "text"
      },
      "source": [
        "<a href=\"https://colab.research.google.com/github/CPukszta/gitbrachmerge/blob/main/homework/hw4_1.ipynb\" target=\"_parent\"><img src=\"https://colab.research.google.com/assets/colab-badge.svg\" alt=\"Open In Colab\"/></a>"
      ]
    },
    {
      "cell_type": "markdown",
      "source": [
        "Set up Google Colab data path"
      ],
      "metadata": {
        "id": "0okXZrW-x1GM"
      }
    },
    {
      "cell_type": "code",
      "source": [
        "# Colab setup ------------------\n",
        "import os, sys, subprocess\n",
        "if \"google.colab\" in sys.modules:\n",
        "    cmd = \"pip install --upgrade iqplot bebi103 watermark\"\n",
        "    process = subprocess.Popen(cmd.split(), stdout=subprocess.PIPE, stderr=subprocess.PIPE)\n",
        "    stdout, stderr = process.communicate()\n",
        "    data_path = \"https://s3.amazonaws.com/bebi103.caltech.edu/data/\"\n",
        "else:\n",
        "    data_path = \"../data/\"\n",
        "# ------------------------------"
      ],
      "metadata": {
        "id": "1meSDih6xieg"
      },
      "execution_count": 1,
      "outputs": []
    },
    {
      "cell_type": "markdown",
      "source": [
        "Import statements"
      ],
      "metadata": {
        "id": "aDUOyrrgx4Ca"
      }
    },
    {
      "cell_type": "code",
      "source": [
        "import numpy as np\n",
        "import pandas as pd\n",
        "import random\n",
        "\n",
        "import bokeh.io \n",
        "import bokeh.plotting\n",
        "!pip install iqplot\n",
        "import iqplot\n",
        "!pip install bebi103\n",
        "import bebi103\n",
        "\n",
        "import scipy.stats\n",
        "\n",
        "bokeh.io.output_notebook()"
      ],
      "metadata": {
        "id": "fMaJKyo_xoZj",
        "colab": {
          "base_uri": "https://localhost:8080/"
        },
        "outputId": "56fc4835-93e4-48a3-9868-cd97706c28f0"
      },
      "execution_count": 68,
      "outputs": [
        {
          "output_type": "stream",
          "name": "stdout",
          "text": [
            "Looking in indexes: https://pypi.org/simple, https://us-python.pkg.dev/colab-wheels/public/simple/\n",
            "Requirement already satisfied: iqplot in /usr/local/lib/python3.7/dist-packages (0.3.2)\n",
            "Requirement already satisfied: xarray in /usr/local/lib/python3.7/dist-packages (from iqplot) (0.20.2)\n",
            "Requirement already satisfied: pandas in /usr/local/lib/python3.7/dist-packages (from iqplot) (1.3.5)\n",
            "Requirement already satisfied: numpy in /usr/local/lib/python3.7/dist-packages (from iqplot) (1.21.6)\n",
            "Requirement already satisfied: bokeh in /usr/local/lib/python3.7/dist-packages (from iqplot) (2.3.3)\n",
            "Requirement already satisfied: colorcet in /usr/local/lib/python3.7/dist-packages (from iqplot) (3.0.1)\n",
            "Requirement already satisfied: PyYAML>=3.10 in /usr/local/lib/python3.7/dist-packages (from bokeh->iqplot) (6.0)\n",
            "Requirement already satisfied: typing-extensions>=3.7.4 in /usr/local/lib/python3.7/dist-packages (from bokeh->iqplot) (4.1.1)\n",
            "Requirement already satisfied: packaging>=16.8 in /usr/local/lib/python3.7/dist-packages (from bokeh->iqplot) (21.3)\n",
            "Requirement already satisfied: Jinja2>=2.9 in /usr/local/lib/python3.7/dist-packages (from bokeh->iqplot) (2.11.3)\n",
            "Requirement already satisfied: pillow>=7.1.0 in /usr/local/lib/python3.7/dist-packages (from bokeh->iqplot) (7.1.2)\n",
            "Requirement already satisfied: python-dateutil>=2.1 in /usr/local/lib/python3.7/dist-packages (from bokeh->iqplot) (2.8.2)\n",
            "Requirement already satisfied: tornado>=5.1 in /usr/local/lib/python3.7/dist-packages (from bokeh->iqplot) (5.1.1)\n",
            "Requirement already satisfied: MarkupSafe>=0.23 in /usr/local/lib/python3.7/dist-packages (from Jinja2>=2.9->bokeh->iqplot) (2.0.1)\n",
            "Requirement already satisfied: pyparsing!=3.0.5,>=2.0.2 in /usr/local/lib/python3.7/dist-packages (from packaging>=16.8->bokeh->iqplot) (3.0.9)\n",
            "Requirement already satisfied: six>=1.5 in /usr/local/lib/python3.7/dist-packages (from python-dateutil>=2.1->bokeh->iqplot) (1.15.0)\n",
            "Requirement already satisfied: pyct>=0.4.4 in /usr/local/lib/python3.7/dist-packages (from colorcet->iqplot) (0.4.8)\n",
            "Requirement already satisfied: param>=1.7.0 in /usr/local/lib/python3.7/dist-packages (from pyct>=0.4.4->colorcet->iqplot) (1.12.2)\n",
            "Requirement already satisfied: pytz>=2017.3 in /usr/local/lib/python3.7/dist-packages (from pandas->iqplot) (2022.4)\n",
            "Requirement already satisfied: importlib-metadata in /usr/local/lib/python3.7/dist-packages (from xarray->iqplot) (4.13.0)\n",
            "Requirement already satisfied: zipp>=0.5 in /usr/local/lib/python3.7/dist-packages (from importlib-metadata->xarray->iqplot) (3.9.0)\n",
            "Looking in indexes: https://pypi.org/simple, https://us-python.pkg.dev/colab-wheels/public/simple/\n",
            "Requirement already satisfied: bebi103 in /usr/local/lib/python3.7/dist-packages (0.1.13)\n",
            "Requirement already satisfied: scipy in /usr/local/lib/python3.7/dist-packages (from bebi103) (1.7.3)\n",
            "Requirement already satisfied: colorcet in /usr/local/lib/python3.7/dist-packages (from bebi103) (3.0.1)\n",
            "Requirement already satisfied: tqdm in /usr/local/lib/python3.7/dist-packages (from bebi103) (4.64.1)\n",
            "Requirement already satisfied: contourpy in /usr/local/lib/python3.7/dist-packages (from bebi103) (1.0.5)\n",
            "Requirement already satisfied: xarray in /usr/local/lib/python3.7/dist-packages (from bebi103) (0.20.2)\n",
            "Requirement already satisfied: numpy in /usr/local/lib/python3.7/dist-packages (from bebi103) (1.21.6)\n",
            "Requirement already satisfied: numba in /usr/local/lib/python3.7/dist-packages (from bebi103) (0.56.3)\n",
            "Requirement already satisfied: bokeh in /usr/local/lib/python3.7/dist-packages (from bebi103) (2.3.3)\n",
            "Requirement already satisfied: arviz>=0.11.4 in /usr/local/lib/python3.7/dist-packages (from bebi103) (0.12.1)\n",
            "Requirement already satisfied: holoviews in /usr/local/lib/python3.7/dist-packages (from bebi103) (1.14.9)\n",
            "Requirement already satisfied: pandas in /usr/local/lib/python3.7/dist-packages (from bebi103) (1.3.5)\n",
            "Requirement already satisfied: matplotlib in /usr/local/lib/python3.7/dist-packages (from bebi103) (3.2.2)\n",
            "Requirement already satisfied: cmdstanpy>=0.9.68 in /usr/local/lib/python3.7/dist-packages (from bebi103) (1.0.7)\n",
            "Requirement already satisfied: packaging in /usr/local/lib/python3.7/dist-packages (from arviz>=0.11.4->bebi103) (21.3)\n",
            "Requirement already satisfied: setuptools>=38.4 in /usr/local/lib/python3.7/dist-packages (from arviz>=0.11.4->bebi103) (57.4.0)\n",
            "Requirement already satisfied: typing-extensions>=3.7.4.3 in /usr/local/lib/python3.7/dist-packages (from arviz>=0.11.4->bebi103) (4.1.1)\n",
            "Requirement already satisfied: xarray-einstats>=0.2 in /usr/local/lib/python3.7/dist-packages (from arviz>=0.11.4->bebi103) (0.2.2)\n",
            "Requirement already satisfied: netcdf4 in /usr/local/lib/python3.7/dist-packages (from arviz>=0.11.4->bebi103) (1.6.1)\n",
            "Requirement already satisfied: ujson in /usr/local/lib/python3.7/dist-packages (from cmdstanpy>=0.9.68->bebi103) (5.5.0)\n",
            "Requirement already satisfied: cycler>=0.10 in /usr/local/lib/python3.7/dist-packages (from matplotlib->bebi103) (0.11.0)\n",
            "Requirement already satisfied: kiwisolver>=1.0.1 in /usr/local/lib/python3.7/dist-packages (from matplotlib->bebi103) (1.4.4)\n",
            "Requirement already satisfied: pyparsing!=2.0.4,!=2.1.2,!=2.1.6,>=2.0.1 in /usr/local/lib/python3.7/dist-packages (from matplotlib->bebi103) (3.0.9)\n",
            "Requirement already satisfied: python-dateutil>=2.1 in /usr/local/lib/python3.7/dist-packages (from matplotlib->bebi103) (2.8.2)\n",
            "Requirement already satisfied: pytz>=2017.3 in /usr/local/lib/python3.7/dist-packages (from pandas->bebi103) (2022.4)\n",
            "Requirement already satisfied: six>=1.5 in /usr/local/lib/python3.7/dist-packages (from python-dateutil>=2.1->matplotlib->bebi103) (1.15.0)\n",
            "Requirement already satisfied: importlib-metadata in /usr/local/lib/python3.7/dist-packages (from xarray->bebi103) (4.13.0)\n",
            "Requirement already satisfied: pillow>=7.1.0 in /usr/local/lib/python3.7/dist-packages (from bokeh->bebi103) (7.1.2)\n",
            "Requirement already satisfied: PyYAML>=3.10 in /usr/local/lib/python3.7/dist-packages (from bokeh->bebi103) (6.0)\n",
            "Requirement already satisfied: Jinja2>=2.9 in /usr/local/lib/python3.7/dist-packages (from bokeh->bebi103) (2.11.3)\n",
            "Requirement already satisfied: tornado>=5.1 in /usr/local/lib/python3.7/dist-packages (from bokeh->bebi103) (5.1.1)\n",
            "Requirement already satisfied: MarkupSafe>=0.23 in /usr/local/lib/python3.7/dist-packages (from Jinja2>=2.9->bokeh->bebi103) (2.0.1)\n",
            "Requirement already satisfied: pyct>=0.4.4 in /usr/local/lib/python3.7/dist-packages (from colorcet->bebi103) (0.4.8)\n",
            "Requirement already satisfied: param>=1.7.0 in /usr/local/lib/python3.7/dist-packages (from pyct>=0.4.4->colorcet->bebi103) (1.12.2)\n",
            "Requirement already satisfied: panel>=0.8.0 in /usr/local/lib/python3.7/dist-packages (from holoviews->bebi103) (0.12.1)\n",
            "Requirement already satisfied: pyviz-comms>=0.7.4 in /usr/local/lib/python3.7/dist-packages (from holoviews->bebi103) (2.2.1)\n",
            "Requirement already satisfied: bleach in /usr/local/lib/python3.7/dist-packages (from panel>=0.8.0->holoviews->bebi103) (5.0.1)\n",
            "Requirement already satisfied: requests in /usr/local/lib/python3.7/dist-packages (from panel>=0.8.0->holoviews->bebi103) (2.23.0)\n",
            "Requirement already satisfied: markdown in /usr/local/lib/python3.7/dist-packages (from panel>=0.8.0->holoviews->bebi103) (3.4.1)\n",
            "Requirement already satisfied: webencodings in /usr/local/lib/python3.7/dist-packages (from bleach->panel>=0.8.0->holoviews->bebi103) (0.5.1)\n",
            "Requirement already satisfied: zipp>=0.5 in /usr/local/lib/python3.7/dist-packages (from importlib-metadata->xarray->bebi103) (3.9.0)\n",
            "Requirement already satisfied: cftime in /usr/local/lib/python3.7/dist-packages (from netcdf4->arviz>=0.11.4->bebi103) (1.6.2)\n",
            "Requirement already satisfied: llvmlite<0.40,>=0.39.0dev0 in /usr/local/lib/python3.7/dist-packages (from numba->bebi103) (0.39.1)\n",
            "Requirement already satisfied: certifi>=2017.4.17 in /usr/local/lib/python3.7/dist-packages (from requests->panel>=0.8.0->holoviews->bebi103) (2022.9.24)\n",
            "Requirement already satisfied: urllib3!=1.25.0,!=1.25.1,<1.26,>=1.21.1 in /usr/local/lib/python3.7/dist-packages (from requests->panel>=0.8.0->holoviews->bebi103) (1.24.3)\n",
            "Requirement already satisfied: idna<3,>=2.5 in /usr/local/lib/python3.7/dist-packages (from requests->panel>=0.8.0->holoviews->bebi103) (2.10)\n",
            "Requirement already satisfied: chardet<4,>=3.0.2 in /usr/local/lib/python3.7/dist-packages (from requests->panel>=0.8.0->holoviews->bebi103) (3.0.4)\n"
          ]
        },
        {
          "output_type": "stream",
          "name": "stderr",
          "text": [
            "/usr/local/lib/python3.7/dist-packages/bebi103/viz.py:40: UserWarning: DataShader import failed with error \"No module named 'datashader'\".\n",
            "Features requiring DataShader will not work and you will get exceptions.\n",
            "  Features requiring DataShader will not work and you will get exceptions.\"\"\"\n"
          ]
        }
      ]
    },
    {
      "cell_type": "markdown",
      "source": [
        "**Part A:** Set up the trivariate Normal Distribution using the parameters given in the homework"
      ],
      "metadata": {
        "id": "KDjQLjUDx_HZ"
      }
    },
    {
      "cell_type": "code",
      "source": [
        "mu = np.array([10,15,25])\n",
        "sigma = np.array([[6, -7, -5], [-7, 13, 11], [-5, 11, 10]])\n",
        "num_samples = 2000\n",
        "\n",
        "trivariate_samples = np.random.default_rng().multivariate_normal(mu, sigma, size=num_samples)\n",
        "print(\"These are our 2000 samples of x = (x1, x2, x3) from the trivariate normal distribution\")\n",
        "print(trivariate_samples)"
      ],
      "metadata": {
        "id": "cZKKBwrqx-pk",
        "colab": {
          "base_uri": "https://localhost:8080/"
        },
        "outputId": "be9206e8-443e-4e54-90c3-846537eb96d0"
      },
      "execution_count": 3,
      "outputs": [
        {
          "output_type": "stream",
          "name": "stdout",
          "text": [
            "These are our 2000 samples of x = (x1, x2, x3) from the trivariate normal distribution\n",
            "[[ 9.73470711 13.8410569  23.72109506]\n",
            " [ 9.38495383 12.60873502 22.07584485]\n",
            " [10.00019212 15.14139457 25.76559258]\n",
            " ...\n",
            " [13.20961966 13.27997391 24.95426067]\n",
            " [13.50013383 10.29113318 20.13198241]\n",
            " [ 9.14273256 16.30695328 25.25145339]]\n"
          ]
        }
      ]
    },
    {
      "cell_type": "markdown",
      "source": [
        "Part B: Plot the samples of x1 as an ECDF. Overlap the CDF of the theoretical distribution for f(x1). Do they match?\n",
        "\n",
        "> Indented block\n",
        "\n"
      ],
      "metadata": {
        "id": "s9Y8HzcQPbn9"
      }
    },
    {
      "cell_type": "markdown",
      "source": [
        "We will start by finding our idealized $f(x1)$ computed by integrating the join pdf over x2 and x3. This gives us our $\\mu$ and $\\sigma$ for the distribution which we can then grab values from for plotting"
      ],
      "metadata": {
        "id": "NSEpkLV02hXa"
      }
    },
    {
      "cell_type": "code",
      "source": [
        "# idealized f(x1)\n",
        "mu_1 = mu[0] \n",
        "sigma_11 = sigma[0][0]\n",
        "num_samples = 2000 \n",
        "lin = np.linspace(0,20,100)\n",
        "\n",
        "x1_norm = scipy.stats.norm.cdf(lin,loc=mu_1,scale = sigma_11)\n",
        "x1_norm"
      ],
      "metadata": {
        "colab": {
          "base_uri": "https://localhost:8080/"
        },
        "id": "oEgp-MQDOa_X",
        "outputId": "09a825b8-4936-43b6-b964-c739c0958878"
      },
      "execution_count": 25,
      "outputs": [
        {
          "output_type": "execute_result",
          "data": {
            "text/plain": [
              "array([0.04779035, 0.05123485, 0.05487403, 0.05871452, 0.06276288,\n",
              "       0.06702552, 0.0715087 , 0.07621849, 0.08116073, 0.08634102,\n",
              "       0.09176468, 0.09743671, 0.10336176, 0.10954411, 0.11598762,\n",
              "       0.12269571, 0.12967134, 0.13691695, 0.14443448, 0.15222529,\n",
              "       0.16029017, 0.1686293 , 0.17724224, 0.1861279 , 0.19528452,\n",
              "       0.20470969, 0.21440029, 0.2243525 , 0.23456181, 0.24502299,\n",
              "       0.25573012, 0.26667656, 0.27785498, 0.28925736, 0.30087502,\n",
              "       0.31269861, 0.32471814, 0.33692303, 0.34930208, 0.36184356,\n",
              "       0.37453521, 0.38736428, 0.40031755, 0.41338142, 0.42654189,\n",
              "       0.43978468, 0.45309519, 0.46645861, 0.47985996, 0.49328412,\n",
              "       0.50671588, 0.52014004, 0.53354139, 0.54690481, 0.56021532,\n",
              "       0.57345811, 0.58661858, 0.59968245, 0.61263572, 0.62546479,\n",
              "       0.63815644, 0.65069792, 0.66307697, 0.67528186, 0.68730139,\n",
              "       0.69912498, 0.71074264, 0.72214502, 0.73332344, 0.74426988,\n",
              "       0.75497701, 0.76543819, 0.7756475 , 0.78559971, 0.79529031,\n",
              "       0.80471548, 0.8138721 , 0.82275776, 0.8313707 , 0.83970983,\n",
              "       0.84777471, 0.85556552, 0.86308305, 0.87032866, 0.87730429,\n",
              "       0.88401238, 0.89045589, 0.89663824, 0.90256329, 0.90823532,\n",
              "       0.91365898, 0.91883927, 0.92378151, 0.9284913 , 0.93297448,\n",
              "       0.93723712, 0.94128548, 0.94512597, 0.94876515, 0.95220965])"
            ]
          },
          "metadata": {},
          "execution_count": 25
        }
      ]
    },
    {
      "cell_type": "markdown",
      "source": [
        "Next, we will grab x1 from the trivariate distribution"
      ],
      "metadata": {
        "id": "aSAwTRal2xK9"
      }
    },
    {
      "cell_type": "code",
      "source": [
        "x1_trivariate = trivariate_samples[:,0]\n"
      ],
      "metadata": {
        "id": "gbGrVYK63DVp"
      },
      "execution_count": 23,
      "outputs": []
    },
    {
      "cell_type": "markdown",
      "source": [
        "Plot the data!"
      ],
      "metadata": {
        "id": "3kYY0kOm3PK2"
      }
    },
    {
      "cell_type": "code",
      "source": [
        "p = iqplot.ecdf(data=x1_trivariate, legend_label = \"X1 ECDF\",width = 600, height =400)\n",
        "p.line(lin,x1_norm,color=\"hotpink\",legend_label = \"X1 theoretical CDF\")\n",
        "\n",
        "bokeh.io.show(p)\n"
      ],
      "metadata": {
        "colab": {
          "base_uri": "https://localhost:8080/",
          "height": 417
        },
        "id": "2BwEF6i13O_t",
        "outputId": "6b41dd6c-1ec8-4f51-b606-a34aba72453e"
      },
      "execution_count": 28,
      "outputs": [
        {
          "output_type": "display_data",
          "data": {
            "application/javascript": [
              "\n",
              "(function(root) {\n",
              "  function now() {\n",
              "    return new Date();\n",
              "  }\n",
              "\n",
              "  var force = true;\n",
              "\n",
              "  if (typeof root._bokeh_onload_callbacks === \"undefined\" || force === true) {\n",
              "    root._bokeh_onload_callbacks = [];\n",
              "    root._bokeh_is_loading = undefined;\n",
              "  }\n",
              "\n",
              "  var JS_MIME_TYPE = 'application/javascript';\n",
              "  var HTML_MIME_TYPE = 'text/html';\n",
              "  var EXEC_MIME_TYPE = 'application/vnd.bokehjs_exec.v0+json';\n",
              "  var CLASS_NAME = 'output_bokeh rendered_html';\n",
              "\n",
              "  /**\n",
              "   * Render data to the DOM node\n",
              "   */\n",
              "  function render(props, node) {\n",
              "    var script = document.createElement(\"script\");\n",
              "    node.appendChild(script);\n",
              "  }\n",
              "\n",
              "  /**\n",
              "   * Handle when an output is cleared or removed\n",
              "   */\n",
              "  function handleClearOutput(event, handle) {\n",
              "    var cell = handle.cell;\n",
              "\n",
              "    var id = cell.output_area._bokeh_element_id;\n",
              "    var server_id = cell.output_area._bokeh_server_id;\n",
              "    // Clean up Bokeh references\n",
              "    if (id != null && id in Bokeh.index) {\n",
              "      Bokeh.index[id].model.document.clear();\n",
              "      delete Bokeh.index[id];\n",
              "    }\n",
              "\n",
              "    if (server_id !== undefined) {\n",
              "      // Clean up Bokeh references\n",
              "      var cmd = \"from bokeh.io.state import curstate; print(curstate().uuid_to_server['\" + server_id + \"'].get_sessions()[0].document.roots[0]._id)\";\n",
              "      cell.notebook.kernel.execute(cmd, {\n",
              "        iopub: {\n",
              "          output: function(msg) {\n",
              "            var id = msg.content.text.trim();\n",
              "            if (id in Bokeh.index) {\n",
              "              Bokeh.index[id].model.document.clear();\n",
              "              delete Bokeh.index[id];\n",
              "            }\n",
              "          }\n",
              "        }\n",
              "      });\n",
              "      // Destroy server and session\n",
              "      var cmd = \"import bokeh.io.notebook as ion; ion.destroy_server('\" + server_id + \"')\";\n",
              "      cell.notebook.kernel.execute(cmd);\n",
              "    }\n",
              "  }\n",
              "\n",
              "  /**\n",
              "   * Handle when a new output is added\n",
              "   */\n",
              "  function handleAddOutput(event, handle) {\n",
              "    var output_area = handle.output_area;\n",
              "    var output = handle.output;\n",
              "\n",
              "    // limit handleAddOutput to display_data with EXEC_MIME_TYPE content only\n",
              "    if ((output.output_type != \"display_data\") || (!Object.prototype.hasOwnProperty.call(output.data, EXEC_MIME_TYPE))) {\n",
              "      return\n",
              "    }\n",
              "\n",
              "    var toinsert = output_area.element.find(\".\" + CLASS_NAME.split(' ')[0]);\n",
              "\n",
              "    if (output.metadata[EXEC_MIME_TYPE][\"id\"] !== undefined) {\n",
              "      toinsert[toinsert.length - 1].firstChild.textContent = output.data[JS_MIME_TYPE];\n",
              "      // store reference to embed id on output_area\n",
              "      output_area._bokeh_element_id = output.metadata[EXEC_MIME_TYPE][\"id\"];\n",
              "    }\n",
              "    if (output.metadata[EXEC_MIME_TYPE][\"server_id\"] !== undefined) {\n",
              "      var bk_div = document.createElement(\"div\");\n",
              "      bk_div.innerHTML = output.data[HTML_MIME_TYPE];\n",
              "      var script_attrs = bk_div.children[0].attributes;\n",
              "      for (var i = 0; i < script_attrs.length; i++) {\n",
              "        toinsert[toinsert.length - 1].firstChild.setAttribute(script_attrs[i].name, script_attrs[i].value);\n",
              "        toinsert[toinsert.length - 1].firstChild.textContent = bk_div.children[0].textContent\n",
              "      }\n",
              "      // store reference to server id on output_area\n",
              "      output_area._bokeh_server_id = output.metadata[EXEC_MIME_TYPE][\"server_id\"];\n",
              "    }\n",
              "  }\n",
              "\n",
              "  function register_renderer(events, OutputArea) {\n",
              "\n",
              "    function append_mime(data, metadata, element) {\n",
              "      // create a DOM node to render to\n",
              "      var toinsert = this.create_output_subarea(\n",
              "        metadata,\n",
              "        CLASS_NAME,\n",
              "        EXEC_MIME_TYPE\n",
              "      );\n",
              "      this.keyboard_manager.register_events(toinsert);\n",
              "      // Render to node\n",
              "      var props = {data: data, metadata: metadata[EXEC_MIME_TYPE]};\n",
              "      render(props, toinsert[toinsert.length - 1]);\n",
              "      element.append(toinsert);\n",
              "      return toinsert\n",
              "    }\n",
              "\n",
              "    /* Handle when an output is cleared or removed */\n",
              "    events.on('clear_output.CodeCell', handleClearOutput);\n",
              "    events.on('delete.Cell', handleClearOutput);\n",
              "\n",
              "    /* Handle when a new output is added */\n",
              "    events.on('output_added.OutputArea', handleAddOutput);\n",
              "\n",
              "    /**\n",
              "     * Register the mime type and append_mime function with output_area\n",
              "     */\n",
              "    OutputArea.prototype.register_mime_type(EXEC_MIME_TYPE, append_mime, {\n",
              "      /* Is output safe? */\n",
              "      safe: true,\n",
              "      /* Index of renderer in `output_area.display_order` */\n",
              "      index: 0\n",
              "    });\n",
              "  }\n",
              "\n",
              "  // register the mime type if in Jupyter Notebook environment and previously unregistered\n",
              "  if (root.Jupyter !== undefined) {\n",
              "    var events = require('base/js/events');\n",
              "    var OutputArea = require('notebook/js/outputarea').OutputArea;\n",
              "\n",
              "    if (OutputArea.prototype.mime_types().indexOf(EXEC_MIME_TYPE) == -1) {\n",
              "      register_renderer(events, OutputArea);\n",
              "    }\n",
              "  }\n",
              "\n",
              "  \n",
              "  if (typeof (root._bokeh_timeout) === \"undefined\" || force === true) {\n",
              "    root._bokeh_timeout = Date.now() + 5000;\n",
              "    root._bokeh_failed_load = false;\n",
              "  }\n",
              "\n",
              "  var NB_LOAD_WARNING = {'data': {'text/html':\n",
              "     \"<div style='background-color: #fdd'>\\n\"+\n",
              "     \"<p>\\n\"+\n",
              "     \"BokehJS does not appear to have successfully loaded. If loading BokehJS from CDN, this \\n\"+\n",
              "     \"may be due to a slow or bad network connection. Possible fixes:\\n\"+\n",
              "     \"</p>\\n\"+\n",
              "     \"<ul>\\n\"+\n",
              "     \"<li>re-rerun `output_notebook()` to attempt to load from CDN again, or</li>\\n\"+\n",
              "     \"<li>use INLINE resources instead, as so:</li>\\n\"+\n",
              "     \"</ul>\\n\"+\n",
              "     \"<code>\\n\"+\n",
              "     \"from bokeh.resources import INLINE\\n\"+\n",
              "     \"output_notebook(resources=INLINE)\\n\"+\n",
              "     \"</code>\\n\"+\n",
              "     \"</div>\"}};\n",
              "\n",
              "  function display_loaded() {\n",
              "    var el = document.getElementById(null);\n",
              "    if (el != null) {\n",
              "      el.textContent = \"BokehJS is loading...\";\n",
              "    }\n",
              "    if (root.Bokeh !== undefined) {\n",
              "      if (el != null) {\n",
              "        el.textContent = \"BokehJS \" + root.Bokeh.version + \" successfully loaded.\";\n",
              "      }\n",
              "    } else if (Date.now() < root._bokeh_timeout) {\n",
              "      setTimeout(display_loaded, 100)\n",
              "    }\n",
              "  }\n",
              "\n",
              "\n",
              "  function run_callbacks() {\n",
              "    try {\n",
              "      root._bokeh_onload_callbacks.forEach(function(callback) {\n",
              "        if (callback != null)\n",
              "          callback();\n",
              "      });\n",
              "    } finally {\n",
              "      delete root._bokeh_onload_callbacks\n",
              "    }\n",
              "    console.debug(\"Bokeh: all callbacks have finished\");\n",
              "  }\n",
              "\n",
              "  function load_libs(css_urls, js_urls, callback) {\n",
              "    if (css_urls == null) css_urls = [];\n",
              "    if (js_urls == null) js_urls = [];\n",
              "\n",
              "    root._bokeh_onload_callbacks.push(callback);\n",
              "    if (root._bokeh_is_loading > 0) {\n",
              "      console.debug(\"Bokeh: BokehJS is being loaded, scheduling callback at\", now());\n",
              "      return null;\n",
              "    }\n",
              "    if (js_urls == null || js_urls.length === 0) {\n",
              "      run_callbacks();\n",
              "      return null;\n",
              "    }\n",
              "    console.debug(\"Bokeh: BokehJS not loaded, scheduling load and callback at\", now());\n",
              "    root._bokeh_is_loading = css_urls.length + js_urls.length;\n",
              "\n",
              "    function on_load() {\n",
              "      root._bokeh_is_loading--;\n",
              "      if (root._bokeh_is_loading === 0) {\n",
              "        console.debug(\"Bokeh: all BokehJS libraries/stylesheets loaded\");\n",
              "        run_callbacks()\n",
              "      }\n",
              "    }\n",
              "\n",
              "    function on_error(url) {\n",
              "      console.error(\"failed to load \" + url);\n",
              "    }\n",
              "\n",
              "    for (let i = 0; i < css_urls.length; i++) {\n",
              "      const url = css_urls[i];\n",
              "      const element = document.createElement(\"link\");\n",
              "      element.onload = on_load;\n",
              "      element.onerror = on_error.bind(null, url);\n",
              "      element.rel = \"stylesheet\";\n",
              "      element.type = \"text/css\";\n",
              "      element.href = url;\n",
              "      console.debug(\"Bokeh: injecting link tag for BokehJS stylesheet: \", url);\n",
              "      document.body.appendChild(element);\n",
              "    }\n",
              "\n",
              "    const hashes = {\"https://cdn.bokeh.org/bokeh/release/bokeh-2.3.3.min.js\": \"dM3QQsP+wXdHg42wTqW85BjZQdLNNIXqlPw/BgKoExPmTG7ZLML4EGqLMfqHT6ON\", \"https://cdn.bokeh.org/bokeh/release/bokeh-tables-2.3.3.min.js\": \"8x57I4YuIfu8XyZfFo0XVr2WAT8EK4rh/uDe3wF7YuW2FNUSNEpJbsPaB1nJ2fz2\", \"https://cdn.bokeh.org/bokeh/release/bokeh-widgets-2.3.3.min.js\": \"3QTqdz9LyAm2i0sG5XTePsHec3UHWwVsrOL68SYRoAXsafvfAyqtQ+h440+qIBhS\"};\n",
              "\n",
              "    for (let i = 0; i < js_urls.length; i++) {\n",
              "      const url = js_urls[i];\n",
              "      const element = document.createElement('script');\n",
              "      element.onload = on_load;\n",
              "      element.onerror = on_error.bind(null, url);\n",
              "      element.async = false;\n",
              "      element.src = url;\n",
              "      if (url in hashes) {\n",
              "        element.crossOrigin = \"anonymous\";\n",
              "        element.integrity = \"sha384-\" + hashes[url];\n",
              "      }\n",
              "      console.debug(\"Bokeh: injecting script tag for BokehJS library: \", url);\n",
              "      document.head.appendChild(element);\n",
              "    }\n",
              "  };\n",
              "\n",
              "  function inject_raw_css(css) {\n",
              "    const element = document.createElement(\"style\");\n",
              "    element.appendChild(document.createTextNode(css));\n",
              "    document.body.appendChild(element);\n",
              "  }\n",
              "\n",
              "  \n",
              "  var js_urls = [\"https://cdn.bokeh.org/bokeh/release/bokeh-2.3.3.min.js\", \"https://cdn.bokeh.org/bokeh/release/bokeh-widgets-2.3.3.min.js\", \"https://cdn.bokeh.org/bokeh/release/bokeh-tables-2.3.3.min.js\"];\n",
              "  var css_urls = [];\n",
              "  \n",
              "\n",
              "  var inline_js = [\n",
              "    function(Bokeh) {\n",
              "      Bokeh.set_log_level(\"info\");\n",
              "    },\n",
              "    function(Bokeh) {\n",
              "    \n",
              "    \n",
              "    }\n",
              "  ];\n",
              "\n",
              "  function run_inline_js() {\n",
              "    \n",
              "    if (root.Bokeh !== undefined || force === true) {\n",
              "      \n",
              "    for (var i = 0; i < inline_js.length; i++) {\n",
              "      inline_js[i].call(root, root.Bokeh);\n",
              "    }\n",
              "    } else if (Date.now() < root._bokeh_timeout) {\n",
              "      setTimeout(run_inline_js, 100);\n",
              "    } else if (!root._bokeh_failed_load) {\n",
              "      console.log(\"Bokeh: BokehJS failed to load within specified timeout.\");\n",
              "      root._bokeh_failed_load = true;\n",
              "    } else if (force !== true) {\n",
              "      var cell = $(document.getElementById(null)).parents('.cell').data().cell;\n",
              "      cell.output_area.append_execute_result(NB_LOAD_WARNING)\n",
              "    }\n",
              "\n",
              "  }\n",
              "\n",
              "  if (root._bokeh_is_loading === 0) {\n",
              "    console.debug(\"Bokeh: BokehJS loaded, going straight to plotting\");\n",
              "    run_inline_js();\n",
              "  } else {\n",
              "    load_libs(css_urls, js_urls, function() {\n",
              "      console.debug(\"Bokeh: BokehJS plotting callback run at\", now());\n",
              "      run_inline_js();\n",
              "    });\n",
              "  }\n",
              "}(window));"
            ],
            "application/vnd.bokehjs_load.v0+json": "\n(function(root) {\n  function now() {\n    return new Date();\n  }\n\n  var force = true;\n\n  if (typeof root._bokeh_onload_callbacks === \"undefined\" || force === true) {\n    root._bokeh_onload_callbacks = [];\n    root._bokeh_is_loading = undefined;\n  }\n\n  \n\n  \n  if (typeof (root._bokeh_timeout) === \"undefined\" || force === true) {\n    root._bokeh_timeout = Date.now() + 5000;\n    root._bokeh_failed_load = false;\n  }\n\n  var NB_LOAD_WARNING = {'data': {'text/html':\n     \"<div style='background-color: #fdd'>\\n\"+\n     \"<p>\\n\"+\n     \"BokehJS does not appear to have successfully loaded. If loading BokehJS from CDN, this \\n\"+\n     \"may be due to a slow or bad network connection. Possible fixes:\\n\"+\n     \"</p>\\n\"+\n     \"<ul>\\n\"+\n     \"<li>re-rerun `output_notebook()` to attempt to load from CDN again, or</li>\\n\"+\n     \"<li>use INLINE resources instead, as so:</li>\\n\"+\n     \"</ul>\\n\"+\n     \"<code>\\n\"+\n     \"from bokeh.resources import INLINE\\n\"+\n     \"output_notebook(resources=INLINE)\\n\"+\n     \"</code>\\n\"+\n     \"</div>\"}};\n\n  function display_loaded() {\n    var el = document.getElementById(null);\n    if (el != null) {\n      el.textContent = \"BokehJS is loading...\";\n    }\n    if (root.Bokeh !== undefined) {\n      if (el != null) {\n        el.textContent = \"BokehJS \" + root.Bokeh.version + \" successfully loaded.\";\n      }\n    } else if (Date.now() < root._bokeh_timeout) {\n      setTimeout(display_loaded, 100)\n    }\n  }\n\n\n  function run_callbacks() {\n    try {\n      root._bokeh_onload_callbacks.forEach(function(callback) {\n        if (callback != null)\n          callback();\n      });\n    } finally {\n      delete root._bokeh_onload_callbacks\n    }\n    console.debug(\"Bokeh: all callbacks have finished\");\n  }\n\n  function load_libs(css_urls, js_urls, callback) {\n    if (css_urls == null) css_urls = [];\n    if (js_urls == null) js_urls = [];\n\n    root._bokeh_onload_callbacks.push(callback);\n    if (root._bokeh_is_loading > 0) {\n      console.debug(\"Bokeh: BokehJS is being loaded, scheduling callback at\", now());\n      return null;\n    }\n    if (js_urls == null || js_urls.length === 0) {\n      run_callbacks();\n      return null;\n    }\n    console.debug(\"Bokeh: BokehJS not loaded, scheduling load and callback at\", now());\n    root._bokeh_is_loading = css_urls.length + js_urls.length;\n\n    function on_load() {\n      root._bokeh_is_loading--;\n      if (root._bokeh_is_loading === 0) {\n        console.debug(\"Bokeh: all BokehJS libraries/stylesheets loaded\");\n        run_callbacks()\n      }\n    }\n\n    function on_error(url) {\n      console.error(\"failed to load \" + url);\n    }\n\n    for (let i = 0; i < css_urls.length; i++) {\n      const url = css_urls[i];\n      const element = document.createElement(\"link\");\n      element.onload = on_load;\n      element.onerror = on_error.bind(null, url);\n      element.rel = \"stylesheet\";\n      element.type = \"text/css\";\n      element.href = url;\n      console.debug(\"Bokeh: injecting link tag for BokehJS stylesheet: \", url);\n      document.body.appendChild(element);\n    }\n\n    const hashes = {\"https://cdn.bokeh.org/bokeh/release/bokeh-2.3.3.min.js\": \"dM3QQsP+wXdHg42wTqW85BjZQdLNNIXqlPw/BgKoExPmTG7ZLML4EGqLMfqHT6ON\", \"https://cdn.bokeh.org/bokeh/release/bokeh-tables-2.3.3.min.js\": \"8x57I4YuIfu8XyZfFo0XVr2WAT8EK4rh/uDe3wF7YuW2FNUSNEpJbsPaB1nJ2fz2\", \"https://cdn.bokeh.org/bokeh/release/bokeh-widgets-2.3.3.min.js\": \"3QTqdz9LyAm2i0sG5XTePsHec3UHWwVsrOL68SYRoAXsafvfAyqtQ+h440+qIBhS\"};\n\n    for (let i = 0; i < js_urls.length; i++) {\n      const url = js_urls[i];\n      const element = document.createElement('script');\n      element.onload = on_load;\n      element.onerror = on_error.bind(null, url);\n      element.async = false;\n      element.src = url;\n      if (url in hashes) {\n        element.crossOrigin = \"anonymous\";\n        element.integrity = \"sha384-\" + hashes[url];\n      }\n      console.debug(\"Bokeh: injecting script tag for BokehJS library: \", url);\n      document.head.appendChild(element);\n    }\n  };\n\n  function inject_raw_css(css) {\n    const element = document.createElement(\"style\");\n    element.appendChild(document.createTextNode(css));\n    document.body.appendChild(element);\n  }\n\n  \n  var js_urls = [\"https://cdn.bokeh.org/bokeh/release/bokeh-2.3.3.min.js\", \"https://cdn.bokeh.org/bokeh/release/bokeh-widgets-2.3.3.min.js\", \"https://cdn.bokeh.org/bokeh/release/bokeh-tables-2.3.3.min.js\"];\n  var css_urls = [];\n  \n\n  var inline_js = [\n    function(Bokeh) {\n      Bokeh.set_log_level(\"info\");\n    },\n    function(Bokeh) {\n    \n    \n    }\n  ];\n\n  function run_inline_js() {\n    \n    if (root.Bokeh !== undefined || force === true) {\n      \n    for (var i = 0; i < inline_js.length; i++) {\n      inline_js[i].call(root, root.Bokeh);\n    }\n    } else if (Date.now() < root._bokeh_timeout) {\n      setTimeout(run_inline_js, 100);\n    } else if (!root._bokeh_failed_load) {\n      console.log(\"Bokeh: BokehJS failed to load within specified timeout.\");\n      root._bokeh_failed_load = true;\n    } else if (force !== true) {\n      var cell = $(document.getElementById(null)).parents('.cell').data().cell;\n      cell.output_area.append_execute_result(NB_LOAD_WARNING)\n    }\n\n  }\n\n  if (root._bokeh_is_loading === 0) {\n    console.debug(\"Bokeh: BokehJS loaded, going straight to plotting\");\n    run_inline_js();\n  } else {\n    load_libs(css_urls, js_urls, function() {\n      console.debug(\"Bokeh: BokehJS plotting callback run at\", now());\n      run_inline_js();\n    });\n  }\n}(window));"
          },
          "metadata": {}
        },
        {
          "output_type": "display_data",
          "data": {
            "text/html": [
              "\n",
              "\n",
              "\n",
              "\n",
              "\n",
              "\n",
              "  <div class=\"bk-root\" id=\"929f273b-4d9f-4e14-9e1e-4921628a3c89\" data-root-id=\"2706\"></div>\n"
            ]
          },
          "metadata": {}
        },
        {
          "output_type": "display_data",
          "data": {
            "application/javascript": [
              "(function(root) {\n",
              "  function embed_document(root) {\n",
              "    \n",
              "  var docs_json = {\"995e8eda-aaad-4577-b59e-27f496079c00\":{\"defs\":[],\"roots\":{\"references\":[{\"attributes\":{\"below\":[{\"id\":\"2715\"}],\"center\":[{\"id\":\"2718\"},{\"id\":\"2722\"}],\"height\":400,\"left\":[{\"id\":\"2719\"}],\"renderers\":[{\"id\":\"2741\"},{\"id\":\"2748\"}],\"right\":[{\"id\":\"2743\"}],\"title\":{\"id\":\"2751\"},\"toolbar\":{\"id\":\"2730\"},\"toolbar_location\":\"above\",\"x_range\":{\"id\":\"2707\"},\"x_scale\":{\"id\":\"2711\"},\"y_range\":{\"id\":\"2709\"},\"y_scale\":{\"id\":\"2713\"}},\"id\":\"2706\",\"subtype\":\"Figure\",\"type\":\"Plot\"},{\"attributes\":{\"click_policy\":\"hide\",\"items\":[{\"id\":\"2744\"},{\"id\":\"2763\"}],\"location\":\"center\"},\"id\":\"2743\",\"type\":\"Legend\"},{\"attributes\":{},\"id\":\"2751\",\"type\":\"Title\"},{\"attributes\":{\"label\":{\"value\":\"X1 theoretical CDF\"},\"renderers\":[{\"id\":\"2748\"}]},\"id\":\"2763\",\"type\":\"LegendItem\"},{\"attributes\":{},\"id\":\"2713\",\"type\":\"LinearScale\"},{\"attributes\":{},\"id\":\"2707\",\"type\":\"DataRange1d\"},{\"attributes\":{\"label\":{\"value\":\"X1 ECDF\"},\"renderers\":[{\"id\":\"2741\"}]},\"id\":\"2744\",\"type\":\"LegendItem\"},{\"attributes\":{\"source\":{\"id\":\"2737\"}},\"id\":\"2742\",\"type\":\"CDSView\"},{\"attributes\":{\"data\":{\"x\":{\"__ndarray__\":\"AAAAAAAAAAAxb2dIzNvJPzFvZ0jM29k/ZZNNNtlk4z8xb2dIzNvpP3+lQK1fKfA/ZZNNNtlk8z9LgVq/UqD2PzFvZ0jM2/k/F1100UUX/T9/pUCtXykAQHIcx3EcxwFAZZNNNtlkA0BYCtT6lQIFQEuBWr9SoAZAPvjggw8+CEAxb2dIzNsJQCTm7QyJeQtAF1100UUXDUAK1PqVArUOQH+lQK1fKRBA+OCDDz74EEByHMdxHMcRQOtXCtT6lRJAZZNNNtlkE0DezpCYtzMUQFgK1PqVAhVA0UUXXXTRFUBLgVq/UqAWQMS8nSExbxdAPvjggw8+GEC3MyTm7QwZQDFvZ0jM2xlAq6qqqqqqGkAk5u0MiXkbQJ4hMW9nSBxAF1100UUXHUCRmLczJOYdQArU+pUCtR5AhA8++OCDH0B/pUCtXykgQDtDYt7OkCBA+OCDDz74IEC1fqVArV8hQHIcx3EcxyFALrrooosuIkDrVwrU+pUiQKj1KwVq/SJAZZNNNtlkI0AiMW9nSMwjQN7OkJi3MyRAm2yyySabJEBYCtT6lQIlQBWo9SsFaiVA0UUXXXTRJUCO4ziO4zgmQEuBWr9SoCZACB988MEHJ0DEvJ0hMW8nQIFav1Kg1idAPvjggw8+KED7lQK1fqUoQLczJObtDClAdNFFF110KUAxb2dIzNspQO4MiXk7QypAq6qqqqqqKkBnSMzbGRIrQCTm7QyJeStA4YMPPvjgK0CeITFvZ0gsQFq/UqDWryxAF1100UUXLUDU+pUCtX4tQJGYtzMk5i1ATTbZZJNNLkAK1PqVArUuQMdxHMdxHC9AhA8++OCDL0BArV8pUOsvQH+lQK1fKTBAXXTRRRddMEA7Q2LezpAwQBoS83aGxDBA+OCDDz74MEDXrxSo9SsxQLV+pUCtXzFAk0022WSTMUByHMdxHMcxQFDrVwrU+jFALrrooosuMkANiXk7Q2IyQOtXCtT6lTJAyiabbLLJMkCo9SsFav0yQIbEvJ0hMTNAZZNNNtlkM0BDYt7OkJgzQCIxb2dIzDNAAAAAAAAANEA=\",\"dtype\":\"float64\",\"order\":\"little\",\"shape\":[100]},\"y\":{\"__ndarray__\":\"IfEmIPp3qD9Tlf5edDuqPyH2GsdyGKw/ZXZxXdQPrj/zn0xhOhGwPxUmhJ+VKLE/ZE6m42ROsj9IPaX8DYOzPzSF0QnzxrQ/YAFA9HEatj9kwYzm4323P5TZsMOc8bg/5FKrnep1uj8QzMYsFQu8P5B/TUhdsb0/xDGEYfxovz808eQAEpnAPxr0XqZ+hsE/WByoQ9R8wj/s/k9SHnzDPwiRxWxjhMQ/gBDnG6WVxT8iE8eo36/GP6IjEPMJ08c/iL1rTBX/yD+K60tZ7TPKP/5McPd3ccs/XNx3KpW3zD8yh8gOHwbOP0iKDNPpXM8/rtE93OFd0D95yw2NOhHRP9wrjD1gyNE/hjIkTjGD0j+M53JMiUHTP5TpOwVBA9Q/ZybumS7I1D9zs6mZJZDVPxqSsR33WtY/udIt6XEo1z87TRyMYvjXP5oYSImTytg/exgaf82e2T/KcA9T13TaP2OAnV92TNs/2TlGpG4l3D9jWZv3gv/cPxob6zp12t0/n79Njwa23j/wZsiL95HfP4jMGzoEN+A/MCBZuPyk4D9zcopixRLhP05TMoQ+gOE/EuPcrUjt4T/OPzHQxFniP5tHeFaUxeI/w/NyQJkw4z+y81s7tprjP2LZ8bnOA+Q/pBZpC8dr5D/zNidxhNLkP0YmKzPtN+U/zOwIs+ib5T82C2J9X/7lPzqMxlk7X+Y/vubtWGe+5j8S6jnhzxvnP0Qaeblid+c/KRfhEQ/R5z9u3TyLxSjoPzLeTTx4fug/6AhitRrS6D/A7CMCoiPpPx4FrakEc+k/nhDlrDrA6T8W9zuDPQvqPzg7zhUIVOo/4DsGuZaa6j++m84k597qP0UAbGv4IOs/6vgV78pg6z/5QmhWYJ7rP7PDxn+72es/yHnPc+AS7D8OUPZW1EnsP34mZ1qdfuw/opVKrEKx7D/O5IlnzOHsP9RnLoNDEO0/0/93wbE87T9az8WeIWftP1ZYa0Cej+0/NDaLYzO27T89ew9M7drtPwFs1rPY/e0/mugougIf7j+eUI7TeD7uP6sWELpIXO4/7pD9XYB47j8=\",\"dtype\":\"float64\",\"order\":\"little\",\"shape\":[100]}},\"selected\":{\"id\":\"2761\"},\"selection_policy\":{\"id\":\"2762\"}},\"id\":\"2745\",\"type\":\"ColumnDataSource\"},{\"attributes\":{\"data\":{\"__ECDF\":{\"__ndarray__\":\"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\",\"dtype\":\"float64\",\"order\":\"little\",\"shape\":[2000]},\"__dummy_cat\":[\"X1 ECDF\",\"X1 ECDF\",\"X1 ECDF\",\"X1 ECDF\",\"X1 ECDF\",\"X1 ECDF\",\"X1 ECDF\",\"X1 ECDF\",\"X1 ECDF\",\"X1 ECDF\",\"X1 ECDF\",\"X1 ECDF\",\"X1 ECDF\",\"X1 ECDF\",\"X1 ECDF\",\"X1 ECDF\",\"X1 ECDF\",\"X1 ECDF\",\"X1 ECDF\",\"X1 ECDF\",\"X1 ECDF\",\"X1 ECDF\",\"X1 ECDF\",\"X1 ECDF\",\"X1 ECDF\",\"X1 ECDF\",\"X1 ECDF\",\"X1 ECDF\",\"X1 ECDF\",\"X1 ECDF\",\"X1 ECDF\",\"X1 ECDF\",\"X1 ECDF\",\"X1 ECDF\",\"X1 ECDF\",\"X1 ECDF\",\"X1 ECDF\",\"X1 ECDF\",\"X1 ECDF\",\"X1 ECDF\",\"X1 ECDF\",\"X1 ECDF\",\"X1 ECDF\",\"X1 ECDF\",\"X1 ECDF\",\"X1 ECDF\",\"X1 ECDF\",\"X1 ECDF\",\"X1 ECDF\",\"X1 ECDF\",\"X1 ECDF\",\"X1 ECDF\",\"X1 ECDF\",\"X1 ECDF\",\"X1 ECDF\",\"X1 ECDF\",\"X1 ECDF\",\"X1 ECDF\",\"X1 ECDF\",\"X1 ECDF\",\"X1 ECDF\",\"X1 ECDF\",\"X1 ECDF\",\"X1 ECDF\",\"X1 ECDF\",\"X1 ECDF\",\"X1 ECDF\",\"X1 ECDF\",\"X1 ECDF\",\"X1 ECDF\",\"X1 ECDF\",\"X1 ECDF\",\"X1 ECDF\",\"X1 ECDF\",\"X1 ECDF\",\"X1 ECDF\",\"X1 ECDF\",\"X1 ECDF\",\"X1 ECDF\",\"X1 ECDF\",\"X1 ECDF\",\"X1 ECDF\",\"X1 ECDF\",\"X1 ECDF\",\"X1 ECDF\",\"X1 ECDF\",\"X1 ECDF\",\"X1 ECDF\",\"X1 ECDF\",\"X1 ECDF\",\"X1 ECDF\",\"X1 ECDF\",\"X1 ECDF\",\"X1 ECDF\",\"X1 ECDF\",\"X1 ECDF\",\"X1 ECDF\",\"X1 ECDF\",\"X1 ECDF\",\"X1 ECDF\",\"X1 ECDF\",\"X1 ECDF\",\"X1 ECDF\",\"X1 ECDF\",\"X1 ECDF\",\"X1 ECDF\",\"X1 ECDF\",\"X1 ECDF\",\"X1 ECDF\",\"X1 ECDF\",\"X1 ECDF\",\"X1 ECDF\",\"X1 ECDF\",\"X1 ECDF\",\"X1 ECDF\",\"X1 ECDF\",\"X1 ECDF\",\"X1 ECDF\",\"X1 ECDF\",\"X1 ECDF\",\"X1 ECDF\",\"X1 ECDF\",\"X1 ECDF\",\"X1 ECDF\",\"X1 ECDF\",\"X1 ECDF\",\"X1 ECDF\",\"X1 ECDF\",\"X1 ECDF\",\"X1 ECDF\",\"X1 ECDF\",\"X1 ECDF\",\"X1 ECDF\",\"X1 ECDF\",\"X1 ECDF\",\"X1 ECDF\",\"X1 ECDF\",\"X1 ECDF\",\"X1 ECDF\",\"X1 ECDF\",\"X1 ECDF\",\"X1 ECDF\",\"X1 ECDF\",\"X1 ECDF\",\"X1 ECDF\",\"X1 ECDF\",\"X1 ECDF\",\"X1 ECDF\",\"X1 ECDF\",\"X1 ECDF\",\"X1 ECDF\",\"X1 ECDF\",\"X1 ECDF\",\"X1 ECDF\",\"X1 ECDF\",\"X1 ECDF\",\"X1 ECDF\",\"X1 ECDF\",\"X1 ECDF\",\"X1 ECDF\",\"X1 ECDF\",\"X1 ECDF\",\"X1 ECDF\",\"X1 ECDF\",\"X1 ECDF\",\"X1 ECDF\",\"X1 ECDF\",\"X1 ECDF\",\"X1 ECDF\",\"X1 ECDF\",\"X1 ECDF\",\"X1 ECDF\",\"X1 ECDF\",\"X1 ECDF\",\"X1 ECDF\",\"X1 ECDF\",\"X1 ECDF\",\"X1 ECDF\",\"X1 ECDF\",\"X1 ECDF\",\"X1 ECDF\",\"X1 ECDF\",\"X1 ECDF\",\"X1 ECDF\",\"X1 ECDF\",\"X1 ECDF\",\"X1 ECDF\",\"X1 ECDF\",\"X1 ECDF\",\"X1 ECDF\",\"X1 ECDF\",\"X1 ECDF\",\"X1 ECDF\",\"X1 ECDF\",\"X1 ECDF\",\"X1 ECDF\",\"X1 ECDF\",\"X1 ECDF\",\"X1 ECDF\",\"X1 ECDF\",\"X1 ECDF\",\"X1 ECDF\",\"X1 ECDF\",\"X1 ECDF\",\"X1 ECDF\",\"X1 ECDF\",\"X1 ECDF\",\"X1 ECDF\",\"X1 ECDF\",\"X1 ECDF\",\"X1 ECDF\",\"X1 ECDF\",\"X1 ECDF\",\"X1 ECDF\",\"X1 ECDF\",\"X1 ECDF\",\"X1 ECDF\",\"X1 ECDF\",\"X1 ECDF\",\"X1 ECDF\",\"X1 ECDF\",\"X1 ECDF\",\"X1 ECDF\",\"X1 ECDF\",\"X1 ECDF\",\"X1 ECDF\",\"X1 ECDF\",\"X1 ECDF\",\"X1 ECDF\",\"X1 ECDF\",\"X1 ECDF\",\"X1 ECDF\",\"X1 ECDF\",\"X1 ECDF\",\"X1 ECDF\",\"X1 ECDF\",\"X1 ECDF\",\"X1 ECDF\",\"X1 ECDF\",\"X1 ECDF\",\"X1 ECDF\",\"X1 ECDF\",\"X1 ECDF\",\"X1 ECDF\",\"X1 ECDF\",\"X1 ECDF\",\"X1 ECDF\",\"X1 ECDF\",\"X1 ECDF\",\"X1 ECDF\",\"X1 ECDF\",\"X1 ECDF\",\"X1 ECDF\",\"X1 ECDF\",\"X1 ECDF\",\"X1 ECDF\",\"X1 ECDF\",\"X1 ECDF\",\"X1 ECDF\",\"X1 ECDF\",\"X1 ECDF\",\"X1 ECDF\",\"X1 ECDF\",\"X1 ECDF\",\"X1 ECDF\",\"X1 ECDF\",\"X1 ECDF\",\"X1 ECDF\",\"X1 ECDF\",\"X1 ECDF\",\"X1 ECDF\",\"X1 ECDF\",\"X1 ECDF\",\"X1 ECDF\",\"X1 ECDF\",\"X1 ECDF\",\"X1 ECDF\",\"X1 ECDF\",\"X1 ECDF\",\"X1 ECDF\",\"X1 ECDF\",\"X1 ECDF\",\"X1 ECDF\",\"X1 ECDF\",\"X1 ECDF\",\"X1 ECDF\",\"X1 ECDF\",\"X1 ECDF\",\"X1 ECDF\",\"X1 ECDF\",\"X1 ECDF\",\"X1 ECDF\",\"X1 ECDF\",\"X1 ECDF\",\"X1 ECDF\",\"X1 ECDF\",\"X1 ECDF\",\"X1 ECDF\",\"X1 ECDF\",\"X1 ECDF\",\"X1 ECDF\",\"X1 ECDF\",\"X1 ECDF\",\"X1 ECDF\",\"X1 ECDF\",\"X1 ECDF\",\"X1 ECDF\",\"X1 ECDF\",\"X1 ECDF\",\"X1 ECDF\",\"X1 ECDF\",\"X1 ECDF\",\"X1 ECDF\",\"X1 ECDF\",\"X1 ECDF\",\"X1 ECDF\",\"X1 ECDF\",\"X1 ECDF\",\"X1 ECDF\",\"X1 ECDF\",\"X1 ECDF\",\"X1 ECDF\",\"X1 ECDF\",\"X1 ECDF\",\"X1 ECDF\",\"X1 ECDF\",\"X1 ECDF\",\"X1 ECDF\",\"X1 ECDF\",\"X1 ECDF\",\"X1 ECDF\",\"X1 ECDF\",\"X1 ECDF\",\"X1 ECDF\",\"X1 ECDF\",\"X1 ECDF\",\"X1 ECDF\",\"X1 ECDF\",\"X1 ECDF\",\"X1 ECDF\",\"X1 ECDF\",\"X1 ECDF\",\"X1 ECDF\",\"X1 ECDF\",\"X1 ECDF\",\"X1 ECDF\",\"X1 ECDF\",\"X1 ECDF\",\"X1 ECDF\",\"X1 ECDF\",\"X1 ECDF\",\"X1 ECDF\",\"X1 ECDF\",\"X1 ECDF\",\"X1 ECDF\",\"X1 ECDF\",\"X1 ECDF\",\"X1 ECDF\",\"X1 ECDF\",\"X1 ECDF\",\"X1 ECDF\",\"X1 ECDF\",\"X1 ECDF\",\"X1 ECDF\",\"X1 ECDF\",\"X1 ECDF\",\"X1 ECDF\",\"X1 ECDF\",\"X1 ECDF\",\"X1 ECDF\",\"X1 ECDF\",\"X1 ECDF\",\"X1 ECDF\",\"X1 ECDF\",\"X1 ECDF\",\"X1 ECDF\",\"X1 ECDF\",\"X1 ECDF\",\"X1 ECDF\",\"X1 ECDF\",\"X1 ECDF\",\"X1 ECDF\",\"X1 ECDF\",\"X1 ECDF\",\"X1 ECDF\",\"X1 ECDF\",\"X1 ECDF\",\"X1 ECDF\",\"X1 ECDF\",\"X1 ECDF\",\"X1 ECDF\",\"X1 ECDF\",\"X1 ECDF\",\"X1 ECDF\",\"X1 ECDF\",\"X1 ECDF\",\"X1 ECDF\",\"X1 ECDF\",\"X1 ECDF\",\"X1 ECDF\",\"X1 ECDF\",\"X1 ECDF\",\"X1 ECDF\",\"X1 ECDF\",\"X1 ECDF\",\"X1 ECDF\",\"X1 ECDF\",\"X1 ECDF\",\"X1 ECDF\",\"X1 ECDF\",\"X1 ECDF\",\"X1 ECDF\",\"X1 ECDF\",\"X1 ECDF\",\"X1 ECDF\",\"X1 ECDF\",\"X1 ECDF\",\"X1 ECDF\",\"X1 ECDF\",\"X1 ECDF\",\"X1 ECDF\",\"X1 ECDF\",\"X1 ECDF\",\"X1 ECDF\",\"X1 ECDF\",\"X1 ECDF\",\"X1 ECDF\",\"X1 ECDF\",\"X1 ECDF\",\"X1 ECDF\",\"X1 ECDF\",\"X1 ECDF\",\"X1 ECDF\",\"X1 ECDF\",\"X1 ECDF\",\"X1 ECDF\",\"X1 ECDF\",\"X1 ECDF\",\"X1 ECDF\",\"X1 ECDF\",\"X1 ECDF\",\"X1 ECDF\",\"X1 ECDF\",\"X1 ECDF\",\"X1 ECDF\",\"X1 ECDF\",\"X1 ECDF\",\"X1 ECDF\",\"X1 ECDF\",\"X1 ECDF\",\"X1 ECDF\",\"X1 ECDF\",\"X1 ECDF\",\"X1 ECDF\",\"X1 ECDF\",\"X1 ECDF\",\"X1 ECDF\",\"X1 ECDF\",\"X1 ECDF\",\"X1 ECDF\",\"X1 ECDF\",\"X1 ECDF\",\"X1 ECDF\",\"X1 ECDF\",\"X1 ECDF\",\"X1 ECDF\",\"X1 ECDF\",\"X1 ECDF\",\"X1 ECDF\",\"X1 ECDF\",\"X1 ECDF\",\"X1 ECDF\",\"X1 ECDF\",\"X1 ECDF\",\"X1 ECDF\",\"X1 ECDF\",\"X1 ECDF\",\"X1 ECDF\",\"X1 ECDF\",\"X1 ECDF\",\"X1 ECDF\",\"X1 ECDF\",\"X1 ECDF\",\"X1 ECDF\",\"X1 ECDF\",\"X1 ECDF\",\"X1 ECDF\",\"X1 ECDF\",\"X1 ECDF\",\"X1 ECDF\",\"X1 ECDF\",\"X1 ECDF\",\"X1 ECDF\",\"X1 ECDF\",\"X1 ECDF\",\"X1 ECDF\",\"X1 ECDF\",\"X1 ECDF\",\"X1 ECDF\",\"X1 ECDF\",\"X1 ECDF\",\"X1 ECDF\",\"X1 ECDF\",\"X1 ECDF\",\"X1 ECDF\",\"X1 ECDF\",\"X1 ECDF\",\"X1 ECDF\",\"X1 ECDF\",\"X1 ECDF\",\"X1 ECDF\",\"X1 ECDF\",\"X1 ECDF\",\"X1 ECDF\",\"X1 ECDF\",\"X1 ECDF\",\"X1 ECDF\",\"X1 ECDF\",\"X1 ECDF\",\"X1 ECDF\",\"X1 ECDF\",\"X1 ECDF\",\"X1 ECDF\",\"X1 ECDF\",\"X1 ECDF\",\"X1 ECDF\",\"X1 ECDF\",\"X1 ECDF\",\"X1 ECDF\",\"X1 ECDF\",\"X1 ECDF\",\"X1 ECDF\",\"X1 ECDF\",\"X1 ECDF\",\"X1 ECDF\",\"X1 ECDF\",\"X1 ECDF\",\"X1 ECDF\",\"X1 ECDF\",\"X1 ECDF\",\"X1 ECDF\",\"X1 ECDF\",\"X1 ECDF\",\"X1 ECDF\",\"X1 ECDF\",\"X1 ECDF\",\"X1 ECDF\",\"X1 ECDF\",\"X1 ECDF\",\"X1 ECDF\",\"X1 ECDF\",\"X1 ECDF\",\"X1 ECDF\",\"X1 ECDF\",\"X1 ECDF\",\"X1 ECDF\",\"X1 ECDF\",\"X1 ECDF\",\"X1 ECDF\",\"X1 ECDF\",\"X1 ECDF\",\"X1 ECDF\",\"X1 ECDF\",\"X1 ECDF\",\"X1 ECDF\",\"X1 ECDF\",\"X1 ECDF\",\"X1 ECDF\",\"X1 ECDF\",\"X1 ECDF\",\"X1 ECDF\",\"X1 ECDF\",\"X1 ECDF\",\"X1 ECDF\",\"X1 ECDF\",\"X1 ECDF\",\"X1 ECDF\",\"X1 ECDF\",\"X1 ECDF\",\"X1 ECDF\",\"X1 ECDF\",\"X1 ECDF\",\"X1 ECDF\",\"X1 ECDF\",\"X1 ECDF\",\"X1 ECDF\",\"X1 ECDF\",\"X1 ECDF\",\"X1 ECDF\",\"X1 ECDF\",\"X1 ECDF\",\"X1 ECDF\",\"X1 ECDF\",\"X1 ECDF\",\"X1 ECDF\",\"X1 ECDF\",\"X1 ECDF\",\"X1 ECDF\",\"X1 ECDF\",\"X1 ECDF\",\"X1 ECDF\",\"X1 ECDF\",\"X1 ECDF\",\"X1 ECDF\",\"X1 ECDF\",\"X1 ECDF\",\"X1 ECDF\",\"X1 ECDF\",\"X1 ECDF\",\"X1 ECDF\",\"X1 ECDF\",\"X1 ECDF\",\"X1 ECDF\",\"X1 ECDF\",\"X1 ECDF\",\"X1 ECDF\",\"X1 ECDF\",\"X1 ECDF\",\"X1 ECDF\",\"X1 ECDF\",\"X1 ECDF\",\"X1 ECDF\",\"X1 ECDF\",\"X1 ECDF\",\"X1 ECDF\",\"X1 ECDF\",\"X1 ECDF\",\"X1 ECDF\",\"X1 ECDF\",\"X1 ECDF\",\"X1 ECDF\",\"X1 ECDF\",\"X1 ECDF\",\"X1 ECDF\",\"X1 ECDF\",\"X1 ECDF\",\"X1 ECDF\",\"X1 ECDF\",\"X1 ECDF\",\"X1 ECDF\",\"X1 ECDF\",\"X1 ECDF\",\"X1 ECDF\",\"X1 ECDF\",\"X1 ECDF\",\"X1 ECDF\",\"X1 ECDF\",\"X1 ECDF\",\"X1 ECDF\",\"X1 ECDF\",\"X1 ECDF\",\"X1 ECDF\",\"X1 ECDF\",\"X1 ECDF\",\"X1 ECDF\",\"X1 ECDF\",\"X1 ECDF\",\"X1 ECDF\",\"X1 ECDF\",\"X1 ECDF\",\"X1 ECDF\",\"X1 ECDF\",\"X1 ECDF\",\"X1 ECDF\",\"X1 ECDF\",\"X1 ECDF\",\"X1 ECDF\",\"X1 ECDF\",\"X1 ECDF\",\"X1 ECDF\",\"X1 ECDF\",\"X1 ECDF\",\"X1 ECDF\",\"X1 ECDF\",\"X1 ECDF\",\"X1 ECDF\",\"X1 ECDF\",\"X1 ECDF\",\"X1 ECDF\",\"X1 ECDF\",\"X1 ECDF\",\"X1 ECDF\",\"X1 ECDF\",\"X1 ECDF\",\"X1 ECDF\",\"X1 ECDF\",\"X1 ECDF\",\"X1 ECDF\",\"X1 ECDF\",\"X1 ECDF\",\"X1 ECDF\",\"X1 ECDF\",\"X1 ECDF\",\"X1 ECDF\",\"X1 ECDF\",\"X1 ECDF\",\"X1 ECDF\",\"X1 ECDF\",\"X1 ECDF\",\"X1 ECDF\",\"X1 ECDF\",\"X1 ECDF\",\"X1 ECDF\",\"X1 ECDF\",\"X1 ECDF\",\"X1 ECDF\",\"X1 ECDF\",\"X1 ECDF\",\"X1 ECDF\",\"X1 ECDF\",\"X1 ECDF\",\"X1 ECDF\",\"X1 ECDF\",\"X1 ECDF\",\"X1 ECDF\",\"X1 ECDF\",\"X1 ECDF\",\"X1 ECDF\",\"X1 ECDF\",\"X1 ECDF\",\"X1 ECDF\",\"X1 ECDF\",\"X1 ECDF\",\"X1 ECDF\",\"X1 ECDF\",\"X1 ECDF\",\"X1 ECDF\",\"X1 ECDF\",\"X1 ECDF\",\"X1 ECDF\",\"X1 ECDF\",\"X1 ECDF\",\"X1 ECDF\",\"X1 ECDF\",\"X1 ECDF\",\"X1 ECDF\",\"X1 ECDF\",\"X1 ECDF\",\"X1 ECDF\",\"X1 ECDF\",\"X1 ECDF\",\"X1 ECDF\",\"X1 ECDF\",\"X1 ECDF\",\"X1 ECDF\",\"X1 ECDF\",\"X1 ECDF\",\"X1 ECDF\",\"X1 ECDF\",\"X1 ECDF\",\"X1 ECDF\",\"X1 ECDF\",\"X1 ECDF\",\"X1 ECDF\",\"X1 ECDF\",\"X1 ECDF\",\"X1 ECDF\",\"X1 ECDF\",\"X1 ECDF\",\"X1 ECDF\",\"X1 ECDF\",\"X1 ECDF\",\"X1 ECDF\",\"X1 ECDF\",\"X1 ECDF\",\"X1 ECDF\",\"X1 ECDF\",\"X1 ECDF\",\"X1 ECDF\",\"X1 ECDF\",\"X1 ECDF\",\"X1 ECDF\",\"X1 ECDF\",\"X1 ECDF\",\"X1 ECDF\",\"X1 ECDF\",\"X1 ECDF\",\"X1 ECDF\",\"X1 ECDF\",\"X1 ECDF\",\"X1 ECDF\",\"X1 ECDF\",\"X1 ECDF\",\"X1 ECDF\",\"X1 ECDF\",\"X1 ECDF\",\"X1 ECDF\",\"X1 ECDF\",\"X1 ECDF\",\"X1 ECDF\",\"X1 ECDF\",\"X1 ECDF\",\"X1 ECDF\",\"X1 ECDF\",\"X1 ECDF\",\"X1 ECDF\",\"X1 ECDF\",\"X1 ECDF\",\"X1 ECDF\",\"X1 ECDF\",\"X1 ECDF\",\"X1 ECDF\",\"X1 ECDF\",\"X1 ECDF\",\"X1 ECDF\",\"X1 ECDF\",\"X1 ECDF\",\"X1 ECDF\",\"X1 ECDF\",\"X1 ECDF\",\"X1 ECDF\",\"X1 ECDF\",\"X1 ECDF\",\"X1 ECDF\",\"X1 ECDF\",\"X1 ECDF\",\"X1 ECDF\",\"X1 ECDF\",\"X1 ECDF\",\"X1 ECDF\",\"X1 ECDF\",\"X1 ECDF\",\"X1 ECDF\",\"X1 ECDF\",\"X1 ECDF\",\"X1 ECDF\",\"X1 ECDF\",\"X1 ECDF\",\"X1 ECDF\",\"X1 ECDF\",\"X1 ECDF\",\"X1 ECDF\",\"X1 ECDF\",\"X1 ECDF\",\"X1 ECDF\",\"X1 ECDF\",\"X1 ECDF\",\"X1 ECDF\",\"X1 ECDF\",\"X1 ECDF\",\"X1 ECDF\",\"X1 ECDF\",\"X1 ECDF\",\"X1 ECDF\",\"X1 ECDF\",\"X1 ECDF\",\"X1 ECDF\",\"X1 ECDF\",\"X1 ECDF\",\"X1 ECDF\",\"X1 ECDF\",\"X1 ECDF\",\"X1 ECDF\",\"X1 ECDF\",\"X1 ECDF\",\"X1 ECDF\",\"X1 ECDF\",\"X1 ECDF\",\"X1 ECDF\",\"X1 ECDF\",\"X1 ECDF\",\"X1 ECDF\",\"X1 ECDF\",\"X1 ECDF\",\"X1 ECDF\",\"X1 ECDF\",\"X1 ECDF\",\"X1 ECDF\",\"X1 ECDF\",\"X1 ECDF\",\"X1 ECDF\",\"X1 ECDF\",\"X1 ECDF\",\"X1 ECDF\",\"X1 ECDF\",\"X1 ECDF\",\"X1 ECDF\",\"X1 ECDF\",\"X1 ECDF\",\"X1 ECDF\",\"X1 ECDF\",\"X1 ECDF\",\"X1 ECDF\",\"X1 ECDF\",\"X1 ECDF\",\"X1 ECDF\",\"X1 ECDF\",\"X1 ECDF\",\"X1 ECDF\",\"X1 ECDF\",\"X1 ECDF\",\"X1 ECDF\",\"X1 ECDF\",\"X1 ECDF\",\"X1 ECDF\",\"X1 ECDF\",\"X1 ECDF\",\"X1 ECDF\",\"X1 ECDF\",\"X1 ECDF\",\"X1 ECDF\",\"X1 ECDF\",\"X1 ECDF\",\"X1 ECDF\",\"X1 ECDF\",\"X1 ECDF\",\"X1 ECDF\",\"X1 ECDF\",\"X1 ECDF\",\"X1 ECDF\",\"X1 ECDF\",\"X1 ECDF\",\"X1 ECDF\",\"X1 ECDF\",\"X1 ECDF\",\"X1 ECDF\",\"X1 ECDF\",\"X1 ECDF\",\"X1 ECDF\",\"X1 ECDF\",\"X1 ECDF\",\"X1 ECDF\",\"X1 ECDF\",\"X1 ECDF\",\"X1 ECDF\",\"X1 ECDF\",\"X1 ECDF\",\"X1 ECDF\",\"X1 ECDF\",\"X1 ECDF\",\"X1 ECDF\",\"X1 ECDF\",\"X1 ECDF\",\"X1 ECDF\",\"X1 ECDF\",\"X1 ECDF\",\"X1 ECDF\",\"X1 ECDF\",\"X1 ECDF\",\"X1 ECDF\",\"X1 ECDF\",\"X1 ECDF\",\"X1 ECDF\",\"X1 ECDF\",\"X1 ECDF\",\"X1 ECDF\",\"X1 ECDF\",\"X1 ECDF\",\"X1 ECDF\",\"X1 ECDF\",\"X1 ECDF\",\"X1 ECDF\",\"X1 ECDF\",\"X1 ECDF\",\"X1 ECDF\",\"X1 ECDF\",\"X1 ECDF\",\"X1 ECDF\",\"X1 ECDF\",\"X1 ECDF\",\"X1 ECDF\",\"X1 ECDF\",\"X1 ECDF\",\"X1 ECDF\",\"X1 ECDF\",\"X1 ECDF\",\"X1 ECDF\",\"X1 ECDF\",\"X1 ECDF\",\"X1 ECDF\",\"X1 ECDF\",\"X1 ECDF\",\"X1 ECDF\",\"X1 ECDF\",\"X1 ECDF\",\"X1 ECDF\",\"X1 ECDF\",\"X1 ECDF\",\"X1 ECDF\",\"X1 ECDF\",\"X1 ECDF\",\"X1 ECDF\",\"X1 ECDF\",\"X1 ECDF\",\"X1 ECDF\",\"X1 ECDF\",\"X1 ECDF\",\"X1 ECDF\",\"X1 ECDF\",\"X1 ECDF\",\"X1 ECDF\",\"X1 ECDF\",\"X1 ECDF\",\"X1 ECDF\",\"X1 ECDF\",\"X1 ECDF\",\"X1 ECDF\",\"X1 ECDF\",\"X1 ECDF\",\"X1 ECDF\",\"X1 ECDF\",\"X1 ECDF\",\"X1 ECDF\",\"X1 ECDF\",\"X1 ECDF\",\"X1 ECDF\",\"X1 ECDF\",\"X1 ECDF\",\"X1 ECDF\",\"X1 ECDF\",\"X1 ECDF\",\"X1 ECDF\",\"X1 ECDF\",\"X1 ECDF\",\"X1 ECDF\",\"X1 ECDF\",\"X1 ECDF\",\"X1 ECDF\",\"X1 ECDF\",\"X1 ECDF\",\"X1 ECDF\",\"X1 ECDF\",\"X1 ECDF\",\"X1 ECDF\",\"X1 ECDF\",\"X1 ECDF\",\"X1 ECDF\",\"X1 ECDF\",\"X1 ECDF\",\"X1 ECDF\",\"X1 ECDF\",\"X1 ECDF\",\"X1 ECDF\",\"X1 ECDF\",\"X1 ECDF\",\"X1 ECDF\",\"X1 ECDF\",\"X1 ECDF\",\"X1 ECDF\",\"X1 ECDF\",\"X1 ECDF\",\"X1 ECDF\",\"X1 ECDF\",\"X1 ECDF\",\"X1 ECDF\",\"X1 ECDF\",\"X1 ECDF\",\"X1 ECDF\",\"X1 ECDF\",\"X1 ECDF\",\"X1 ECDF\",\"X1 ECDF\",\"X1 ECDF\",\"X1 ECDF\",\"X1 ECDF\",\"X1 ECDF\",\"X1 ECDF\",\"X1 ECDF\",\"X1 ECDF\",\"X1 ECDF\",\"X1 ECDF\",\"X1 ECDF\",\"X1 ECDF\",\"X1 ECDF\",\"X1 ECDF\",\"X1 ECDF\",\"X1 ECDF\",\"X1 ECDF\",\"X1 ECDF\",\"X1 ECDF\",\"X1 ECDF\",\"X1 ECDF\",\"X1 ECDF\",\"X1 ECDF\",\"X1 ECDF\",\"X1 ECDF\",\"X1 ECDF\",\"X1 ECDF\",\"X1 ECDF\",\"X1 ECDF\",\"X1 ECDF\",\"X1 ECDF\",\"X1 ECDF\",\"X1 ECDF\",\"X1 ECDF\",\"X1 ECDF\",\"X1 ECDF\",\"X1 ECDF\",\"X1 ECDF\",\"X1 ECDF\",\"X1 ECDF\",\"X1 ECDF\",\"X1 ECDF\",\"X1 ECDF\",\"X1 ECDF\",\"X1 ECDF\",\"X1 ECDF\",\"X1 ECDF\",\"X1 ECDF\",\"X1 ECDF\",\"X1 ECDF\",\"X1 ECDF\",\"X1 ECDF\",\"X1 ECDF\",\"X1 ECDF\",\"X1 ECDF\",\"X1 ECDF\",\"X1 ECDF\",\"X1 ECDF\",\"X1 ECDF\",\"X1 ECDF\",\"X1 ECDF\",\"X1 ECDF\",\"X1 ECDF\",\"X1 ECDF\",\"X1 ECDF\",\"X1 ECDF\",\"X1 ECDF\",\"X1 ECDF\",\"X1 ECDF\",\"X1 ECDF\",\"X1 ECDF\",\"X1 ECDF\",\"X1 ECDF\",\"X1 ECDF\",\"X1 ECDF\",\"X1 ECDF\",\"X1 ECDF\",\"X1 ECDF\",\"X1 ECDF\",\"X1 ECDF\",\"X1 ECDF\",\"X1 ECDF\",\"X1 ECDF\",\"X1 ECDF\",\"X1 ECDF\",\"X1 ECDF\",\"X1 ECDF\",\"X1 ECDF\",\"X1 ECDF\",\"X1 ECDF\",\"X1 ECDF\",\"X1 ECDF\",\"X1 ECDF\",\"X1 ECDF\",\"X1 ECDF\",\"X1 ECDF\",\"X1 ECDF\",\"X1 ECDF\",\"X1 ECDF\",\"X1 ECDF\",\"X1 ECDF\",\"X1 ECDF\",\"X1 ECDF\",\"X1 ECDF\",\"X1 ECDF\",\"X1 ECDF\",\"X1 ECDF\",\"X1 ECDF\",\"X1 ECDF\",\"X1 ECDF\",\"X1 ECDF\",\"X1 ECDF\",\"X1 ECDF\",\"X1 ECDF\",\"X1 ECDF\",\"X1 ECDF\",\"X1 ECDF\",\"X1 ECDF\",\"X1 ECDF\",\"X1 ECDF\",\"X1 ECDF\",\"X1 ECDF\",\"X1 ECDF\",\"X1 ECDF\",\"X1 ECDF\",\"X1 ECDF\",\"X1 ECDF\",\"X1 ECDF\",\"X1 ECDF\",\"X1 ECDF\",\"X1 ECDF\",\"X1 ECDF\",\"X1 ECDF\",\"X1 ECDF\",\"X1 ECDF\",\"X1 ECDF\",\"X1 ECDF\",\"X1 ECDF\",\"X1 ECDF\",\"X1 ECDF\",\"X1 ECDF\",\"X1 ECDF\",\"X1 ECDF\",\"X1 ECDF\",\"X1 ECDF\",\"X1 ECDF\",\"X1 ECDF\",\"X1 ECDF\",\"X1 ECDF\",\"X1 ECDF\",\"X1 ECDF\",\"X1 ECDF\",\"X1 ECDF\",\"X1 ECDF\",\"X1 ECDF\",\"X1 ECDF\",\"X1 ECDF\",\"X1 ECDF\",\"X1 ECDF\",\"X1 ECDF\",\"X1 ECDF\",\"X1 ECDF\",\"X1 ECDF\",\"X1 ECDF\",\"X1 ECDF\",\"X1 ECDF\",\"X1 ECDF\",\"X1 ECDF\",\"X1 ECDF\",\"X1 ECDF\",\"X1 ECDF\",\"X1 ECDF\",\"X1 ECDF\",\"X1 ECDF\",\"X1 ECDF\",\"X1 ECDF\",\"X1 ECDF\",\"X1 ECDF\",\"X1 ECDF\",\"X1 ECDF\",\"X1 ECDF\",\"X1 ECDF\",\"X1 ECDF\",\"X1 ECDF\",\"X1 ECDF\",\"X1 ECDF\",\"X1 ECDF\",\"X1 ECDF\",\"X1 ECDF\",\"X1 ECDF\",\"X1 ECDF\",\"X1 ECDF\",\"X1 ECDF\",\"X1 ECDF\",\"X1 ECDF\",\"X1 ECDF\",\"X1 ECDF\",\"X1 ECDF\",\"X1 ECDF\",\"X1 ECDF\",\"X1 ECDF\",\"X1 ECDF\",\"X1 ECDF\",\"X1 ECDF\",\"X1 ECDF\",\"X1 ECDF\",\"X1 ECDF\",\"X1 ECDF\",\"X1 ECDF\",\"X1 ECDF\",\"X1 ECDF\",\"X1 ECDF\",\"X1 ECDF\",\"X1 ECDF\",\"X1 ECDF\",\"X1 ECDF\",\"X1 ECDF\",\"X1 ECDF\",\"X1 ECDF\",\"X1 ECDF\",\"X1 ECDF\",\"X1 ECDF\",\"X1 ECDF\",\"X1 ECDF\",\"X1 ECDF\",\"X1 ECDF\",\"X1 ECDF\",\"X1 ECDF\",\"X1 ECDF\",\"X1 ECDF\",\"X1 ECDF\",\"X1 ECDF\",\"X1 ECDF\",\"X1 ECDF\",\"X1 ECDF\",\"X1 ECDF\",\"X1 ECDF\",\"X1 ECDF\",\"X1 ECDF\",\"X1 ECDF\",\"X1 ECDF\",\"X1 ECDF\",\"X1 ECDF\",\"X1 ECDF\",\"X1 ECDF\",\"X1 ECDF\",\"X1 ECDF\",\"X1 ECDF\",\"X1 ECDF\",\"X1 ECDF\",\"X1 ECDF\",\"X1 ECDF\",\"X1 ECDF\",\"X1 ECDF\",\"X1 ECDF\",\"X1 ECDF\",\"X1 ECDF\",\"X1 ECDF\",\"X1 ECDF\",\"X1 ECDF\",\"X1 ECDF\",\"X1 ECDF\",\"X1 ECDF\",\"X1 ECDF\",\"X1 ECDF\",\"X1 ECDF\",\"X1 ECDF\",\"X1 ECDF\",\"X1 ECDF\",\"X1 ECDF\",\"X1 ECDF\",\"X1 ECDF\",\"X1 ECDF\",\"X1 ECDF\",\"X1 ECDF\",\"X1 ECDF\",\"X1 ECDF\",\"X1 ECDF\",\"X1 ECDF\",\"X1 ECDF\",\"X1 ECDF\",\"X1 ECDF\",\"X1 ECDF\",\"X1 ECDF\",\"X1 ECDF\",\"X1 ECDF\",\"X1 ECDF\",\"X1 ECDF\",\"X1 ECDF\",\"X1 ECDF\",\"X1 ECDF\",\"X1 ECDF\",\"X1 ECDF\",\"X1 ECDF\",\"X1 ECDF\",\"X1 ECDF\",\"X1 ECDF\",\"X1 ECDF\",\"X1 ECDF\",\"X1 ECDF\",\"X1 ECDF\",\"X1 ECDF\",\"X1 ECDF\",\"X1 ECDF\",\"X1 ECDF\",\"X1 ECDF\",\"X1 ECDF\",\"X1 ECDF\",\"X1 ECDF\",\"X1 ECDF\",\"X1 ECDF\",\"X1 ECDF\",\"X1 ECDF\",\"X1 ECDF\",\"X1 ECDF\",\"X1 ECDF\",\"X1 ECDF\",\"X1 ECDF\",\"X1 ECDF\",\"X1 ECDF\",\"X1 ECDF\",\"X1 ECDF\",\"X1 ECDF\",\"X1 ECDF\",\"X1 ECDF\",\"X1 ECDF\",\"X1 ECDF\",\"X1 ECDF\",\"X1 ECDF\",\"X1 ECDF\",\"X1 ECDF\",\"X1 ECDF\",\"X1 ECDF\",\"X1 ECDF\",\"X1 ECDF\",\"X1 ECDF\",\"X1 ECDF\",\"X1 ECDF\",\"X1 ECDF\",\"X1 ECDF\",\"X1 ECDF\",\"X1 ECDF\",\"X1 ECDF\",\"X1 ECDF\",\"X1 ECDF\",\"X1 ECDF\",\"X1 ECDF\",\"X1 ECDF\",\"X1 ECDF\",\"X1 ECDF\",\"X1 ECDF\",\"X1 ECDF\",\"X1 ECDF\",\"X1 ECDF\",\"X1 ECDF\",\"X1 ECDF\",\"X1 ECDF\",\"X1 ECDF\",\"X1 ECDF\",\"X1 ECDF\",\"X1 ECDF\",\"X1 ECDF\",\"X1 ECDF\",\"X1 ECDF\",\"X1 ECDF\",\"X1 ECDF\",\"X1 ECDF\",\"X1 ECDF\",\"X1 ECDF\",\"X1 ECDF\",\"X1 ECDF\",\"X1 ECDF\",\"X1 ECDF\",\"X1 ECDF\",\"X1 ECDF\",\"X1 ECDF\",\"X1 ECDF\",\"X1 ECDF\",\"X1 ECDF\",\"X1 ECDF\",\"X1 ECDF\",\"X1 ECDF\",\"X1 ECDF\",\"X1 ECDF\",\"X1 ECDF\",\"X1 ECDF\",\"X1 ECDF\",\"X1 ECDF\",\"X1 ECDF\",\"X1 ECDF\",\"X1 ECDF\",\"X1 ECDF\",\"X1 ECDF\",\"X1 ECDF\",\"X1 ECDF\",\"X1 ECDF\",\"X1 ECDF\",\"X1 ECDF\",\"X1 ECDF\",\"X1 ECDF\",\"X1 ECDF\",\"X1 ECDF\",\"X1 ECDF\",\"X1 ECDF\",\"X1 ECDF\",\"X1 ECDF\",\"X1 ECDF\",\"X1 ECDF\",\"X1 ECDF\",\"X1 ECDF\",\"X1 ECDF\",\"X1 ECDF\",\"X1 ECDF\",\"X1 ECDF\",\"X1 ECDF\",\"X1 ECDF\",\"X1 ECDF\",\"X1 ECDF\",\"X1 ECDF\",\"X1 ECDF\",\"X1 ECDF\",\"X1 ECDF\",\"X1 ECDF\",\"X1 ECDF\",\"X1 ECDF\",\"X1 ECDF\",\"X1 ECDF\",\"X1 ECDF\",\"X1 ECDF\",\"X1 ECDF\",\"X1 ECDF\",\"X1 ECDF\",\"X1 ECDF\",\"X1 ECDF\",\"X1 ECDF\",\"X1 ECDF\",\"X1 ECDF\",\"X1 ECDF\",\"X1 ECDF\",\"X1 ECDF\",\"X1 ECDF\",\"X1 ECDF\",\"X1 ECDF\",\"X1 ECDF\",\"X1 ECDF\",\"X1 ECDF\",\"X1 ECDF\",\"X1 ECDF\",\"X1 ECDF\",\"X1 ECDF\",\"X1 ECDF\",\"X1 ECDF\",\"X1 ECDF\",\"X1 ECDF\",\"X1 ECDF\",\"X1 ECDF\",\"X1 ECDF\",\"X1 ECDF\",\"X1 ECDF\",\"X1 ECDF\",\"X1 ECDF\",\"X1 ECDF\",\"X1 ECDF\",\"X1 ECDF\",\"X1 ECDF\",\"X1 ECDF\",\"X1 ECDF\",\"X1 ECDF\",\"X1 ECDF\",\"X1 ECDF\",\"X1 ECDF\",\"X1 ECDF\",\"X1 ECDF\",\"X1 ECDF\",\"X1 ECDF\",\"X1 ECDF\",\"X1 ECDF\",\"X1 ECDF\",\"X1 ECDF\",\"X1 ECDF\",\"X1 ECDF\",\"X1 ECDF\",\"X1 ECDF\",\"X1 ECDF\",\"X1 ECDF\",\"X1 ECDF\",\"X1 ECDF\",\"X1 ECDF\",\"X1 ECDF\",\"X1 ECDF\",\"X1 ECDF\",\"X1 ECDF\",\"X1 ECDF\",\"X1 ECDF\",\"X1 ECDF\",\"X1 ECDF\",\"X1 ECDF\",\"X1 ECDF\",\"X1 ECDF\",\"X1 ECDF\",\"X1 ECDF\",\"X1 ECDF\",\"X1 ECDF\",\"X1 ECDF\",\"X1 ECDF\",\"X1 ECDF\",\"X1 ECDF\",\"X1 ECDF\",\"X1 ECDF\",\"X1 ECDF\",\"X1 ECDF\",\"X1 ECDF\",\"X1 ECDF\",\"X1 ECDF\",\"X1 ECDF\",\"X1 ECDF\",\"X1 ECDF\",\"X1 ECDF\",\"X1 ECDF\",\"X1 ECDF\",\"X1 ECDF\",\"X1 ECDF\",\"X1 ECDF\",\"X1 ECDF\",\"X1 ECDF\",\"X1 ECDF\",\"X1 ECDF\",\"X1 ECDF\",\"X1 ECDF\",\"X1 ECDF\",\"X1 ECDF\",\"X1 ECDF\",\"X1 ECDF\",\"X1 ECDF\",\"X1 ECDF\",\"X1 ECDF\",\"X1 ECDF\",\"X1 ECDF\",\"X1 ECDF\",\"X1 ECDF\",\"X1 ECDF\",\"X1 ECDF\",\"X1 ECDF\",\"X1 ECDF\",\"X1 ECDF\",\"X1 ECDF\",\"X1 ECDF\",\"X1 ECDF\",\"X1 ECDF\",\"X1 ECDF\",\"X1 ECDF\",\"X1 ECDF\",\"X1 ECDF\",\"X1 ECDF\",\"X1 ECDF\",\"X1 ECDF\",\"X1 ECDF\",\"X1 ECDF\",\"X1 ECDF\",\"X1 ECDF\",\"X1 ECDF\",\"X1 ECDF\",\"X1 ECDF\",\"X1 ECDF\",\"X1 ECDF\",\"X1 ECDF\",\"X1 ECDF\",\"X1 ECDF\",\"X1 ECDF\",\"X1 ECDF\",\"X1 ECDF\",\"X1 ECDF\",\"X1 ECDF\",\"X1 ECDF\",\"X1 ECDF\",\"X1 ECDF\",\"X1 ECDF\",\"X1 ECDF\",\"X1 ECDF\",\"X1 ECDF\",\"X1 ECDF\",\"X1 ECDF\",\"X1 ECDF\",\"X1 ECDF\",\"X1 ECDF\",\"X1 ECDF\",\"X1 ECDF\",\"X1 ECDF\",\"X1 ECDF\",\"X1 ECDF\",\"X1 ECDF\",\"X1 ECDF\",\"X1 ECDF\",\"X1 ECDF\",\"X1 ECDF\",\"X1 ECDF\",\"X1 ECDF\",\"X1 ECDF\",\"X1 ECDF\",\"X1 ECDF\",\"X1 ECDF\",\"X1 ECDF\",\"X1 ECDF\",\"X1 ECDF\",\"X1 ECDF\",\"X1 ECDF\",\"X1 ECDF\",\"X1 ECDF\",\"X1 ECDF\",\"X1 ECDF\",\"X1 ECDF\",\"X1 ECDF\",\"X1 ECDF\",\"X1 ECDF\",\"X1 ECDF\",\"X1 ECDF\",\"X1 ECDF\",\"X1 ECDF\",\"X1 ECDF\",\"X1 ECDF\",\"X1 ECDF\",\"X1 ECDF\",\"X1 ECDF\",\"X1 ECDF\",\"X1 ECDF\",\"X1 ECDF\",\"X1 ECDF\",\"X1 ECDF\",\"X1 ECDF\",\"X1 ECDF\",\"X1 ECDF\",\"X1 ECDF\",\"X1 ECDF\",\"X1 ECDF\",\"X1 ECDF\",\"X1 ECDF\",\"X1 ECDF\",\"X1 ECDF\",\"X1 ECDF\",\"X1 ECDF\",\"X1 ECDF\",\"X1 ECDF\",\"X1 ECDF\",\"X1 ECDF\",\"X1 ECDF\",\"X1 ECDF\",\"X1 ECDF\",\"X1 ECDF\",\"X1 ECDF\",\"X1 ECDF\",\"X1 ECDF\",\"X1 ECDF\",\"X1 ECDF\",\"X1 ECDF\",\"X1 ECDF\",\"X1 ECDF\",\"X1 ECDF\",\"X1 ECDF\",\"X1 ECDF\",\"X1 ECDF\",\"X1 ECDF\",\"X1 ECDF\",\"X1 ECDF\",\"X1 ECDF\",\"X1 ECDF\",\"X1 ECDF\",\"X1 ECDF\",\"X1 ECDF\",\"X1 ECDF\",\"X1 ECDF\",\"X1 ECDF\",\"X1 ECDF\",\"X1 ECDF\",\"X1 ECDF\",\"X1 ECDF\",\"X1 ECDF\",\"X1 ECDF\",\"X1 ECDF\",\"X1 ECDF\",\"X1 ECDF\",\"X1 ECDF\",\"X1 ECDF\",\"X1 ECDF\",\"X1 ECDF\",\"X1 ECDF\",\"X1 ECDF\",\"X1 ECDF\",\"X1 ECDF\",\"X1 ECDF\",\"X1 ECDF\",\"X1 ECDF\",\"X1 ECDF\",\"X1 ECDF\",\"X1 ECDF\",\"X1 ECDF\",\"X1 ECDF\",\"X1 ECDF\",\"X1 ECDF\",\"X1 ECDF\",\"X1 ECDF\",\"X1 ECDF\",\"X1 ECDF\",\"X1 ECDF\",\"X1 ECDF\",\"X1 ECDF\",\"X1 ECDF\",\"X1 ECDF\",\"X1 ECDF\",\"X1 ECDF\",\"X1 ECDF\",\"X1 ECDF\",\"X1 ECDF\",\"X1 ECDF\",\"X1 ECDF\",\"X1 ECDF\",\"X1 ECDF\",\"X1 ECDF\",\"X1 ECDF\",\"X1 ECDF\",\"X1 ECDF\",\"X1 ECDF\",\"X1 ECDF\",\"X1 ECDF\",\"X1 ECDF\",\"X1 ECDF\",\"X1 ECDF\",\"X1 ECDF\",\"X1 ECDF\",\"X1 ECDF\",\"X1 ECDF\",\"X1 ECDF\",\"X1 ECDF\",\"X1 ECDF\",\"X1 ECDF\",\"X1 ECDF\",\"X1 ECDF\",\"X1 ECDF\",\"X1 ECDF\",\"X1 ECDF\",\"X1 ECDF\",\"X1 ECDF\",\"X1 ECDF\",\"X1 ECDF\",\"X1 ECDF\",\"X1 ECDF\",\"X1 ECDF\",\"X1 ECDF\",\"X1 ECDF\",\"X1 ECDF\",\"X1 ECDF\",\"X1 ECDF\",\"X1 ECDF\",\"X1 ECDF\",\"X1 ECDF\",\"X1 ECDF\",\"X1 ECDF\",\"X1 ECDF\",\"X1 ECDF\",\"X1 ECDF\",\"X1 ECDF\",\"X1 ECDF\",\"X1 ECDF\",\"X1 ECDF\",\"X1 ECDF\",\"X1 ECDF\",\"X1 ECDF\",\"X1 ECDF\",\"X1 ECDF\",\"X1 ECDF\",\"X1 ECDF\",\"X1 ECDF\",\"X1 ECDF\",\"X1 ECDF\",\"X1 ECDF\",\"X1 ECDF\",\"X1 ECDF\",\"X1 ECDF\",\"X1 ECDF\",\"X1 ECDF\",\"X1 ECDF\",\"X1 ECDF\",\"X1 ECDF\",\"X1 ECDF\",\"X1 ECDF\",\"X1 ECDF\",\"X1 ECDF\",\"X1 ECDF\",\"X1 ECDF\",\"X1 ECDF\",\"X1 ECDF\",\"X1 ECDF\",\"X1 ECDF\",\"X1 ECDF\",\"X1 ECDF\",\"X1 ECDF\",\"X1 ECDF\",\"X1 ECDF\",\"X1 ECDF\",\"X1 ECDF\",\"X1 ECDF\",\"X1 ECDF\",\"X1 ECDF\",\"X1 ECDF\",\"X1 ECDF\",\"X1 ECDF\",\"X1 ECDF\",\"X1 ECDF\",\"X1 ECDF\",\"X1 ECDF\",\"X1 ECDF\",\"X1 ECDF\",\"X1 ECDF\",\"X1 ECDF\",\"X1 ECDF\",\"X1 ECDF\",\"X1 ECDF\",\"X1 ECDF\",\"X1 ECDF\",\"X1 ECDF\",\"X1 ECDF\",\"X1 ECDF\",\"X1 ECDF\",\"X1 ECDF\",\"X1 ECDF\",\"X1 ECDF\",\"X1 ECDF\",\"X1 ECDF\",\"X1 ECDF\",\"X1 ECDF\",\"X1 ECDF\",\"X1 ECDF\",\"X1 ECDF\",\"X1 ECDF\",\"X1 ECDF\",\"X1 ECDF\",\"X1 ECDF\",\"X1 ECDF\",\"X1 ECDF\",\"X1 ECDF\",\"X1 ECDF\",\"X1 ECDF\",\"X1 ECDF\",\"X1 ECDF\",\"X1 ECDF\",\"X1 ECDF\",\"X1 ECDF\",\"X1 ECDF\",\"X1 ECDF\",\"X1 ECDF\",\"X1 ECDF\",\"X1 ECDF\",\"X1 ECDF\",\"X1 ECDF\",\"X1 ECDF\",\"X1 ECDF\",\"X1 ECDF\",\"X1 ECDF\",\"X1 ECDF\",\"X1 ECDF\",\"X1 ECDF\",\"X1 ECDF\",\"X1 ECDF\",\"X1 ECDF\",\"X1 ECDF\",\"X1 ECDF\",\"X1 ECDF\",\"X1 ECDF\",\"X1 ECDF\",\"X1 ECDF\",\"X1 ECDF\",\"X1 ECDF\",\"X1 ECDF\",\"X1 ECDF\",\"X1 ECDF\",\"X1 ECDF\",\"X1 ECDF\",\"X1 ECDF\",\"X1 ECDF\",\"X1 ECDF\",\"X1 ECDF\",\"X1 ECDF\",\"X1 ECDF\",\"X1 ECDF\",\"X1 ECDF\",\"X1 ECDF\",\"X1 ECDF\",\"X1 ECDF\",\"X1 ECDF\",\"X1 ECDF\",\"X1 ECDF\",\"X1 ECDF\",\"X1 ECDF\",\"X1 ECDF\",\"X1 ECDF\",\"X1 ECDF\",\"X1 ECDF\",\"X1 ECDF\",\"X1 ECDF\",\"X1 ECDF\",\"X1 ECDF\",\"X1 ECDF\",\"X1 ECDF\",\"X1 ECDF\",\"X1 ECDF\",\"X1 ECDF\",\"X1 ECDF\",\"X1 ECDF\",\"X1 ECDF\",\"X1 ECDF\",\"X1 ECDF\",\"X1 ECDF\",\"X1 ECDF\",\"X1 ECDF\",\"X1 ECDF\",\"X1 ECDF\",\"X1 ECDF\",\"X1 ECDF\",\"X1 ECDF\",\"X1 ECDF\",\"X1 ECDF\",\"X1 ECDF\",\"X1 ECDF\",\"X1 ECDF\",\"X1 ECDF\",\"X1 ECDF\",\"X1 ECDF\",\"X1 ECDF\",\"X1 ECDF\",\"X1 ECDF\",\"X1 ECDF\",\"X1 ECDF\",\"X1 ECDF\",\"X1 ECDF\",\"X1 ECDF\",\"X1 ECDF\",\"X1 ECDF\",\"X1 ECDF\",\"X1 ECDF\",\"X1 ECDF\",\"X1 ECDF\",\"X1 ECDF\",\"X1 ECDF\",\"X1 ECDF\",\"X1 ECDF\",\"X1 ECDF\",\"X1 ECDF\",\"X1 ECDF\",\"X1 ECDF\",\"X1 ECDF\"],\"__label\":[\"X1 ECDF\",\"X1 ECDF\",\"X1 ECDF\",\"X1 ECDF\",\"X1 ECDF\",\"X1 ECDF\",\"X1 ECDF\",\"X1 ECDF\",\"X1 ECDF\",\"X1 ECDF\",\"X1 ECDF\",\"X1 ECDF\",\"X1 ECDF\",\"X1 ECDF\",\"X1 ECDF\",\"X1 ECDF\",\"X1 ECDF\",\"X1 ECDF\",\"X1 ECDF\",\"X1 ECDF\",\"X1 ECDF\",\"X1 ECDF\",\"X1 ECDF\",\"X1 ECDF\",\"X1 ECDF\",\"X1 ECDF\",\"X1 ECDF\",\"X1 ECDF\",\"X1 ECDF\",\"X1 ECDF\",\"X1 ECDF\",\"X1 ECDF\",\"X1 ECDF\",\"X1 ECDF\",\"X1 ECDF\",\"X1 ECDF\",\"X1 ECDF\",\"X1 ECDF\",\"X1 ECDF\",\"X1 ECDF\",\"X1 ECDF\",\"X1 ECDF\",\"X1 ECDF\",\"X1 ECDF\",\"X1 ECDF\",\"X1 ECDF\",\"X1 ECDF\",\"X1 ECDF\",\"X1 ECDF\",\"X1 ECDF\",\"X1 ECDF\",\"X1 ECDF\",\"X1 ECDF\",\"X1 ECDF\",\"X1 ECDF\",\"X1 ECDF\",\"X1 ECDF\",\"X1 ECDF\",\"X1 ECDF\",\"X1 ECDF\",\"X1 ECDF\",\"X1 ECDF\",\"X1 ECDF\",\"X1 ECDF\",\"X1 ECDF\",\"X1 ECDF\",\"X1 ECDF\",\"X1 ECDF\",\"X1 ECDF\",\"X1 ECDF\",\"X1 ECDF\",\"X1 ECDF\",\"X1 ECDF\",\"X1 ECDF\",\"X1 ECDF\",\"X1 ECDF\",\"X1 ECDF\",\"X1 ECDF\",\"X1 ECDF\",\"X1 ECDF\",\"X1 ECDF\",\"X1 ECDF\",\"X1 ECDF\",\"X1 ECDF\",\"X1 ECDF\",\"X1 ECDF\",\"X1 ECDF\",\"X1 ECDF\",\"X1 ECDF\",\"X1 ECDF\",\"X1 ECDF\",\"X1 ECDF\",\"X1 ECDF\",\"X1 ECDF\",\"X1 ECDF\",\"X1 ECDF\",\"X1 ECDF\",\"X1 ECDF\",\"X1 ECDF\",\"X1 ECDF\",\"X1 ECDF\",\"X1 ECDF\",\"X1 ECDF\",\"X1 ECDF\",\"X1 ECDF\",\"X1 ECDF\",\"X1 ECDF\",\"X1 ECDF\",\"X1 ECDF\",\"X1 ECDF\",\"X1 ECDF\",\"X1 ECDF\",\"X1 ECDF\",\"X1 ECDF\",\"X1 ECDF\",\"X1 ECDF\",\"X1 ECDF\",\"X1 ECDF\",\"X1 ECDF\",\"X1 ECDF\",\"X1 ECDF\",\"X1 ECDF\",\"X1 ECDF\",\"X1 ECDF\",\"X1 ECDF\",\"X1 ECDF\",\"X1 ECDF\",\"X1 ECDF\",\"X1 ECDF\",\"X1 ECDF\",\"X1 ECDF\",\"X1 ECDF\",\"X1 ECDF\",\"X1 ECDF\",\"X1 ECDF\",\"X1 ECDF\",\"X1 ECDF\",\"X1 ECDF\",\"X1 ECDF\",\"X1 ECDF\",\"X1 ECDF\",\"X1 ECDF\",\"X1 ECDF\",\"X1 ECDF\",\"X1 ECDF\",\"X1 ECDF\",\"X1 ECDF\",\"X1 ECDF\",\"X1 ECDF\",\"X1 ECDF\",\"X1 ECDF\",\"X1 ECDF\",\"X1 ECDF\",\"X1 ECDF\",\"X1 ECDF\",\"X1 ECDF\",\"X1 ECDF\",\"X1 ECDF\",\"X1 ECDF\",\"X1 ECDF\",\"X1 ECDF\",\"X1 ECDF\",\"X1 ECDF\",\"X1 ECDF\",\"X1 ECDF\",\"X1 ECDF\",\"X1 ECDF\",\"X1 ECDF\",\"X1 ECDF\",\"X1 ECDF\",\"X1 ECDF\",\"X1 ECDF\",\"X1 ECDF\",\"X1 ECDF\",\"X1 ECDF\",\"X1 ECDF\",\"X1 ECDF\",\"X1 ECDF\",\"X1 ECDF\",\"X1 ECDF\",\"X1 ECDF\",\"X1 ECDF\",\"X1 ECDF\",\"X1 ECDF\",\"X1 ECDF\",\"X1 ECDF\",\"X1 ECDF\",\"X1 ECDF\",\"X1 ECDF\",\"X1 ECDF\",\"X1 ECDF\",\"X1 ECDF\",\"X1 ECDF\",\"X1 ECDF\",\"X1 ECDF\",\"X1 ECDF\",\"X1 ECDF\",\"X1 ECDF\",\"X1 ECDF\",\"X1 ECDF\",\"X1 ECDF\",\"X1 ECDF\",\"X1 ECDF\",\"X1 ECDF\",\"X1 ECDF\",\"X1 ECDF\",\"X1 ECDF\",\"X1 ECDF\",\"X1 ECDF\",\"X1 ECDF\",\"X1 ECDF\",\"X1 ECDF\",\"X1 ECDF\",\"X1 ECDF\",\"X1 ECDF\",\"X1 ECDF\",\"X1 ECDF\",\"X1 ECDF\",\"X1 ECDF\",\"X1 ECDF\",\"X1 ECDF\",\"X1 ECDF\",\"X1 ECDF\",\"X1 ECDF\",\"X1 ECDF\",\"X1 ECDF\",\"X1 ECDF\",\"X1 ECDF\",\"X1 ECDF\",\"X1 ECDF\",\"X1 ECDF\",\"X1 ECDF\",\"X1 ECDF\",\"X1 ECDF\",\"X1 ECDF\",\"X1 ECDF\",\"X1 ECDF\",\"X1 ECDF\",\"X1 ECDF\",\"X1 ECDF\",\"X1 ECDF\",\"X1 ECDF\",\"X1 ECDF\",\"X1 ECDF\",\"X1 ECDF\",\"X1 ECDF\",\"X1 ECDF\",\"X1 ECDF\",\"X1 ECDF\",\"X1 ECDF\",\"X1 ECDF\",\"X1 ECDF\",\"X1 ECDF\",\"X1 ECDF\",\"X1 ECDF\",\"X1 ECDF\",\"X1 ECDF\",\"X1 ECDF\",\"X1 ECDF\",\"X1 ECDF\",\"X1 ECDF\",\"X1 ECDF\",\"X1 ECDF\",\"X1 ECDF\",\"X1 ECDF\",\"X1 ECDF\",\"X1 ECDF\",\"X1 ECDF\",\"X1 ECDF\",\"X1 ECDF\",\"X1 ECDF\",\"X1 ECDF\",\"X1 ECDF\",\"X1 ECDF\",\"X1 ECDF\",\"X1 ECDF\",\"X1 ECDF\",\"X1 ECDF\",\"X1 ECDF\",\"X1 ECDF\",\"X1 ECDF\",\"X1 ECDF\",\"X1 ECDF\",\"X1 ECDF\",\"X1 ECDF\",\"X1 ECDF\",\"X1 ECDF\",\"X1 ECDF\",\"X1 ECDF\",\"X1 ECDF\",\"X1 ECDF\",\"X1 ECDF\",\"X1 ECDF\",\"X1 ECDF\",\"X1 ECDF\",\"X1 ECDF\",\"X1 ECDF\",\"X1 ECDF\",\"X1 ECDF\",\"X1 ECDF\",\"X1 ECDF\",\"X1 ECDF\",\"X1 ECDF\",\"X1 ECDF\",\"X1 ECDF\",\"X1 ECDF\",\"X1 ECDF\",\"X1 ECDF\",\"X1 ECDF\",\"X1 ECDF\",\"X1 ECDF\",\"X1 ECDF\",\"X1 ECDF\",\"X1 ECDF\",\"X1 ECDF\",\"X1 ECDF\",\"X1 ECDF\",\"X1 ECDF\",\"X1 ECDF\",\"X1 ECDF\",\"X1 ECDF\",\"X1 ECDF\",\"X1 ECDF\",\"X1 ECDF\",\"X1 ECDF\",\"X1 ECDF\",\"X1 ECDF\",\"X1 ECDF\",\"X1 ECDF\",\"X1 ECDF\",\"X1 ECDF\",\"X1 ECDF\",\"X1 ECDF\",\"X1 ECDF\",\"X1 ECDF\",\"X1 ECDF\",\"X1 ECDF\",\"X1 ECDF\",\"X1 ECDF\",\"X1 ECDF\",\"X1 ECDF\",\"X1 ECDF\",\"X1 ECDF\",\"X1 ECDF\",\"X1 ECDF\",\"X1 ECDF\",\"X1 ECDF\",\"X1 ECDF\",\"X1 ECDF\",\"X1 ECDF\",\"X1 ECDF\",\"X1 ECDF\",\"X1 ECDF\",\"X1 ECDF\",\"X1 ECDF\",\"X1 ECDF\",\"X1 ECDF\",\"X1 ECDF\",\"X1 ECDF\",\"X1 ECDF\",\"X1 ECDF\",\"X1 ECDF\",\"X1 ECDF\",\"X1 ECDF\",\"X1 ECDF\",\"X1 ECDF\",\"X1 ECDF\",\"X1 ECDF\",\"X1 ECDF\",\"X1 ECDF\",\"X1 ECDF\",\"X1 ECDF\",\"X1 ECDF\",\"X1 ECDF\",\"X1 ECDF\",\"X1 ECDF\",\"X1 ECDF\",\"X1 ECDF\",\"X1 ECDF\",\"X1 ECDF\",\"X1 ECDF\",\"X1 ECDF\",\"X1 ECDF\",\"X1 ECDF\",\"X1 ECDF\",\"X1 ECDF\",\"X1 ECDF\",\"X1 ECDF\",\"X1 ECDF\",\"X1 ECDF\",\"X1 ECDF\",\"X1 ECDF\",\"X1 ECDF\",\"X1 ECDF\",\"X1 ECDF\",\"X1 ECDF\",\"X1 ECDF\",\"X1 ECDF\",\"X1 ECDF\",\"X1 ECDF\",\"X1 ECDF\",\"X1 ECDF\",\"X1 ECDF\",\"X1 ECDF\",\"X1 ECDF\",\"X1 ECDF\",\"X1 ECDF\",\"X1 ECDF\",\"X1 ECDF\",\"X1 ECDF\",\"X1 ECDF\",\"X1 ECDF\",\"X1 ECDF\",\"X1 ECDF\",\"X1 ECDF\",\"X1 ECDF\",\"X1 ECDF\",\"X1 ECDF\",\"X1 ECDF\",\"X1 ECDF\",\"X1 ECDF\",\"X1 ECDF\",\"X1 ECDF\",\"X1 ECDF\",\"X1 ECDF\",\"X1 ECDF\",\"X1 ECDF\",\"X1 ECDF\",\"X1 ECDF\",\"X1 ECDF\",\"X1 ECDF\",\"X1 ECDF\",\"X1 ECDF\",\"X1 ECDF\",\"X1 ECDF\",\"X1 ECDF\",\"X1 ECDF\",\"X1 ECDF\",\"X1 ECDF\",\"X1 ECDF\",\"X1 ECDF\",\"X1 ECDF\",\"X1 ECDF\",\"X1 ECDF\",\"X1 ECDF\",\"X1 ECDF\",\"X1 ECDF\",\"X1 ECDF\",\"X1 ECDF\",\"X1 ECDF\",\"X1 ECDF\",\"X1 ECDF\",\"X1 ECDF\",\"X1 ECDF\",\"X1 ECDF\",\"X1 ECDF\",\"X1 ECDF\",\"X1 ECDF\",\"X1 ECDF\",\"X1 ECDF\",\"X1 ECDF\",\"X1 ECDF\",\"X1 ECDF\",\"X1 ECDF\",\"X1 ECDF\",\"X1 ECDF\",\"X1 ECDF\",\"X1 ECDF\",\"X1 ECDF\",\"X1 ECDF\",\"X1 ECDF\",\"X1 ECDF\",\"X1 ECDF\",\"X1 ECDF\",\"X1 ECDF\",\"X1 ECDF\",\"X1 ECDF\",\"X1 ECDF\",\"X1 ECDF\",\"X1 ECDF\",\"X1 ECDF\",\"X1 ECDF\",\"X1 ECDF\",\"X1 ECDF\",\"X1 ECDF\",\"X1 ECDF\",\"X1 ECDF\",\"X1 ECDF\",\"X1 ECDF\",\"X1 ECDF\",\"X1 ECDF\",\"X1 ECDF\",\"X1 ECDF\",\"X1 ECDF\",\"X1 ECDF\",\"X1 ECDF\",\"X1 ECDF\",\"X1 ECDF\",\"X1 ECDF\",\"X1 ECDF\",\"X1 ECDF\",\"X1 ECDF\",\"X1 ECDF\",\"X1 ECDF\",\"X1 ECDF\",\"X1 ECDF\",\"X1 ECDF\",\"X1 ECDF\",\"X1 ECDF\",\"X1 ECDF\",\"X1 ECDF\",\"X1 ECDF\",\"X1 ECDF\",\"X1 ECDF\",\"X1 ECDF\",\"X1 ECDF\",\"X1 ECDF\",\"X1 ECDF\",\"X1 ECDF\",\"X1 ECDF\",\"X1 ECDF\",\"X1 ECDF\",\"X1 ECDF\",\"X1 ECDF\",\"X1 ECDF\",\"X1 ECDF\",\"X1 ECDF\",\"X1 ECDF\",\"X1 ECDF\",\"X1 ECDF\",\"X1 ECDF\",\"X1 ECDF\",\"X1 ECDF\",\"X1 ECDF\",\"X1 ECDF\",\"X1 ECDF\",\"X1 ECDF\",\"X1 ECDF\",\"X1 ECDF\",\"X1 ECDF\",\"X1 ECDF\",\"X1 ECDF\",\"X1 ECDF\",\"X1 ECDF\",\"X1 ECDF\",\"X1 ECDF\",\"X1 ECDF\",\"X1 ECDF\",\"X1 ECDF\",\"X1 ECDF\",\"X1 ECDF\",\"X1 ECDF\",\"X1 ECDF\",\"X1 ECDF\",\"X1 ECDF\",\"X1 ECDF\",\"X1 ECDF\",\"X1 ECDF\",\"X1 ECDF\",\"X1 ECDF\",\"X1 ECDF\",\"X1 ECDF\",\"X1 ECDF\",\"X1 ECDF\",\"X1 ECDF\",\"X1 ECDF\",\"X1 ECDF\",\"X1 ECDF\",\"X1 ECDF\",\"X1 ECDF\",\"X1 ECDF\",\"X1 ECDF\",\"X1 ECDF\",\"X1 ECDF\",\"X1 ECDF\",\"X1 ECDF\",\"X1 ECDF\",\"X1 ECDF\",\"X1 ECDF\",\"X1 ECDF\",\"X1 ECDF\",\"X1 ECDF\",\"X1 ECDF\",\"X1 ECDF\",\"X1 ECDF\",\"X1 ECDF\",\"X1 ECDF\",\"X1 ECDF\",\"X1 ECDF\",\"X1 ECDF\",\"X1 ECDF\",\"X1 ECDF\",\"X1 ECDF\",\"X1 ECDF\",\"X1 ECDF\",\"X1 ECDF\",\"X1 ECDF\",\"X1 ECDF\",\"X1 ECDF\",\"X1 ECDF\",\"X1 ECDF\",\"X1 ECDF\",\"X1 ECDF\",\"X1 ECDF\",\"X1 ECDF\",\"X1 ECDF\",\"X1 ECDF\",\"X1 ECDF\",\"X1 ECDF\",\"X1 ECDF\",\"X1 ECDF\",\"X1 ECDF\",\"X1 ECDF\",\"X1 ECDF\",\"X1 ECDF\",\"X1 ECDF\",\"X1 ECDF\",\"X1 ECDF\",\"X1 ECDF\",\"X1 ECDF\",\"X1 ECDF\",\"X1 ECDF\",\"X1 ECDF\",\"X1 ECDF\",\"X1 ECDF\",\"X1 ECDF\",\"X1 ECDF\",\"X1 ECDF\",\"X1 ECDF\",\"X1 ECDF\",\"X1 ECDF\",\"X1 ECDF\",\"X1 ECDF\",\"X1 ECDF\",\"X1 ECDF\",\"X1 ECDF\",\"X1 ECDF\",\"X1 ECDF\",\"X1 ECDF\",\"X1 ECDF\",\"X1 ECDF\",\"X1 ECDF\",\"X1 ECDF\",\"X1 ECDF\",\"X1 ECDF\",\"X1 ECDF\",\"X1 ECDF\",\"X1 ECDF\",\"X1 ECDF\",\"X1 ECDF\",\"X1 ECDF\",\"X1 ECDF\",\"X1 ECDF\",\"X1 ECDF\",\"X1 ECDF\",\"X1 ECDF\",\"X1 ECDF\",\"X1 ECDF\",\"X1 ECDF\",\"X1 ECDF\",\"X1 ECDF\",\"X1 ECDF\",\"X1 ECDF\",\"X1 ECDF\",\"X1 ECDF\",\"X1 ECDF\",\"X1 ECDF\",\"X1 ECDF\",\"X1 ECDF\",\"X1 ECDF\",\"X1 ECDF\",\"X1 ECDF\",\"X1 ECDF\",\"X1 ECDF\",\"X1 ECDF\",\"X1 ECDF\",\"X1 ECDF\",\"X1 ECDF\",\"X1 ECDF\",\"X1 ECDF\",\"X1 ECDF\",\"X1 ECDF\",\"X1 ECDF\",\"X1 ECDF\",\"X1 ECDF\",\"X1 ECDF\",\"X1 ECDF\",\"X1 ECDF\",\"X1 ECDF\",\"X1 ECDF\",\"X1 ECDF\",\"X1 ECDF\",\"X1 ECDF\",\"X1 ECDF\",\"X1 ECDF\",\"X1 ECDF\",\"X1 ECDF\",\"X1 ECDF\",\"X1 ECDF\",\"X1 ECDF\",\"X1 ECDF\",\"X1 ECDF\",\"X1 ECDF\",\"X1 ECDF\",\"X1 ECDF\",\"X1 ECDF\",\"X1 ECDF\",\"X1 ECDF\",\"X1 ECDF\",\"X1 ECDF\",\"X1 ECDF\",\"X1 ECDF\",\"X1 ECDF\",\"X1 ECDF\",\"X1 ECDF\",\"X1 ECDF\",\"X1 ECDF\",\"X1 ECDF\",\"X1 ECDF\",\"X1 ECDF\",\"X1 ECDF\",\"X1 ECDF\",\"X1 ECDF\",\"X1 ECDF\",\"X1 ECDF\",\"X1 ECDF\",\"X1 ECDF\",\"X1 ECDF\",\"X1 ECDF\",\"X1 ECDF\",\"X1 ECDF\",\"X1 ECDF\",\"X1 ECDF\",\"X1 ECDF\",\"X1 ECDF\",\"X1 ECDF\",\"X1 ECDF\",\"X1 ECDF\",\"X1 ECDF\",\"X1 ECDF\",\"X1 ECDF\",\"X1 ECDF\",\"X1 ECDF\",\"X1 ECDF\",\"X1 ECDF\",\"X1 ECDF\",\"X1 ECDF\",\"X1 ECDF\",\"X1 ECDF\",\"X1 ECDF\",\"X1 ECDF\",\"X1 ECDF\",\"X1 ECDF\",\"X1 ECDF\",\"X1 ECDF\",\"X1 ECDF\",\"X1 ECDF\",\"X1 ECDF\",\"X1 ECDF\",\"X1 ECDF\",\"X1 ECDF\",\"X1 ECDF\",\"X1 ECDF\",\"X1 ECDF\",\"X1 ECDF\",\"X1 ECDF\",\"X1 ECDF\",\"X1 ECDF\",\"X1 ECDF\",\"X1 ECDF\",\"X1 ECDF\",\"X1 ECDF\",\"X1 ECDF\",\"X1 ECDF\",\"X1 ECDF\",\"X1 ECDF\",\"X1 ECDF\",\"X1 ECDF\",\"X1 ECDF\",\"X1 ECDF\",\"X1 ECDF\",\"X1 ECDF\",\"X1 ECDF\",\"X1 ECDF\",\"X1 ECDF\",\"X1 ECDF\",\"X1 ECDF\",\"X1 ECDF\",\"X1 ECDF\",\"X1 ECDF\",\"X1 ECDF\",\"X1 ECDF\",\"X1 ECDF\",\"X1 ECDF\",\"X1 ECDF\",\"X1 ECDF\",\"X1 ECDF\",\"X1 ECDF\",\"X1 ECDF\",\"X1 ECDF\",\"X1 ECDF\",\"X1 ECDF\",\"X1 ECDF\",\"X1 ECDF\",\"X1 ECDF\",\"X1 ECDF\",\"X1 ECDF\",\"X1 ECDF\",\"X1 ECDF\",\"X1 ECDF\",\"X1 ECDF\",\"X1 ECDF\",\"X1 ECDF\",\"X1 ECDF\",\"X1 ECDF\",\"X1 ECDF\",\"X1 ECDF\",\"X1 ECDF\",\"X1 ECDF\",\"X1 ECDF\",\"X1 ECDF\",\"X1 ECDF\",\"X1 ECDF\",\"X1 ECDF\",\"X1 ECDF\",\"X1 ECDF\",\"X1 ECDF\",\"X1 ECDF\",\"X1 ECDF\",\"X1 ECDF\",\"X1 ECDF\",\"X1 ECDF\",\"X1 ECDF\",\"X1 ECDF\",\"X1 ECDF\",\"X1 ECDF\",\"X1 ECDF\",\"X1 ECDF\",\"X1 ECDF\",\"X1 ECDF\",\"X1 ECDF\",\"X1 ECDF\",\"X1 ECDF\",\"X1 ECDF\",\"X1 ECDF\",\"X1 ECDF\",\"X1 ECDF\",\"X1 ECDF\",\"X1 ECDF\",\"X1 ECDF\",\"X1 ECDF\",\"X1 ECDF\",\"X1 ECDF\",\"X1 ECDF\",\"X1 ECDF\",\"X1 ECDF\",\"X1 ECDF\",\"X1 ECDF\",\"X1 ECDF\",\"X1 ECDF\",\"X1 ECDF\",\"X1 ECDF\",\"X1 ECDF\",\"X1 ECDF\",\"X1 ECDF\",\"X1 ECDF\",\"X1 ECDF\",\"X1 ECDF\",\"X1 ECDF\",\"X1 ECDF\",\"X1 ECDF\",\"X1 ECDF\",\"X1 ECDF\",\"X1 ECDF\",\"X1 ECDF\",\"X1 ECDF\",\"X1 ECDF\",\"X1 ECDF\",\"X1 ECDF\",\"X1 ECDF\",\"X1 ECDF\",\"X1 ECDF\",\"X1 ECDF\",\"X1 ECDF\",\"X1 ECDF\",\"X1 ECDF\",\"X1 ECDF\",\"X1 ECDF\",\"X1 ECDF\",\"X1 ECDF\",\"X1 ECDF\",\"X1 ECDF\",\"X1 ECDF\",\"X1 ECDF\",\"X1 ECDF\",\"X1 ECDF\",\"X1 ECDF\",\"X1 ECDF\",\"X1 ECDF\",\"X1 ECDF\",\"X1 ECDF\",\"X1 ECDF\",\"X1 ECDF\",\"X1 ECDF\",\"X1 ECDF\",\"X1 ECDF\",\"X1 ECDF\",\"X1 ECDF\",\"X1 ECDF\",\"X1 ECDF\",\"X1 ECDF\",\"X1 ECDF\",\"X1 ECDF\",\"X1 ECDF\",\"X1 ECDF\",\"X1 ECDF\",\"X1 ECDF\",\"X1 ECDF\",\"X1 ECDF\",\"X1 ECDF\",\"X1 ECDF\",\"X1 ECDF\",\"X1 ECDF\",\"X1 ECDF\",\"X1 ECDF\",\"X1 ECDF\",\"X1 ECDF\",\"X1 ECDF\",\"X1 ECDF\",\"X1 ECDF\",\"X1 ECDF\",\"X1 ECDF\",\"X1 ECDF\",\"X1 ECDF\",\"X1 ECDF\",\"X1 ECDF\",\"X1 ECDF\",\"X1 ECDF\",\"X1 ECDF\",\"X1 ECDF\",\"X1 ECDF\",\"X1 ECDF\",\"X1 ECDF\",\"X1 ECDF\",\"X1 ECDF\",\"X1 ECDF\",\"X1 ECDF\",\"X1 ECDF\",\"X1 ECDF\",\"X1 ECDF\",\"X1 ECDF\",\"X1 ECDF\",\"X1 ECDF\",\"X1 ECDF\",\"X1 ECDF\",\"X1 ECDF\",\"X1 ECDF\",\"X1 ECDF\",\"X1 ECDF\",\"X1 ECDF\",\"X1 ECDF\",\"X1 ECDF\",\"X1 ECDF\",\"X1 ECDF\",\"X1 ECDF\",\"X1 ECDF\",\"X1 ECDF\",\"X1 ECDF\",\"X1 ECDF\",\"X1 ECDF\",\"X1 ECDF\",\"X1 ECDF\",\"X1 ECDF\",\"X1 ECDF\",\"X1 ECDF\",\"X1 ECDF\",\"X1 ECDF\",\"X1 ECDF\",\"X1 ECDF\",\"X1 ECDF\",\"X1 ECDF\",\"X1 ECDF\",\"X1 ECDF\",\"X1 ECDF\",\"X1 ECDF\",\"X1 ECDF\",\"X1 ECDF\",\"X1 ECDF\",\"X1 ECDF\",\"X1 ECDF\",\"X1 ECDF\",\"X1 ECDF\",\"X1 ECDF\",\"X1 ECDF\",\"X1 ECDF\",\"X1 ECDF\",\"X1 ECDF\",\"X1 ECDF\",\"X1 ECDF\",\"X1 ECDF\",\"X1 ECDF\",\"X1 ECDF\",\"X1 ECDF\",\"X1 ECDF\",\"X1 ECDF\",\"X1 ECDF\",\"X1 ECDF\",\"X1 ECDF\",\"X1 ECDF\",\"X1 ECDF\",\"X1 ECDF\",\"X1 ECDF\",\"X1 ECDF\",\"X1 ECDF\",\"X1 ECDF\",\"X1 ECDF\",\"X1 ECDF\",\"X1 ECDF\",\"X1 ECDF\",\"X1 ECDF\",\"X1 ECDF\",\"X1 ECDF\",\"X1 ECDF\",\"X1 ECDF\",\"X1 ECDF\",\"X1 ECDF\",\"X1 ECDF\",\"X1 ECDF\",\"X1 ECDF\",\"X1 ECDF\",\"X1 ECDF\",\"X1 ECDF\",\"X1 ECDF\",\"X1 ECDF\",\"X1 ECDF\",\"X1 ECDF\",\"X1 ECDF\",\"X1 ECDF\",\"X1 ECDF\",\"X1 ECDF\",\"X1 ECDF\",\"X1 ECDF\",\"X1 ECDF\",\"X1 ECDF\",\"X1 ECDF\",\"X1 ECDF\",\"X1 ECDF\",\"X1 ECDF\",\"X1 ECDF\",\"X1 ECDF\",\"X1 ECDF\",\"X1 ECDF\",\"X1 ECDF\",\"X1 ECDF\",\"X1 ECDF\",\"X1 ECDF\",\"X1 ECDF\",\"X1 ECDF\",\"X1 ECDF\",\"X1 ECDF\",\"X1 ECDF\",\"X1 ECDF\",\"X1 ECDF\",\"X1 ECDF\",\"X1 ECDF\",\"X1 ECDF\",\"X1 ECDF\",\"X1 ECDF\",\"X1 ECDF\",\"X1 ECDF\",\"X1 ECDF\",\"X1 ECDF\",\"X1 ECDF\",\"X1 ECDF\",\"X1 ECDF\",\"X1 ECDF\",\"X1 ECDF\",\"X1 ECDF\",\"X1 ECDF\",\"X1 ECDF\",\"X1 ECDF\",\"X1 ECDF\",\"X1 ECDF\",\"X1 ECDF\",\"X1 ECDF\",\"X1 ECDF\",\"X1 ECDF\",\"X1 ECDF\",\"X1 ECDF\",\"X1 ECDF\",\"X1 ECDF\",\"X1 ECDF\",\"X1 ECDF\",\"X1 ECDF\",\"X1 ECDF\",\"X1 ECDF\",\"X1 ECDF\",\"X1 ECDF\",\"X1 ECDF\",\"X1 ECDF\",\"X1 ECDF\",\"X1 ECDF\",\"X1 ECDF\",\"X1 ECDF\",\"X1 ECDF\",\"X1 ECDF\",\"X1 ECDF\",\"X1 ECDF\",\"X1 ECDF\",\"X1 ECDF\",\"X1 ECDF\",\"X1 ECDF\",\"X1 ECDF\",\"X1 ECDF\",\"X1 ECDF\",\"X1 ECDF\",\"X1 ECDF\",\"X1 ECDF\",\"X1 ECDF\",\"X1 ECDF\",\"X1 ECDF\",\"X1 ECDF\",\"X1 ECDF\",\"X1 ECDF\",\"X1 ECDF\",\"X1 ECDF\",\"X1 ECDF\",\"X1 ECDF\",\"X1 ECDF\",\"X1 ECDF\",\"X1 ECDF\",\"X1 ECDF\",\"X1 ECDF\",\"X1 ECDF\",\"X1 ECDF\",\"X1 ECDF\",\"X1 ECDF\",\"X1 ECDF\",\"X1 ECDF\",\"X1 ECDF\",\"X1 ECDF\",\"X1 ECDF\",\"X1 ECDF\",\"X1 ECDF\",\"X1 ECDF\",\"X1 ECDF\",\"X1 ECDF\",\"X1 ECDF\",\"X1 ECDF\",\"X1 ECDF\",\"X1 ECDF\",\"X1 ECDF\",\"X1 ECDF\",\"X1 ECDF\",\"X1 ECDF\",\"X1 ECDF\",\"X1 ECDF\",\"X1 ECDF\",\"X1 ECDF\",\"X1 ECDF\",\"X1 ECDF\",\"X1 ECDF\",\"X1 ECDF\",\"X1 ECDF\",\"X1 ECDF\",\"X1 ECDF\",\"X1 ECDF\",\"X1 ECDF\",\"X1 ECDF\",\"X1 ECDF\",\"X1 ECDF\",\"X1 ECDF\",\"X1 ECDF\",\"X1 ECDF\",\"X1 ECDF\",\"X1 ECDF\",\"X1 ECDF\",\"X1 ECDF\",\"X1 ECDF\",\"X1 ECDF\",\"X1 ECDF\",\"X1 ECDF\",\"X1 ECDF\",\"X1 ECDF\",\"X1 ECDF\",\"X1 ECDF\",\"X1 ECDF\",\"X1 ECDF\",\"X1 ECDF\",\"X1 ECDF\",\"X1 ECDF\",\"X1 ECDF\",\"X1 ECDF\",\"X1 ECDF\",\"X1 ECDF\",\"X1 ECDF\",\"X1 ECDF\",\"X1 ECDF\",\"X1 ECDF\",\"X1 ECDF\",\"X1 ECDF\",\"X1 ECDF\",\"X1 ECDF\",\"X1 ECDF\",\"X1 ECDF\",\"X1 ECDF\",\"X1 ECDF\",\"X1 ECDF\",\"X1 ECDF\",\"X1 ECDF\",\"X1 ECDF\",\"X1 ECDF\",\"X1 ECDF\",\"X1 ECDF\",\"X1 ECDF\",\"X1 ECDF\",\"X1 ECDF\",\"X1 ECDF\",\"X1 ECDF\",\"X1 ECDF\",\"X1 ECDF\",\"X1 ECDF\",\"X1 ECDF\",\"X1 ECDF\",\"X1 ECDF\",\"X1 ECDF\",\"X1 ECDF\",\"X1 ECDF\",\"X1 ECDF\",\"X1 ECDF\",\"X1 ECDF\",\"X1 ECDF\",\"X1 ECDF\",\"X1 ECDF\",\"X1 ECDF\",\"X1 ECDF\",\"X1 ECDF\",\"X1 ECDF\",\"X1 ECDF\",\"X1 ECDF\",\"X1 ECDF\",\"X1 ECDF\",\"X1 ECDF\",\"X1 ECDF\",\"X1 ECDF\",\"X1 ECDF\",\"X1 ECDF\",\"X1 ECDF\",\"X1 ECDF\",\"X1 ECDF\",\"X1 ECDF\",\"X1 ECDF\",\"X1 ECDF\",\"X1 ECDF\",\"X1 ECDF\",\"X1 ECDF\",\"X1 ECDF\",\"X1 ECDF\",\"X1 ECDF\",\"X1 ECDF\",\"X1 ECDF\",\"X1 ECDF\",\"X1 ECDF\",\"X1 ECDF\",\"X1 ECDF\",\"X1 ECDF\",\"X1 ECDF\",\"X1 ECDF\",\"X1 ECDF\",\"X1 ECDF\",\"X1 ECDF\",\"X1 ECDF\",\"X1 ECDF\",\"X1 ECDF\",\"X1 ECDF\",\"X1 ECDF\",\"X1 ECDF\",\"X1 ECDF\",\"X1 ECDF\",\"X1 ECDF\",\"X1 ECDF\",\"X1 ECDF\",\"X1 ECDF\",\"X1 ECDF\",\"X1 ECDF\",\"X1 ECDF\",\"X1 ECDF\",\"X1 ECDF\",\"X1 ECDF\",\"X1 ECDF\",\"X1 ECDF\",\"X1 ECDF\",\"X1 ECDF\",\"X1 ECDF\",\"X1 ECDF\",\"X1 ECDF\",\"X1 ECDF\",\"X1 ECDF\",\"X1 ECDF\",\"X1 ECDF\",\"X1 ECDF\",\"X1 ECDF\",\"X1 ECDF\",\"X1 ECDF\",\"X1 ECDF\",\"X1 ECDF\",\"X1 ECDF\",\"X1 ECDF\",\"X1 ECDF\",\"X1 ECDF\",\"X1 ECDF\",\"X1 ECDF\",\"X1 ECDF\",\"X1 ECDF\",\"X1 ECDF\",\"X1 ECDF\",\"X1 ECDF\",\"X1 ECDF\",\"X1 ECDF\",\"X1 ECDF\",\"X1 ECDF\",\"X1 ECDF\",\"X1 ECDF\",\"X1 ECDF\",\"X1 ECDF\",\"X1 ECDF\",\"X1 ECDF\",\"X1 ECDF\",\"X1 ECDF\",\"X1 ECDF\",\"X1 ECDF\",\"X1 ECDF\",\"X1 ECDF\",\"X1 ECDF\",\"X1 ECDF\",\"X1 ECDF\",\"X1 ECDF\",\"X1 ECDF\",\"X1 ECDF\",\"X1 ECDF\",\"X1 ECDF\",\"X1 ECDF\",\"X1 ECDF\",\"X1 ECDF\",\"X1 ECDF\",\"X1 ECDF\",\"X1 ECDF\",\"X1 ECDF\",\"X1 ECDF\",\"X1 ECDF\",\"X1 ECDF\",\"X1 ECDF\",\"X1 ECDF\",\"X1 ECDF\",\"X1 ECDF\",\"X1 ECDF\",\"X1 ECDF\",\"X1 ECDF\",\"X1 ECDF\",\"X1 ECDF\",\"X1 ECDF\",\"X1 ECDF\",\"X1 ECDF\",\"X1 ECDF\",\"X1 ECDF\",\"X1 ECDF\",\"X1 ECDF\",\"X1 ECDF\",\"X1 ECDF\",\"X1 ECDF\",\"X1 ECDF\",\"X1 ECDF\",\"X1 ECDF\",\"X1 ECDF\",\"X1 ECDF\",\"X1 ECDF\",\"X1 ECDF\",\"X1 ECDF\",\"X1 ECDF\",\"X1 ECDF\",\"X1 ECDF\",\"X1 ECDF\",\"X1 ECDF\",\"X1 ECDF\",\"X1 ECDF\",\"X1 ECDF\",\"X1 ECDF\",\"X1 ECDF\",\"X1 ECDF\",\"X1 ECDF\",\"X1 ECDF\",\"X1 ECDF\",\"X1 ECDF\",\"X1 ECDF\",\"X1 ECDF\",\"X1 ECDF\",\"X1 ECDF\",\"X1 ECDF\",\"X1 ECDF\",\"X1 ECDF\",\"X1 ECDF\",\"X1 ECDF\",\"X1 ECDF\",\"X1 ECDF\",\"X1 ECDF\",\"X1 ECDF\",\"X1 ECDF\",\"X1 ECDF\",\"X1 ECDF\",\"X1 ECDF\",\"X1 ECDF\",\"X1 ECDF\",\"X1 ECDF\",\"X1 ECDF\",\"X1 ECDF\",\"X1 ECDF\",\"X1 ECDF\",\"X1 ECDF\",\"X1 ECDF\",\"X1 ECDF\",\"X1 ECDF\",\"X1 ECDF\",\"X1 ECDF\",\"X1 ECDF\",\"X1 ECDF\",\"X1 ECDF\",\"X1 ECDF\",\"X1 ECDF\",\"X1 ECDF\",\"X1 ECDF\",\"X1 ECDF\",\"X1 ECDF\",\"X1 ECDF\",\"X1 ECDF\",\"X1 ECDF\",\"X1 ECDF\",\"X1 ECDF\",\"X1 ECDF\",\"X1 ECDF\",\"X1 ECDF\",\"X1 ECDF\",\"X1 ECDF\",\"X1 ECDF\",\"X1 ECDF\",\"X1 ECDF\",\"X1 ECDF\",\"X1 ECDF\",\"X1 ECDF\",\"X1 ECDF\",\"X1 ECDF\",\"X1 ECDF\",\"X1 ECDF\",\"X1 ECDF\",\"X1 ECDF\",\"X1 ECDF\",\"X1 ECDF\",\"X1 ECDF\",\"X1 ECDF\",\"X1 ECDF\",\"X1 ECDF\",\"X1 ECDF\",\"X1 ECDF\",\"X1 ECDF\",\"X1 ECDF\",\"X1 ECDF\",\"X1 ECDF\",\"X1 ECDF\",\"X1 ECDF\",\"X1 ECDF\",\"X1 ECDF\",\"X1 ECDF\",\"X1 ECDF\",\"X1 ECDF\",\"X1 ECDF\",\"X1 ECDF\",\"X1 ECDF\",\"X1 ECDF\",\"X1 ECDF\",\"X1 ECDF\",\"X1 ECDF\",\"X1 ECDF\",\"X1 ECDF\",\"X1 ECDF\",\"X1 ECDF\",\"X1 ECDF\",\"X1 ECDF\",\"X1 ECDF\",\"X1 ECDF\",\"X1 ECDF\",\"X1 ECDF\",\"X1 ECDF\",\"X1 ECDF\",\"X1 ECDF\",\"X1 ECDF\",\"X1 ECDF\",\"X1 ECDF\",\"X1 ECDF\",\"X1 ECDF\",\"X1 ECDF\",\"X1 ECDF\",\"X1 ECDF\",\"X1 ECDF\",\"X1 ECDF\",\"X1 ECDF\",\"X1 ECDF\",\"X1 ECDF\",\"X1 ECDF\",\"X1 ECDF\",\"X1 ECDF\",\"X1 ECDF\",\"X1 ECDF\",\"X1 ECDF\",\"X1 ECDF\",\"X1 ECDF\",\"X1 ECDF\",\"X1 ECDF\",\"X1 ECDF\",\"X1 ECDF\",\"X1 ECDF\",\"X1 ECDF\",\"X1 ECDF\",\"X1 ECDF\",\"X1 ECDF\",\"X1 ECDF\",\"X1 ECDF\",\"X1 ECDF\",\"X1 ECDF\",\"X1 ECDF\",\"X1 ECDF\",\"X1 ECDF\",\"X1 ECDF\",\"X1 ECDF\",\"X1 ECDF\",\"X1 ECDF\",\"X1 ECDF\",\"X1 ECDF\",\"X1 ECDF\",\"X1 ECDF\",\"X1 ECDF\",\"X1 ECDF\",\"X1 ECDF\",\"X1 ECDF\",\"X1 ECDF\",\"X1 ECDF\",\"X1 ECDF\",\"X1 ECDF\",\"X1 ECDF\",\"X1 ECDF\",\"X1 ECDF\",\"X1 ECDF\",\"X1 ECDF\",\"X1 ECDF\",\"X1 ECDF\",\"X1 ECDF\",\"X1 ECDF\",\"X1 ECDF\",\"X1 ECDF\",\"X1 ECDF\",\"X1 ECDF\",\"X1 ECDF\",\"X1 ECDF\",\"X1 ECDF\",\"X1 ECDF\",\"X1 ECDF\",\"X1 ECDF\",\"X1 ECDF\",\"X1 ECDF\",\"X1 ECDF\",\"X1 ECDF\",\"X1 ECDF\",\"X1 ECDF\",\"X1 ECDF\",\"X1 ECDF\",\"X1 ECDF\",\"X1 ECDF\",\"X1 ECDF\",\"X1 ECDF\",\"X1 ECDF\",\"X1 ECDF\",\"X1 ECDF\",\"X1 ECDF\",\"X1 ECDF\",\"X1 ECDF\",\"X1 ECDF\",\"X1 ECDF\",\"X1 ECDF\",\"X1 ECDF\",\"X1 ECDF\",\"X1 ECDF\",\"X1 ECDF\",\"X1 ECDF\",\"X1 ECDF\",\"X1 ECDF\",\"X1 ECDF\",\"X1 ECDF\",\"X1 ECDF\",\"X1 ECDF\",\"X1 ECDF\",\"X1 ECDF\",\"X1 ECDF\",\"X1 ECDF\",\"X1 ECDF\",\"X1 ECDF\",\"X1 ECDF\",\"X1 ECDF\",\"X1 ECDF\",\"X1 ECDF\",\"X1 ECDF\",\"X1 ECDF\",\"X1 ECDF\",\"X1 ECDF\",\"X1 ECDF\",\"X1 ECDF\",\"X1 ECDF\",\"X1 ECDF\",\"X1 ECDF\",\"X1 ECDF\",\"X1 ECDF\",\"X1 ECDF\",\"X1 ECDF\",\"X1 ECDF\",\"X1 ECDF\",\"X1 ECDF\",\"X1 ECDF\",\"X1 ECDF\",\"X1 ECDF\",\"X1 ECDF\",\"X1 ECDF\",\"X1 ECDF\",\"X1 ECDF\",\"X1 ECDF\",\"X1 ECDF\",\"X1 ECDF\",\"X1 ECDF\",\"X1 ECDF\",\"X1 ECDF\",\"X1 ECDF\",\"X1 ECDF\",\"X1 ECDF\",\"X1 ECDF\",\"X1 ECDF\",\"X1 ECDF\",\"X1 ECDF\",\"X1 ECDF\",\"X1 ECDF\",\"X1 ECDF\",\"X1 ECDF\",\"X1 ECDF\",\"X1 ECDF\",\"X1 ECDF\",\"X1 ECDF\",\"X1 ECDF\",\"X1 ECDF\",\"X1 ECDF\",\"X1 ECDF\",\"X1 ECDF\",\"X1 ECDF\",\"X1 ECDF\",\"X1 ECDF\",\"X1 ECDF\",\"X1 ECDF\",\"X1 ECDF\",\"X1 ECDF\",\"X1 ECDF\",\"X1 ECDF\",\"X1 ECDF\",\"X1 ECDF\",\"X1 ECDF\",\"X1 ECDF\",\"X1 ECDF\",\"X1 ECDF\",\"X1 ECDF\",\"X1 ECDF\",\"X1 ECDF\",\"X1 ECDF\",\"X1 ECDF\",\"X1 ECDF\",\"X1 ECDF\",\"X1 ECDF\",\"X1 ECDF\",\"X1 ECDF\",\"X1 ECDF\",\"X1 ECDF\",\"X1 ECDF\",\"X1 ECDF\",\"X1 ECDF\",\"X1 ECDF\",\"X1 ECDF\",\"X1 ECDF\",\"X1 ECDF\",\"X1 ECDF\",\"X1 ECDF\",\"X1 ECDF\",\"X1 ECDF\",\"X1 ECDF\",\"X1 ECDF\",\"X1 ECDF\",\"X1 ECDF\",\"X1 ECDF\",\"X1 ECDF\",\"X1 ECDF\",\"X1 ECDF\",\"X1 ECDF\",\"X1 ECDF\",\"X1 ECDF\",\"X1 ECDF\",\"X1 ECDF\",\"X1 ECDF\",\"X1 ECDF\",\"X1 ECDF\",\"X1 ECDF\",\"X1 ECDF\",\"X1 ECDF\",\"X1 ECDF\",\"X1 ECDF\",\"X1 ECDF\",\"X1 ECDF\",\"X1 ECDF\",\"X1 ECDF\",\"X1 ECDF\",\"X1 ECDF\",\"X1 ECDF\",\"X1 ECDF\",\"X1 ECDF\",\"X1 ECDF\",\"X1 ECDF\",\"X1 ECDF\",\"X1 ECDF\",\"X1 ECDF\",\"X1 ECDF\",\"X1 ECDF\",\"X1 ECDF\",\"X1 ECDF\",\"X1 ECDF\",\"X1 ECDF\",\"X1 ECDF\",\"X1 ECDF\",\"X1 ECDF\",\"X1 ECDF\",\"X1 ECDF\",\"X1 ECDF\",\"X1 ECDF\",\"X1 ECDF\",\"X1 ECDF\",\"X1 ECDF\",\"X1 ECDF\",\"X1 ECDF\",\"X1 ECDF\",\"X1 ECDF\",\"X1 ECDF\",\"X1 ECDF\",\"X1 ECDF\",\"X1 ECDF\",\"X1 ECDF\",\"X1 ECDF\",\"X1 ECDF\",\"X1 ECDF\",\"X1 ECDF\",\"X1 ECDF\",\"X1 ECDF\",\"X1 ECDF\",\"X1 ECDF\",\"X1 ECDF\",\"X1 ECDF\",\"X1 ECDF\",\"X1 ECDF\",\"X1 ECDF\",\"X1 ECDF\",\"X1 ECDF\",\"X1 ECDF\",\"X1 ECDF\",\"X1 ECDF\",\"X1 ECDF\",\"X1 ECDF\",\"X1 ECDF\",\"X1 ECDF\",\"X1 ECDF\",\"X1 ECDF\",\"X1 ECDF\",\"X1 ECDF\",\"X1 ECDF\",\"X1 ECDF\",\"X1 ECDF\",\"X1 ECDF\",\"X1 ECDF\",\"X1 ECDF\",\"X1 ECDF\",\"X1 ECDF\",\"X1 ECDF\",\"X1 ECDF\",\"X1 ECDF\",\"X1 ECDF\",\"X1 ECDF\",\"X1 ECDF\",\"X1 ECDF\",\"X1 ECDF\",\"X1 ECDF\",\"X1 ECDF\",\"X1 ECDF\",\"X1 ECDF\",\"X1 ECDF\",\"X1 ECDF\",\"X1 ECDF\",\"X1 ECDF\",\"X1 ECDF\",\"X1 ECDF\",\"X1 ECDF\",\"X1 ECDF\",\"X1 ECDF\",\"X1 ECDF\",\"X1 ECDF\",\"X1 ECDF\",\"X1 ECDF\",\"X1 ECDF\",\"X1 ECDF\",\"X1 ECDF\",\"X1 ECDF\",\"X1 ECDF\",\"X1 ECDF\",\"X1 ECDF\",\"X1 ECDF\",\"X1 ECDF\",\"X1 ECDF\",\"X1 ECDF\",\"X1 ECDF\",\"X1 ECDF\",\"X1 ECDF\",\"X1 ECDF\",\"X1 ECDF\",\"X1 ECDF\",\"X1 ECDF\",\"X1 ECDF\",\"X1 ECDF\",\"X1 ECDF\",\"X1 ECDF\",\"X1 ECDF\",\"X1 ECDF\",\"X1 ECDF\",\"X1 ECDF\",\"X1 ECDF\",\"X1 ECDF\",\"X1 ECDF\",\"X1 ECDF\",\"X1 ECDF\",\"X1 ECDF\",\"X1 ECDF\",\"X1 ECDF\",\"X1 ECDF\",\"X1 ECDF\",\"X1 ECDF\",\"X1 ECDF\",\"X1 ECDF\",\"X1 ECDF\",\"X1 ECDF\",\"X1 ECDF\",\"X1 ECDF\",\"X1 ECDF\",\"X1 ECDF\",\"X1 ECDF\",\"X1 ECDF\",\"X1 ECDF\",\"X1 ECDF\",\"X1 ECDF\",\"X1 ECDF\",\"X1 ECDF\",\"X1 ECDF\",\"X1 ECDF\",\"X1 ECDF\",\"X1 ECDF\",\"X1 ECDF\",\"X1 ECDF\",\"X1 ECDF\",\"X1 ECDF\",\"X1 ECDF\",\"X1 ECDF\",\"X1 ECDF\",\"X1 ECDF\",\"X1 ECDF\",\"X1 ECDF\",\"X1 ECDF\",\"X1 ECDF\",\"X1 ECDF\",\"X1 ECDF\",\"X1 ECDF\",\"X1 ECDF\",\"X1 ECDF\",\"X1 ECDF\",\"X1 ECDF\",\"X1 ECDF\",\"X1 ECDF\",\"X1 ECDF\",\"X1 ECDF\",\"X1 ECDF\",\"X1 ECDF\",\"X1 ECDF\",\"X1 ECDF\",\"X1 ECDF\",\"X1 ECDF\",\"X1 ECDF\",\"X1 ECDF\",\"X1 ECDF\",\"X1 ECDF\",\"X1 ECDF\",\"X1 ECDF\",\"X1 ECDF\",\"X1 ECDF\",\"X1 ECDF\",\"X1 ECDF\",\"X1 ECDF\",\"X1 ECDF\",\"X1 ECDF\",\"X1 ECDF\",\"X1 ECDF\",\"X1 ECDF\",\"X1 ECDF\",\"X1 ECDF\",\"X1 ECDF\",\"X1 ECDF\",\"X1 ECDF\",\"X1 ECDF\",\"X1 ECDF\",\"X1 ECDF\",\"X1 ECDF\",\"X1 ECDF\",\"X1 ECDF\",\"X1 ECDF\",\"X1 ECDF\",\"X1 ECDF\",\"X1 ECDF\",\"X1 ECDF\",\"X1 ECDF\",\"X1 ECDF\",\"X1 ECDF\",\"X1 ECDF\",\"X1 ECDF\",\"X1 ECDF\",\"X1 ECDF\",\"X1 ECDF\",\"X1 ECDF\",\"X1 ECDF\",\"X1 ECDF\",\"X1 ECDF\",\"X1 ECDF\",\"X1 ECDF\",\"X1 ECDF\",\"X1 ECDF\",\"X1 ECDF\",\"X1 ECDF\",\"X1 ECDF\",\"X1 ECDF\",\"X1 ECDF\",\"X1 ECDF\",\"X1 ECDF\",\"X1 ECDF\",\"X1 ECDF\",\"X1 ECDF\",\"X1 ECDF\",\"X1 ECDF\",\"X1 ECDF\",\"X1 ECDF\",\"X1 ECDF\",\"X1 ECDF\",\"X1 ECDF\",\"X1 ECDF\",\"X1 ECDF\",\"X1 ECDF\",\"X1 ECDF\",\"X1 ECDF\",\"X1 ECDF\",\"X1 ECDF\",\"X1 ECDF\",\"X1 ECDF\",\"X1 ECDF\",\"X1 ECDF\",\"X1 ECDF\",\"X1 ECDF\",\"X1 ECDF\",\"X1 ECDF\",\"X1 ECDF\",\"X1 ECDF\",\"X1 ECDF\",\"X1 ECDF\",\"X1 ECDF\",\"X1 ECDF\",\"X1 ECDF\",\"X1 ECDF\",\"X1 ECDF\",\"X1 ECDF\",\"X1 ECDF\",\"X1 ECDF\",\"X1 ECDF\",\"X1 ECDF\",\"X1 ECDF\",\"X1 ECDF\",\"X1 ECDF\",\"X1 ECDF\",\"X1 ECDF\",\"X1 ECDF\",\"X1 ECDF\",\"X1 ECDF\"],\"index\":[0,1,2,3,4,5,6,7,8,9,10,11,12,13,14,15,16,17,18,19,20,21,22,23,24,25,26,27,28,29,30,31,32,33,34,35,36,37,38,39,40,41,42,43,44,45,46,47,48,49,50,51,52,53,54,55,56,57,58,59,60,61,62,63,64,65,66,67,68,69,70,71,72,73,74,75,76,77,78,79,80,81,82,83,84,85,86,87,88,89,90,91,92,93,94,95,96,97,98,99,100,101,102,103,104,105,106,107,108,109,110,111,112,113,114,115,116,117,118,119,120,121,122,123,124,125,126,127,128,129,130,131,132,133,134,135,136,137,138,139,140,141,142,143,144,145,146,147,148,149,150,151,152,153,154,155,156,157,158,159,160,161,162,163,164,165,166,167,168,169,170,171,172,173,174,175,176,177,178,179,180,181,182,183,184,185,186,187,188,189,190,191,192,193,194,195,196,197,198,199,200,201,202,203,204,205,206,207,208,209,210,211,212,213,214,215,216,217,218,219,220,221,222,223,224,225,226,227,228,229,230,231,232,233,234,235,236,237,238,239,240,241,242,243,244,245,246,247,248,249,250,251,252,253,254,255,256,257,258,259,260,261,262,263,264,265,266,267,268,269,270,271,272,273,274,275,276,277,278,279,280,281,282,283,284,285,286,287,288,289,290,291,292,293,294,295,296,297,298,299,300,301,302,303,304,305,306,307,308,309,310,311,312,313,314,315,316,317,318,319,320,321,322,323,324,325,326,327,328,329,330,331,332,333,334,335,336,337,338,339,340,341,342,343,344,345,346,347,348,349,350,351,352,353,354,355,356,357,358,359,360,361,362,363,364,365,366,367,368,369,370,371,372,373,374,375,376,377,378,379,380,381,382,383,384,385,386,387,388,389,390,391,392,393,394,395,396,397,398,399,400,401,402,403,404,405,406,407,408,409,410,411,412,413,414,415,416,417,418,419,420,421,422,423,424,425,426,427,428,429,430,431,432,433,434,435,436,437,438,439,440,441,442,443,444,445,446,447,448,449,450,451,452,453,454,455,456,457,458,459,460,461,462,463,464,465,466,467,468,469,470,471,472,473,474,475,476,477,478,479,480,481,482,483,484,485,486,487,488,489,490,491,492,493,494,495,496,497,498,499,500,501,502,503,504,505,506,507,508,509,510,511,512,513,514,515,516,517,518,519,520,521,522,523,524,525,526,527,528,529,530,531,532,533,534,535,536,537,538,539,540,541,542,543,544,545,546,547,548,549,550,551,552,553,554,555,556,557,558,559,560,561,562,563,564,565,566,567,568,569,570,571,572,573,574,575,576,577,578,579,580,581,582,583,584,585,586,587,588,589,590,591,592,593,594,595,596,597,598,599,600,601,602,603,604,605,606,607,608,609,610,611,612,613,614,615,616,617,618,619,620,621,622,623,624,625,626,627,628,629,630,631,632,633,634,635,636,637,638,639,640,641,642,643,644,645,646,647,648,649,650,651,652,653,654,655,656,657,658,659,660,661,662,663,664,665,666,667,668,669,670,671,672,673,674,675,676,677,678,679,680,681,682,683,684,685,686,687,688,689,690,691,692,693,694,695,696,697,698,699,700,701,702,703,704,705,706,707,708,709,710,711,712,713,714,715,716,717,718,719,720,721,722,723,724,725,726,727,728,729,730,731,732,733,734,735,736,737,738,739,740,741,742,743,744,745,746,747,748,749,750,751,752,753,754,755,756,757,758,759,760,761,762,763,764,765,766,767,768,769,770,771,772,773,774,775,776,777,778,779,780,781,782,783,784,785,786,787,788,789,790,791,792,793,794,795,796,797,798,799,800,801,802,803,804,805,806,807,808,809,810,811,812,813,814,815,816,817,818,819,820,821,822,823,824,825,826,827,828,829,830,831,832,833,834,835,836,837,838,839,840,841,842,843,844,845,846,847,848,849,850,851,852,853,854,855,856,857,858,859,860,861,862,863,864,865,866,867,868,869,870,871,872,873,874,875,876,877,878,879,880,881,882,883,884,885,886,887,888,889,890,891,892,893,894,895,896,897,898,899,900,901,902,903,904,905,906,907,908,909,910,911,912,913,914,915,916,917,918,919,920,921,922,923,924,925,926,927,928,929,930,931,932,933,934,935,936,937,938,939,940,941,942,943,944,945,946,947,948,949,950,951,952,953,954,955,956,957,958,959,960,961,962,963,964,965,966,967,968,969,970,971,972,973,974,975,976,977,978,979,980,981,982,983,984,985,986,987,988,989,990,991,992,993,994,995,996,997,998,999,1000,1001,1002,1003,1004,1005,1006,1007,1008,1009,1010,1011,1012,1013,1014,1015,1016,1017,1018,1019,1020,1021,1022,1023,1024,1025,1026,1027,1028,1029,1030,1031,1032,1033,1034,1035,1036,1037,1038,1039,1040,1041,1042,1043,1044,1045,1046,1047,1048,1049,1050,1051,1052,1053,1054,1055,1056,1057,1058,1059,1060,1061,1062,1063,1064,1065,1066,1067,1068,1069,1070,1071,1072,1073,1074,1075,1076,1077,1078,1079,1080,1081,1082,1083,1084,1085,1086,1087,1088,1089,1090,1091,1092,1093,1094,1095,1096,1097,1098,1099,1100,1101,1102,1103,1104,1105,1106,1107,1108,1109,1110,1111,1112,1113,1114,1115,1116,1117,1118,1119,1120,1121,1122,1123,1124,1125,1126,1127,1128,1129,1130,1131,1132,1133,1134,1135,1136,1137,1138,1139,1140,1141,1142,1143,1144,1145,1146,1147,1148,1149,1150,1151,1152,1153,1154,1155,1156,1157,1158,1159,1160,1161,1162,1163,1164,1165,1166,1167,1168,1169,1170,1171,1172,1173,1174,1175,1176,1177,1178,1179,1180,1181,1182,1183,1184,1185,1186,1187,1188,1189,1190,1191,1192,1193,1194,1195,1196,1197,1198,1199,1200,1201,1202,1203,1204,1205,1206,1207,1208,1209,1210,1211,1212,1213,1214,1215,1216,1217,1218,1219,1220,1221,1222,1223,1224,1225,1226,1227,1228,1229,1230,1231,1232,1233,1234,1235,1236,1237,1238,1239,1240,1241,1242,1243,1244,1245,1246,1247,1248,1249,1250,1251,1252,1253,1254,1255,1256,1257,1258,1259,1260,1261,1262,1263,1264,1265,1266,1267,1268,1269,1270,1271,1272,1273,1274,1275,1276,1277,1278,1279,1280,1281,1282,1283,1284,1285,1286,1287,1288,1289,1290,1291,1292,1293,1294,1295,1296,1297,1298,1299,1300,1301,1302,1303,1304,1305,1306,1307,1308,1309,1310,1311,1312,1313,1314,1315,1316,1317,1318,1319,1320,1321,1322,1323,1324,1325,1326,1327,1328,1329,1330,1331,1332,1333,1334,1335,1336,1337,1338,1339,1340,1341,1342,1343,1344,1345,1346,1347,1348,1349,1350,1351,1352,1353,1354,1355,1356,1357,1358,1359,1360,1361,1362,1363,1364,1365,1366,1367,1368,1369,1370,1371,1372,1373,1374,1375,1376,1377,1378,1379,1380,1381,1382,1383,1384,1385,1386,1387,1388,1389,1390,1391,1392,1393,1394,1395,1396,1397,1398,1399,1400,1401,1402,1403,1404,1405,1406,1407,1408,1409,1410,1411,1412,1413,1414,1415,1416,1417,1418,1419,1420,1421,1422,1423,1424,1425,1426,1427,1428,1429,1430,1431,1432,1433,1434,1435,1436,1437,1438,1439,1440,1441,1442,1443,1444,1445,1446,1447,1448,1449,1450,1451,1452,1453,1454,1455,1456,1457,1458,1459,1460,1461,1462,1463,1464,1465,1466,1467,1468,1469,1470,1471,1472,1473,1474,1475,1476,1477,1478,1479,1480,1481,1482,1483,1484,1485,1486,1487,1488,1489,1490,1491,1492,1493,1494,1495,1496,1497,1498,1499,1500,1501,1502,1503,1504,1505,1506,1507,1508,1509,1510,1511,1512,1513,1514,1515,1516,1517,1518,1519,1520,1521,1522,1523,1524,1525,1526,1527,1528,1529,1530,1531,1532,1533,1534,1535,1536,1537,1538,1539,1540,1541,1542,1543,1544,1545,1546,1547,1548,1549,1550,1551,1552,1553,1554,1555,1556,1557,1558,1559,1560,1561,1562,1563,1564,1565,1566,1567,1568,1569,1570,1571,1572,1573,1574,1575,1576,1577,1578,1579,1580,1581,1582,1583,1584,1585,1586,1587,1588,1589,1590,1591,1592,1593,1594,1595,1596,1597,1598,1599,1600,1601,1602,1603,1604,1605,1606,1607,1608,1609,1610,1611,1612,1613,1614,1615,1616,1617,1618,1619,1620,1621,1622,1623,1624,1625,1626,1627,1628,1629,1630,1631,1632,1633,1634,1635,1636,1637,1638,1639,1640,1641,1642,1643,1644,1645,1646,1647,1648,1649,1650,1651,1652,1653,1654,1655,1656,1657,1658,1659,1660,1661,1662,1663,1664,1665,1666,1667,1668,1669,1670,1671,1672,1673,1674,1675,1676,1677,1678,1679,1680,1681,1682,1683,1684,1685,1686,1687,1688,1689,1690,1691,1692,1693,1694,1695,1696,1697,1698,1699,1700,1701,1702,1703,1704,1705,1706,1707,1708,1709,1710,1711,1712,1713,1714,1715,1716,1717,1718,1719,1720,1721,1722,1723,1724,1725,1726,1727,1728,1729,1730,1731,1732,1733,1734,1735,1736,1737,1738,1739,1740,1741,1742,1743,1744,1745,1746,1747,1748,1749,1750,1751,1752,1753,1754,1755,1756,1757,1758,1759,1760,1761,1762,1763,1764,1765,1766,1767,1768,1769,1770,1771,1772,1773,1774,1775,1776,1777,1778,1779,1780,1781,1782,1783,1784,1785,1786,1787,1788,1789,1790,1791,1792,1793,1794,1795,1796,1797,1798,1799,1800,1801,1802,1803,1804,1805,1806,1807,1808,1809,1810,1811,1812,1813,1814,1815,1816,1817,1818,1819,1820,1821,1822,1823,1824,1825,1826,1827,1828,1829,1830,1831,1832,1833,1834,1835,1836,1837,1838,1839,1840,1841,1842,1843,1844,1845,1846,1847,1848,1849,1850,1851,1852,1853,1854,1855,1856,1857,1858,1859,1860,1861,1862,1863,1864,1865,1866,1867,1868,1869,1870,1871,1872,1873,1874,1875,1876,1877,1878,1879,1880,1881,1882,1883,1884,1885,1886,1887,1888,1889,1890,1891,1892,1893,1894,1895,1896,1897,1898,1899,1900,1901,1902,1903,1904,1905,1906,1907,1908,1909,1910,1911,1912,1913,1914,1915,1916,1917,1918,1919,1920,1921,1922,1923,1924,1925,1926,1927,1928,1929,1930,1931,1932,1933,1934,1935,1936,1937,1938,1939,1940,1941,1942,1943,1944,1945,1946,1947,1948,1949,1950,1951,1952,1953,1954,1955,1956,1957,1958,1959,1960,1961,1962,1963,1964,1965,1966,1967,1968,1969,1970,1971,1972,1973,1974,1975,1976,1977,1978,1979,1980,1981,1982,1983,1984,1985,1986,1987,1988,1989,1990,1991,1992,1993,1994,1995,1996,1997,1998,1999],\"x\":{\"__ndarray__\":\"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\",\"dtype\":\"float64\",\"order\":\"little\",\"shape\":[2000]}},\"selected\":{\"id\":\"2759\"},\"selection_policy\":{\"id\":\"2760\"}},\"id\":\"2737\",\"type\":\"ColumnDataSource\"},{\"attributes\":{},\"id\":\"2760\",\"type\":\"UnionRenderers\"},{\"attributes\":{\"data_source\":{\"id\":\"2737\"},\"glyph\":{\"id\":\"2739\"},\"hover_glyph\":null,\"muted_glyph\":null,\"nonselection_glyph\":{\"id\":\"2740\"},\"view\":{\"id\":\"2742\"}},\"id\":\"2741\",\"type\":\"GlyphRenderer\"},{\"attributes\":{\"bottom_units\":\"screen\",\"fill_alpha\":0.5,\"fill_color\":\"lightgrey\",\"left_units\":\"screen\",\"level\":\"overlay\",\"line_alpha\":1.0,\"line_color\":\"black\",\"line_dash\":[4,4],\"line_width\":2,\"right_units\":\"screen\",\"syncable\":false,\"top_units\":\"screen\"},\"id\":\"2729\",\"type\":\"BoxAnnotation\"},{\"attributes\":{},\"id\":\"2716\",\"type\":\"BasicTicker\"},{\"attributes\":{\"axis_label\":\"x\",\"formatter\":{\"id\":\"2756\"},\"major_label_policy\":{\"id\":\"2757\"},\"ticker\":{\"id\":\"2716\"}},\"id\":\"2715\",\"type\":\"LinearAxis\"},{\"attributes\":{},\"id\":\"2762\",\"type\":\"UnionRenderers\"},{\"attributes\":{\"overlay\":{\"id\":\"2729\"}},\"id\":\"2725\",\"type\":\"BoxZoomTool\"},{\"attributes\":{\"axis\":{\"id\":\"2719\"},\"dimension\":1,\"ticker\":null},\"id\":\"2722\",\"type\":\"Grid\"},{\"attributes\":{\"active_multi\":null,\"tools\":[{\"id\":\"2723\"},{\"id\":\"2724\"},{\"id\":\"2725\"},{\"id\":\"2726\"},{\"id\":\"2727\"},{\"id\":\"2728\"}]},\"id\":\"2730\",\"type\":\"Toolbar\"},{\"attributes\":{},\"id\":\"2753\",\"type\":\"BasicTickFormatter\"},{\"attributes\":{},\"id\":\"2723\",\"type\":\"PanTool\"},{\"attributes\":{\"line_color\":\"hotpink\",\"x\":{\"field\":\"x\"},\"y\":{\"field\":\"y\"}},\"id\":\"2746\",\"type\":\"Line\"},{\"attributes\":{},\"id\":\"2757\",\"type\":\"AllLabels\"},{\"attributes\":{\"axis\":{\"id\":\"2715\"},\"ticker\":null},\"id\":\"2718\",\"type\":\"Grid\"},{\"attributes\":{\"axis_label\":\"ECDF\",\"formatter\":{\"id\":\"2753\"},\"major_label_policy\":{\"id\":\"2754\"},\"ticker\":{\"id\":\"2720\"}},\"id\":\"2719\",\"type\":\"LinearAxis\"},{\"attributes\":{},\"id\":\"2709\",\"type\":\"DataRange1d\"},{\"attributes\":{},\"id\":\"2756\",\"type\":\"BasicTickFormatter\"},{\"attributes\":{},\"id\":\"2711\",\"type\":\"LinearScale\"},{\"attributes\":{\"fill_color\":{\"value\":\"#1f77b3\"},\"line_color\":{\"value\":\"#1f77b3\"},\"x\":{\"field\":\"x\"},\"y\":{\"field\":\"__ECDF\"}},\"id\":\"2739\",\"type\":\"Circle\"},{\"attributes\":{},\"id\":\"2720\",\"type\":\"BasicTicker\"},{\"attributes\":{},\"id\":\"2726\",\"type\":\"SaveTool\"},{\"attributes\":{\"fill_alpha\":{\"value\":0.1},\"fill_color\":{\"value\":\"#1f77b3\"},\"line_alpha\":{\"value\":0.1},\"line_color\":{\"value\":\"#1f77b3\"},\"x\":{\"field\":\"x\"},\"y\":{\"field\":\"__ECDF\"}},\"id\":\"2740\",\"type\":\"Circle\"},{\"attributes\":{\"line_alpha\":0.1,\"line_color\":\"hotpink\",\"x\":{\"field\":\"x\"},\"y\":{\"field\":\"y\"}},\"id\":\"2747\",\"type\":\"Line\"},{\"attributes\":{},\"id\":\"2728\",\"type\":\"HelpTool\"},{\"attributes\":{\"source\":{\"id\":\"2745\"}},\"id\":\"2749\",\"type\":\"CDSView\"},{\"attributes\":{},\"id\":\"2761\",\"type\":\"Selection\"},{\"attributes\":{},\"id\":\"2754\",\"type\":\"AllLabels\"},{\"attributes\":{},\"id\":\"2724\",\"type\":\"WheelZoomTool\"},{\"attributes\":{},\"id\":\"2759\",\"type\":\"Selection\"},{\"attributes\":{},\"id\":\"2727\",\"type\":\"ResetTool\"},{\"attributes\":{\"data_source\":{\"id\":\"2745\"},\"glyph\":{\"id\":\"2746\"},\"hover_glyph\":null,\"muted_glyph\":null,\"nonselection_glyph\":{\"id\":\"2747\"},\"view\":{\"id\":\"2749\"}},\"id\":\"2748\",\"type\":\"GlyphRenderer\"}],\"root_ids\":[\"2706\"]},\"title\":\"Bokeh Application\",\"version\":\"2.3.3\"}};\n",
              "  var render_items = [{\"docid\":\"995e8eda-aaad-4577-b59e-27f496079c00\",\"root_ids\":[\"2706\"],\"roots\":{\"2706\":\"929f273b-4d9f-4e14-9e1e-4921628a3c89\"}}];\n",
              "  root.Bokeh.embed.embed_items_notebook(docs_json, render_items);\n",
              "\n",
              "  }\n",
              "  if (root.Bokeh !== undefined) {\n",
              "    embed_document(root);\n",
              "  } else {\n",
              "    var attempts = 0;\n",
              "    var timer = setInterval(function(root) {\n",
              "      if (root.Bokeh !== undefined) {\n",
              "        clearInterval(timer);\n",
              "        embed_document(root);\n",
              "      } else {\n",
              "        attempts++;\n",
              "        if (attempts > 100) {\n",
              "          clearInterval(timer);\n",
              "          console.log(\"Bokeh: ERROR: Unable to run BokehJS code because BokehJS library is missing\");\n",
              "        }\n",
              "      }\n",
              "    }, 10, root)\n",
              "  }\n",
              "})(window);"
            ],
            "application/vnd.bokehjs_exec.v0+json": ""
          },
          "metadata": {
            "application/vnd.bokehjs_exec.v0+json": {
              "id": "2706"
            }
          }
        }
      ]
    },
    {
      "cell_type": "markdown",
      "source": [
        "**Part C)** Plot the samples of $x_1$ and $x_3$ together. Overlay a countour plot of the theoretical point pdf $f(x_1,x_3)$. Do these match up?"
      ],
      "metadata": {
        "id": "pEsvXFCl3guW"
      }
    },
    {
      "cell_type": "markdown",
      "source": [
        "We already have the $x_1$ trivariate data and we will pull the $x_3$ triavariate data."
      ],
      "metadata": {
        "id": "d7xvYCiB4Mhx"
      }
    },
    {
      "cell_type": "code",
      "source": [
        "x3_trivariate = trivariate_samples[:,2]\n"
      ],
      "metadata": {
        "colab": {
          "base_uri": "https://localhost:8080/"
        },
        "id": "2J366t3R3fyo",
        "outputId": "38c3868c-f375-4dd8-fdcd-ffe572f3dbde"
      },
      "execution_count": 59,
      "outputs": [
        {
          "output_type": "stream",
          "name": "stdout",
          "text": [
            "35.352178075926986 15.051300913374687\n"
          ]
        }
      ]
    },
    {
      "cell_type": "markdown",
      "source": [
        "Now we can go about computing the theoretical joint PDF $f(x_1,x_3)$. First we will section off the $\\mu$ and $\\sigma$ for the joint distribution. Then we establish a grid for our values which is determined by the min/max of our samples. Finally, we compute our mutivariate PDF."
      ],
      "metadata": {
        "id": "SddOXOdC4zo8"
      }
    },
    {
      "cell_type": "code",
      "source": [
        "mu_13 = [mu[0],mu[2]] \n",
        "sigma_x1x3 = [[sigma[0][0],sigma[0][2]],[sigma[2][0],sigma[2][2]]]\n",
        "\n",
        "x1_min = x1_trivariate.min()\n",
        "x1_max = x1_trivariate.max()\n",
        "x3_min = x3_trivariate.min()\n",
        "x3_max = x3_trivariate.max()\n",
        "\n",
        "x1, x3 = np.mgrid[x1_min:x1_max:0.1,x3_min:x3_max:0.1]\n",
        "pos =  np.dstack((x1, x3))\n",
        "\n",
        "x1_x3_norm = scipy.stats.multivariate_normal.pdf(pos,\n",
        "                                                 mean=mu_13,\n",
        "                                                 cov=sigma_x1x3)\n",
        "x1_x3_norm"
      ],
      "metadata": {
        "colab": {
          "base_uri": "https://localhost:8080/"
        },
        "id": "ht9ZfI1z729O",
        "outputId": "e1d8e885-9db9-4dd1-ed4d-caea0444a3d1"
      },
      "execution_count": 65,
      "outputs": [
        {
          "output_type": "execute_result",
          "data": {
            "text/plain": [
              "array([[2.02770698e-16, 2.72916049e-16, 3.66697922e-16, ...,\n",
              "        1.88911208e-05, 1.80150774e-05, 1.71502335e-05],\n",
              "       [3.01136734e-16, 4.04731674e-16, 5.43032904e-16, ...,\n",
              "        2.10528892e-05, 2.00479372e-05, 1.90582568e-05],\n",
              "       [4.45945137e-16, 5.98500433e-16, 8.01868219e-16, ...,\n",
              "        2.33950966e-05, 2.22465367e-05, 2.11181307e-05],\n",
              "       ...,\n",
              "       [1.52052867e-05, 1.58023744e-05, 1.63947794e-05, ...,\n",
              "        3.79946174e-17, 2.79772059e-17, 2.05656338e-17],\n",
              "       [1.34635895e-05, 1.39723088e-05, 1.44754137e-05, ...,\n",
              "        2.52454878e-17, 1.85628908e-17, 1.36258294e-17],\n",
              "       [1.18873834e-05, 1.23189350e-05, 1.27442872e-05, ...,\n",
              "        1.67264823e-17, 1.22813480e-17, 9.00208182e-18]])"
            ]
          },
          "metadata": {},
          "execution_count": 65
        }
      ]
    },
    {
      "cell_type": "markdown",
      "source": [
        "Now we can plot it all!"
      ],
      "metadata": {
        "id": "JDAe7pMG_wHW"
      }
    },
    {
      "cell_type": "code",
      "source": [
        "c = bokeh.plotting.figure(width = 500, height =300,\n",
        "                          title = \"Mulitvariate PDF\",\n",
        "                          x_axis_label =\"X1 Distribution\",y_axis_label =\"X3 Distribution\"    \n",
        ")\n",
        "\n",
        "bebi103.viz.contour(x1,x3,x1_x3_norm,p=c)\n",
        "c.circle(x1_trivariate,x3_trivariate,legend_label=\"Trivariate Points\")\n",
        "bokeh.io.show(c)"
      ],
      "metadata": {
        "colab": {
          "base_uri": "https://localhost:8080/",
          "height": 317
        },
        "id": "w7VZc1Ug_v-h",
        "outputId": "6cbb5ab8-f75b-41dc-e897-56748bb978fb"
      },
      "execution_count": 87,
      "outputs": [
        {
          "output_type": "display_data",
          "data": {
            "application/javascript": [
              "\n",
              "(function(root) {\n",
              "  function now() {\n",
              "    return new Date();\n",
              "  }\n",
              "\n",
              "  var force = true;\n",
              "\n",
              "  if (typeof root._bokeh_onload_callbacks === \"undefined\" || force === true) {\n",
              "    root._bokeh_onload_callbacks = [];\n",
              "    root._bokeh_is_loading = undefined;\n",
              "  }\n",
              "\n",
              "  var JS_MIME_TYPE = 'application/javascript';\n",
              "  var HTML_MIME_TYPE = 'text/html';\n",
              "  var EXEC_MIME_TYPE = 'application/vnd.bokehjs_exec.v0+json';\n",
              "  var CLASS_NAME = 'output_bokeh rendered_html';\n",
              "\n",
              "  /**\n",
              "   * Render data to the DOM node\n",
              "   */\n",
              "  function render(props, node) {\n",
              "    var script = document.createElement(\"script\");\n",
              "    node.appendChild(script);\n",
              "  }\n",
              "\n",
              "  /**\n",
              "   * Handle when an output is cleared or removed\n",
              "   */\n",
              "  function handleClearOutput(event, handle) {\n",
              "    var cell = handle.cell;\n",
              "\n",
              "    var id = cell.output_area._bokeh_element_id;\n",
              "    var server_id = cell.output_area._bokeh_server_id;\n",
              "    // Clean up Bokeh references\n",
              "    if (id != null && id in Bokeh.index) {\n",
              "      Bokeh.index[id].model.document.clear();\n",
              "      delete Bokeh.index[id];\n",
              "    }\n",
              "\n",
              "    if (server_id !== undefined) {\n",
              "      // Clean up Bokeh references\n",
              "      var cmd = \"from bokeh.io.state import curstate; print(curstate().uuid_to_server['\" + server_id + \"'].get_sessions()[0].document.roots[0]._id)\";\n",
              "      cell.notebook.kernel.execute(cmd, {\n",
              "        iopub: {\n",
              "          output: function(msg) {\n",
              "            var id = msg.content.text.trim();\n",
              "            if (id in Bokeh.index) {\n",
              "              Bokeh.index[id].model.document.clear();\n",
              "              delete Bokeh.index[id];\n",
              "            }\n",
              "          }\n",
              "        }\n",
              "      });\n",
              "      // Destroy server and session\n",
              "      var cmd = \"import bokeh.io.notebook as ion; ion.destroy_server('\" + server_id + \"')\";\n",
              "      cell.notebook.kernel.execute(cmd);\n",
              "    }\n",
              "  }\n",
              "\n",
              "  /**\n",
              "   * Handle when a new output is added\n",
              "   */\n",
              "  function handleAddOutput(event, handle) {\n",
              "    var output_area = handle.output_area;\n",
              "    var output = handle.output;\n",
              "\n",
              "    // limit handleAddOutput to display_data with EXEC_MIME_TYPE content only\n",
              "    if ((output.output_type != \"display_data\") || (!Object.prototype.hasOwnProperty.call(output.data, EXEC_MIME_TYPE))) {\n",
              "      return\n",
              "    }\n",
              "\n",
              "    var toinsert = output_area.element.find(\".\" + CLASS_NAME.split(' ')[0]);\n",
              "\n",
              "    if (output.metadata[EXEC_MIME_TYPE][\"id\"] !== undefined) {\n",
              "      toinsert[toinsert.length - 1].firstChild.textContent = output.data[JS_MIME_TYPE];\n",
              "      // store reference to embed id on output_area\n",
              "      output_area._bokeh_element_id = output.metadata[EXEC_MIME_TYPE][\"id\"];\n",
              "    }\n",
              "    if (output.metadata[EXEC_MIME_TYPE][\"server_id\"] !== undefined) {\n",
              "      var bk_div = document.createElement(\"div\");\n",
              "      bk_div.innerHTML = output.data[HTML_MIME_TYPE];\n",
              "      var script_attrs = bk_div.children[0].attributes;\n",
              "      for (var i = 0; i < script_attrs.length; i++) {\n",
              "        toinsert[toinsert.length - 1].firstChild.setAttribute(script_attrs[i].name, script_attrs[i].value);\n",
              "        toinsert[toinsert.length - 1].firstChild.textContent = bk_div.children[0].textContent\n",
              "      }\n",
              "      // store reference to server id on output_area\n",
              "      output_area._bokeh_server_id = output.metadata[EXEC_MIME_TYPE][\"server_id\"];\n",
              "    }\n",
              "  }\n",
              "\n",
              "  function register_renderer(events, OutputArea) {\n",
              "\n",
              "    function append_mime(data, metadata, element) {\n",
              "      // create a DOM node to render to\n",
              "      var toinsert = this.create_output_subarea(\n",
              "        metadata,\n",
              "        CLASS_NAME,\n",
              "        EXEC_MIME_TYPE\n",
              "      );\n",
              "      this.keyboard_manager.register_events(toinsert);\n",
              "      // Render to node\n",
              "      var props = {data: data, metadata: metadata[EXEC_MIME_TYPE]};\n",
              "      render(props, toinsert[toinsert.length - 1]);\n",
              "      element.append(toinsert);\n",
              "      return toinsert\n",
              "    }\n",
              "\n",
              "    /* Handle when an output is cleared or removed */\n",
              "    events.on('clear_output.CodeCell', handleClearOutput);\n",
              "    events.on('delete.Cell', handleClearOutput);\n",
              "\n",
              "    /* Handle when a new output is added */\n",
              "    events.on('output_added.OutputArea', handleAddOutput);\n",
              "\n",
              "    /**\n",
              "     * Register the mime type and append_mime function with output_area\n",
              "     */\n",
              "    OutputArea.prototype.register_mime_type(EXEC_MIME_TYPE, append_mime, {\n",
              "      /* Is output safe? */\n",
              "      safe: true,\n",
              "      /* Index of renderer in `output_area.display_order` */\n",
              "      index: 0\n",
              "    });\n",
              "  }\n",
              "\n",
              "  // register the mime type if in Jupyter Notebook environment and previously unregistered\n",
              "  if (root.Jupyter !== undefined) {\n",
              "    var events = require('base/js/events');\n",
              "    var OutputArea = require('notebook/js/outputarea').OutputArea;\n",
              "\n",
              "    if (OutputArea.prototype.mime_types().indexOf(EXEC_MIME_TYPE) == -1) {\n",
              "      register_renderer(events, OutputArea);\n",
              "    }\n",
              "  }\n",
              "\n",
              "  \n",
              "  if (typeof (root._bokeh_timeout) === \"undefined\" || force === true) {\n",
              "    root._bokeh_timeout = Date.now() + 5000;\n",
              "    root._bokeh_failed_load = false;\n",
              "  }\n",
              "\n",
              "  var NB_LOAD_WARNING = {'data': {'text/html':\n",
              "     \"<div style='background-color: #fdd'>\\n\"+\n",
              "     \"<p>\\n\"+\n",
              "     \"BokehJS does not appear to have successfully loaded. If loading BokehJS from CDN, this \\n\"+\n",
              "     \"may be due to a slow or bad network connection. Possible fixes:\\n\"+\n",
              "     \"</p>\\n\"+\n",
              "     \"<ul>\\n\"+\n",
              "     \"<li>re-rerun `output_notebook()` to attempt to load from CDN again, or</li>\\n\"+\n",
              "     \"<li>use INLINE resources instead, as so:</li>\\n\"+\n",
              "     \"</ul>\\n\"+\n",
              "     \"<code>\\n\"+\n",
              "     \"from bokeh.resources import INLINE\\n\"+\n",
              "     \"output_notebook(resources=INLINE)\\n\"+\n",
              "     \"</code>\\n\"+\n",
              "     \"</div>\"}};\n",
              "\n",
              "  function display_loaded() {\n",
              "    var el = document.getElementById(null);\n",
              "    if (el != null) {\n",
              "      el.textContent = \"BokehJS is loading...\";\n",
              "    }\n",
              "    if (root.Bokeh !== undefined) {\n",
              "      if (el != null) {\n",
              "        el.textContent = \"BokehJS \" + root.Bokeh.version + \" successfully loaded.\";\n",
              "      }\n",
              "    } else if (Date.now() < root._bokeh_timeout) {\n",
              "      setTimeout(display_loaded, 100)\n",
              "    }\n",
              "  }\n",
              "\n",
              "\n",
              "  function run_callbacks() {\n",
              "    try {\n",
              "      root._bokeh_onload_callbacks.forEach(function(callback) {\n",
              "        if (callback != null)\n",
              "          callback();\n",
              "      });\n",
              "    } finally {\n",
              "      delete root._bokeh_onload_callbacks\n",
              "    }\n",
              "    console.debug(\"Bokeh: all callbacks have finished\");\n",
              "  }\n",
              "\n",
              "  function load_libs(css_urls, js_urls, callback) {\n",
              "    if (css_urls == null) css_urls = [];\n",
              "    if (js_urls == null) js_urls = [];\n",
              "\n",
              "    root._bokeh_onload_callbacks.push(callback);\n",
              "    if (root._bokeh_is_loading > 0) {\n",
              "      console.debug(\"Bokeh: BokehJS is being loaded, scheduling callback at\", now());\n",
              "      return null;\n",
              "    }\n",
              "    if (js_urls == null || js_urls.length === 0) {\n",
              "      run_callbacks();\n",
              "      return null;\n",
              "    }\n",
              "    console.debug(\"Bokeh: BokehJS not loaded, scheduling load and callback at\", now());\n",
              "    root._bokeh_is_loading = css_urls.length + js_urls.length;\n",
              "\n",
              "    function on_load() {\n",
              "      root._bokeh_is_loading--;\n",
              "      if (root._bokeh_is_loading === 0) {\n",
              "        console.debug(\"Bokeh: all BokehJS libraries/stylesheets loaded\");\n",
              "        run_callbacks()\n",
              "      }\n",
              "    }\n",
              "\n",
              "    function on_error(url) {\n",
              "      console.error(\"failed to load \" + url);\n",
              "    }\n",
              "\n",
              "    for (let i = 0; i < css_urls.length; i++) {\n",
              "      const url = css_urls[i];\n",
              "      const element = document.createElement(\"link\");\n",
              "      element.onload = on_load;\n",
              "      element.onerror = on_error.bind(null, url);\n",
              "      element.rel = \"stylesheet\";\n",
              "      element.type = \"text/css\";\n",
              "      element.href = url;\n",
              "      console.debug(\"Bokeh: injecting link tag for BokehJS stylesheet: \", url);\n",
              "      document.body.appendChild(element);\n",
              "    }\n",
              "\n",
              "    const hashes = {\"https://cdn.bokeh.org/bokeh/release/bokeh-2.3.3.min.js\": \"dM3QQsP+wXdHg42wTqW85BjZQdLNNIXqlPw/BgKoExPmTG7ZLML4EGqLMfqHT6ON\", \"https://cdn.bokeh.org/bokeh/release/bokeh-tables-2.3.3.min.js\": \"8x57I4YuIfu8XyZfFo0XVr2WAT8EK4rh/uDe3wF7YuW2FNUSNEpJbsPaB1nJ2fz2\", \"https://cdn.bokeh.org/bokeh/release/bokeh-widgets-2.3.3.min.js\": \"3QTqdz9LyAm2i0sG5XTePsHec3UHWwVsrOL68SYRoAXsafvfAyqtQ+h440+qIBhS\"};\n",
              "\n",
              "    for (let i = 0; i < js_urls.length; i++) {\n",
              "      const url = js_urls[i];\n",
              "      const element = document.createElement('script');\n",
              "      element.onload = on_load;\n",
              "      element.onerror = on_error.bind(null, url);\n",
              "      element.async = false;\n",
              "      element.src = url;\n",
              "      if (url in hashes) {\n",
              "        element.crossOrigin = \"anonymous\";\n",
              "        element.integrity = \"sha384-\" + hashes[url];\n",
              "      }\n",
              "      console.debug(\"Bokeh: injecting script tag for BokehJS library: \", url);\n",
              "      document.head.appendChild(element);\n",
              "    }\n",
              "  };\n",
              "\n",
              "  function inject_raw_css(css) {\n",
              "    const element = document.createElement(\"style\");\n",
              "    element.appendChild(document.createTextNode(css));\n",
              "    document.body.appendChild(element);\n",
              "  }\n",
              "\n",
              "  \n",
              "  var js_urls = [\"https://cdn.bokeh.org/bokeh/release/bokeh-2.3.3.min.js\", \"https://cdn.bokeh.org/bokeh/release/bokeh-widgets-2.3.3.min.js\", \"https://cdn.bokeh.org/bokeh/release/bokeh-tables-2.3.3.min.js\", \"https://unpkg.com/@holoviz/panel@0.12.1/dist/panel.min.js\"];\n",
              "  var css_urls = [];\n",
              "  \n",
              "\n",
              "  var inline_js = [\n",
              "    function(Bokeh) {\n",
              "      Bokeh.set_log_level(\"info\");\n",
              "    },\n",
              "    function(Bokeh) {\n",
              "    \n",
              "    \n",
              "    }\n",
              "  ];\n",
              "\n",
              "  function run_inline_js() {\n",
              "    \n",
              "    if (root.Bokeh !== undefined || force === true) {\n",
              "      \n",
              "    for (var i = 0; i < inline_js.length; i++) {\n",
              "      inline_js[i].call(root, root.Bokeh);\n",
              "    }\n",
              "    } else if (Date.now() < root._bokeh_timeout) {\n",
              "      setTimeout(run_inline_js, 100);\n",
              "    } else if (!root._bokeh_failed_load) {\n",
              "      console.log(\"Bokeh: BokehJS failed to load within specified timeout.\");\n",
              "      root._bokeh_failed_load = true;\n",
              "    } else if (force !== true) {\n",
              "      var cell = $(document.getElementById(null)).parents('.cell').data().cell;\n",
              "      cell.output_area.append_execute_result(NB_LOAD_WARNING)\n",
              "    }\n",
              "\n",
              "  }\n",
              "\n",
              "  if (root._bokeh_is_loading === 0) {\n",
              "    console.debug(\"Bokeh: BokehJS loaded, going straight to plotting\");\n",
              "    run_inline_js();\n",
              "  } else {\n",
              "    load_libs(css_urls, js_urls, function() {\n",
              "      console.debug(\"Bokeh: BokehJS plotting callback run at\", now());\n",
              "      run_inline_js();\n",
              "    });\n",
              "  }\n",
              "}(window));"
            ],
            "application/vnd.bokehjs_load.v0+json": "\n(function(root) {\n  function now() {\n    return new Date();\n  }\n\n  var force = true;\n\n  if (typeof root._bokeh_onload_callbacks === \"undefined\" || force === true) {\n    root._bokeh_onload_callbacks = [];\n    root._bokeh_is_loading = undefined;\n  }\n\n  \n\n  \n  if (typeof (root._bokeh_timeout) === \"undefined\" || force === true) {\n    root._bokeh_timeout = Date.now() + 5000;\n    root._bokeh_failed_load = false;\n  }\n\n  var NB_LOAD_WARNING = {'data': {'text/html':\n     \"<div style='background-color: #fdd'>\\n\"+\n     \"<p>\\n\"+\n     \"BokehJS does not appear to have successfully loaded. If loading BokehJS from CDN, this \\n\"+\n     \"may be due to a slow or bad network connection. Possible fixes:\\n\"+\n     \"</p>\\n\"+\n     \"<ul>\\n\"+\n     \"<li>re-rerun `output_notebook()` to attempt to load from CDN again, or</li>\\n\"+\n     \"<li>use INLINE resources instead, as so:</li>\\n\"+\n     \"</ul>\\n\"+\n     \"<code>\\n\"+\n     \"from bokeh.resources import INLINE\\n\"+\n     \"output_notebook(resources=INLINE)\\n\"+\n     \"</code>\\n\"+\n     \"</div>\"}};\n\n  function display_loaded() {\n    var el = document.getElementById(null);\n    if (el != null) {\n      el.textContent = \"BokehJS is loading...\";\n    }\n    if (root.Bokeh !== undefined) {\n      if (el != null) {\n        el.textContent = \"BokehJS \" + root.Bokeh.version + \" successfully loaded.\";\n      }\n    } else if (Date.now() < root._bokeh_timeout) {\n      setTimeout(display_loaded, 100)\n    }\n  }\n\n\n  function run_callbacks() {\n    try {\n      root._bokeh_onload_callbacks.forEach(function(callback) {\n        if (callback != null)\n          callback();\n      });\n    } finally {\n      delete root._bokeh_onload_callbacks\n    }\n    console.debug(\"Bokeh: all callbacks have finished\");\n  }\n\n  function load_libs(css_urls, js_urls, callback) {\n    if (css_urls == null) css_urls = [];\n    if (js_urls == null) js_urls = [];\n\n    root._bokeh_onload_callbacks.push(callback);\n    if (root._bokeh_is_loading > 0) {\n      console.debug(\"Bokeh: BokehJS is being loaded, scheduling callback at\", now());\n      return null;\n    }\n    if (js_urls == null || js_urls.length === 0) {\n      run_callbacks();\n      return null;\n    }\n    console.debug(\"Bokeh: BokehJS not loaded, scheduling load and callback at\", now());\n    root._bokeh_is_loading = css_urls.length + js_urls.length;\n\n    function on_load() {\n      root._bokeh_is_loading--;\n      if (root._bokeh_is_loading === 0) {\n        console.debug(\"Bokeh: all BokehJS libraries/stylesheets loaded\");\n        run_callbacks()\n      }\n    }\n\n    function on_error(url) {\n      console.error(\"failed to load \" + url);\n    }\n\n    for (let i = 0; i < css_urls.length; i++) {\n      const url = css_urls[i];\n      const element = document.createElement(\"link\");\n      element.onload = on_load;\n      element.onerror = on_error.bind(null, url);\n      element.rel = \"stylesheet\";\n      element.type = \"text/css\";\n      element.href = url;\n      console.debug(\"Bokeh: injecting link tag for BokehJS stylesheet: \", url);\n      document.body.appendChild(element);\n    }\n\n    const hashes = {\"https://cdn.bokeh.org/bokeh/release/bokeh-2.3.3.min.js\": \"dM3QQsP+wXdHg42wTqW85BjZQdLNNIXqlPw/BgKoExPmTG7ZLML4EGqLMfqHT6ON\", \"https://cdn.bokeh.org/bokeh/release/bokeh-tables-2.3.3.min.js\": \"8x57I4YuIfu8XyZfFo0XVr2WAT8EK4rh/uDe3wF7YuW2FNUSNEpJbsPaB1nJ2fz2\", \"https://cdn.bokeh.org/bokeh/release/bokeh-widgets-2.3.3.min.js\": \"3QTqdz9LyAm2i0sG5XTePsHec3UHWwVsrOL68SYRoAXsafvfAyqtQ+h440+qIBhS\"};\n\n    for (let i = 0; i < js_urls.length; i++) {\n      const url = js_urls[i];\n      const element = document.createElement('script');\n      element.onload = on_load;\n      element.onerror = on_error.bind(null, url);\n      element.async = false;\n      element.src = url;\n      if (url in hashes) {\n        element.crossOrigin = \"anonymous\";\n        element.integrity = \"sha384-\" + hashes[url];\n      }\n      console.debug(\"Bokeh: injecting script tag for BokehJS library: \", url);\n      document.head.appendChild(element);\n    }\n  };\n\n  function inject_raw_css(css) {\n    const element = document.createElement(\"style\");\n    element.appendChild(document.createTextNode(css));\n    document.body.appendChild(element);\n  }\n\n  \n  var js_urls = [\"https://cdn.bokeh.org/bokeh/release/bokeh-2.3.3.min.js\", \"https://cdn.bokeh.org/bokeh/release/bokeh-widgets-2.3.3.min.js\", \"https://cdn.bokeh.org/bokeh/release/bokeh-tables-2.3.3.min.js\", \"https://unpkg.com/@holoviz/panel@0.12.1/dist/panel.min.js\"];\n  var css_urls = [];\n  \n\n  var inline_js = [\n    function(Bokeh) {\n      Bokeh.set_log_level(\"info\");\n    },\n    function(Bokeh) {\n    \n    \n    }\n  ];\n\n  function run_inline_js() {\n    \n    if (root.Bokeh !== undefined || force === true) {\n      \n    for (var i = 0; i < inline_js.length; i++) {\n      inline_js[i].call(root, root.Bokeh);\n    }\n    } else if (Date.now() < root._bokeh_timeout) {\n      setTimeout(run_inline_js, 100);\n    } else if (!root._bokeh_failed_load) {\n      console.log(\"Bokeh: BokehJS failed to load within specified timeout.\");\n      root._bokeh_failed_load = true;\n    } else if (force !== true) {\n      var cell = $(document.getElementById(null)).parents('.cell').data().cell;\n      cell.output_area.append_execute_result(NB_LOAD_WARNING)\n    }\n\n  }\n\n  if (root._bokeh_is_loading === 0) {\n    console.debug(\"Bokeh: BokehJS loaded, going straight to plotting\");\n    run_inline_js();\n  } else {\n    load_libs(css_urls, js_urls, function() {\n      console.debug(\"Bokeh: BokehJS plotting callback run at\", now());\n      run_inline_js();\n    });\n  }\n}(window));"
          },
          "metadata": {}
        },
        {
          "output_type": "display_data",
          "data": {
            "text/html": [
              "\n",
              "\n",
              "\n",
              "\n",
              "\n",
              "\n",
              "  <div class=\"bk-root\" id=\"60437c47-7576-42fa-8f59-27d45cc5c954\" data-root-id=\"6989\"></div>\n"
            ]
          },
          "metadata": {}
        },
        {
          "output_type": "display_data",
          "data": {
            "application/javascript": [
              "(function(root) {\n",
              "  function embed_document(root) {\n",
              "    \n",
              "  var docs_json = {\"b6bc7768-8664-46e1-9acf-a2816688f70e\":{\"defs\":[{\"extends\":null,\"module\":null,\"name\":\"ReactiveHTML1\",\"overrides\":[],\"properties\":[]},{\"extends\":null,\"module\":null,\"name\":\"FlexBox1\",\"overrides\":[],\"properties\":[{\"default\":\"flex-start\",\"kind\":null,\"name\":\"align_content\"},{\"default\":\"flex-start\",\"kind\":null,\"name\":\"align_items\"},{\"default\":\"row\",\"kind\":null,\"name\":\"flex_direction\"},{\"default\":\"wrap\",\"kind\":null,\"name\":\"flex_wrap\"},{\"default\":\"flex-start\",\"kind\":null,\"name\":\"justify_content\"}]},{\"extends\":null,\"module\":null,\"name\":\"TemplateActions1\",\"overrides\":[],\"properties\":[{\"default\":0,\"kind\":null,\"name\":\"open_modal\"},{\"default\":0,\"kind\":null,\"name\":\"close_modal\"}]},{\"extends\":null,\"module\":null,\"name\":\"MaterialTemplateActions1\",\"overrides\":[],\"properties\":[{\"default\":0,\"kind\":null,\"name\":\"open_modal\"},{\"default\":0,\"kind\":null,\"name\":\"close_modal\"}]}],\"roots\":{\"references\":[{\"attributes\":{\"below\":[{\"id\":\"7000\"}],\"center\":[{\"id\":\"7003\"},{\"id\":\"7007\"},{\"id\":\"7044\"}],\"height\":300,\"left\":[{\"id\":\"7004\"}],\"renderers\":[{\"id\":\"7025\"},{\"id\":\"7030\"}],\"title\":{\"id\":\"6990\"},\"toolbar\":{\"id\":\"7015\"},\"width\":500,\"x_range\":{\"id\":\"6992\"},\"x_scale\":{\"id\":\"6996\"},\"y_range\":{\"id\":\"6994\"},\"y_scale\":{\"id\":\"6998\"}},\"id\":\"6989\",\"subtype\":\"Figure\",\"type\":\"Plot\"},{\"attributes\":{\"items\":[{\"id\":\"7045\"}]},\"id\":\"7044\",\"type\":\"Legend\"},{\"attributes\":{},\"id\":\"7009\",\"type\":\"WheelZoomTool\"},{\"attributes\":{\"data\":{\"xs\":[{\"__ndarray__\":\"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\",\"dtype\":\"float64\",\"order\":\"little\",\"shape\":[449]},{\"__ndarray__\":\"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\",\"dtype\":\"float64\",\"order\":\"little\",\"shape\":[335]},{\"__ndarray__\":\"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\",\"dtype\":\"float64\",\"order\":\"little\",\"shape\":[227]},{\"__ndarray__\":\"tIvDpoKQIUAMsrdwB5AhQLSLw6aCkCFA/vtQDV+UIUDYokGCP58hQJeHSg2ksiFA6L722bXDIUDk0Qy5Z9UhQBryKQ3p9iFAXsRO3scjIkBNJV1AHCoiQIBYkHNPXSJAtIvDpoKQIkDnvvbZtcMiQOe+9tm1wyJAGvIpDen2IkBNJV1AHCojQD5Hap9eQyNAgFiQc09dI0C0i8OmgpAjQNyB+K3cmSNA57722bXDI0BCkW4n6t8jQBryKQ3p9iNA8vAGRcEdJEBNJV1AHCokQHRuBZlOVSRAgFiQc09dJEBgufzL7YckQLSLw6aCkCRAHQdPd5m2JEDnvvbZtcMkQM2kri8J4iRAGvIpDen2JECoIgAExQolQE0lXUAcKiVAeuI8gTIxJUDtXrpK8FQlQIFYkHNPXSVAnp4/yUx2JUC0i8OmgpAlQOP63sIlliVAQUPsI2azJUDnvvbZtcMlQOjje4IPzyVAeBI6Gp3oJUAa8ikN6fYlQNQth3FsACZAPOvk3/cVJkBNJV1AHComQPhsVug2KiZAaF1Kc2Q7JkAAF6c000omQLIoecJGWCZAgViQc09dJkBfgcju1mImQGglFklSaiZAgCrk9bBuJkCVFI6BUW8mQNVLFzNbayZA0/BPVadhJkCBWJBzT10mQPDmJKURTiZAQXGFCf8sJkBNJV1AHComQBryKQ3p9iVArjwT5dzdJUDnvvbZtcMlQLSLw6aCkCVAgViQc09dJUAah5jSkTolQE0lXUAcKiVAGvIpDen2JEDnvvbZtcMkQEbRit11uSRAtIvDpoKQJEDNHK6B/GMkQIBYkHNPXSRATSVdQBwqJEB8HTXhGB4kQBryKQ3p9iNAnztNA/LgI0DnvvbZtcMjQAVdMsWwqSNAtIvDpoKQI0Dhj99dH3cjQIBYkHNPXSNABLJfWVtII0BNJV1AHCojQDXqGd28HCNAGvIpDen2IkAIyV1HxvMiQEfVy8vyzSJA57722bXDIkCQUCujZ6oiQLSLw6aCkCJASICCS5eIIkBOgDLrPWkiQIBYkHNPXSJAf+dpc91LIkC8gNr3HTAiQE0lXUAcKiJACh5AJc4WIkA0oOaI9f4hQBryKQ3p9iFAWBxhp2PpIUBqy6LnytUhQOe+9tm1wyFAWHshy6/DIUDraC8HvbQhQPJ3tHrLpyFAb6P/JimdIUAkEV24PpUhQGdgCAWZkCFAtIvDpoKQIUA=\",\"dtype\":\"float64\",\"order\":\"little\",\"shape\":[115]}],\"ys\":[{\"__ndarray__\":\"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\",\"dtype\":\"float64\",\"order\":\"little\",\"shape\":[449]},{\"__ndarray__\":\"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\",\"dtype\":\"float64\",\"order\":\"little\",\"shape\":[335]},{\"__ndarray__\":\"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\",\"dtype\":\"float64\",\"order\":\"little\",\"shape\":[227]},{\"__ndarray__\":\"zK9k8033OUAAM4EOIg06QB1uWD6KEDpAmswaqLsmOkAyZrRBVUA6QMz/TdvuWTpAkURsfcloOkBmmed0iHM6QFOFdcwqgjpAADOBDiKNOkDWK3CHWY46QERKMqSJkjpAoNoTKcGROkAAM4EOIo06QAAzgQ4ijTpAAhEnpuSEOkC8serYGHo6QGaZ53SIczpAYCIZzsFsOkCk8rgqMF06QMz/TdvuWTpA/L9mwUFLOkAyZrRBVUA6QAReqaZXNzpAmswaqLsmOkB7LAHSYyE6QAAzgQ4iDTpABOpWdFQJOkBmmed0iPM5QFDz2rsT7zlAzP9N2+7ZOUBaleSLh9I5QDRmtEFVwDlAevCZJ5GzOUCazBqou6Y5QMXP7c0MkjlAADOBDiKNOUBmmed0iHM5QEaK815WbTlAzP9N2+5ZOUAv1MQvB0U5QDNmtEFVQDlAmswaqLsmOUAMRw7h5Bc5QAAzgQ4iDTlAZpnndIjzOEDNAuBeZ+Q4QMz/Tdvu2ThAM2a0QVXAOEBiObii3qY4QJrMGqi7pjhAADOBDiKNOEBmmed0iHM4QMz/TdvuWThAprp06/5NOEAzZrRBVUA4QJjMGqi7JjhAADOBDiINOEBmmed0iPM3QMz/Tdvu2TdAM2a0QVXAN0Dd1btDW7k3QJnMGqi7pjdAADOBDiKNN0DPyxeXfYs3QEA/sn5ceDdAZpnndIhzN0CaTBX/hm83QHjmXlhBbTdA5E1HJ4NvN0Bmmed0iHM3QMaABYJxdTdAYG7yzqt+N0A0ULFFSIo3QAAzgQ4ijTdAmqdIQpWYN0CZzBqou6Y3QJLAvcLeqDdAsJRLJ4G7N0AzZrRBVcA3QLxkIFw80DdAzP9N2+7ZN0BkXAZJ/eY3QGaZ53SI8zdAYHgz/9X/N0AAM4EOIg04QJa6ioHcGjhAmcwaqLsmOEAgr7cLKzg4QDNmtEFVQDhApn4kZuBXOEDM/03b7lk4QGWZ53SIczhA1cwtUqV6OEAAM4EOIo04QDsVj72GoDhAmswaqLumOEAzZrRBVcA4QNSGIq52yjhAzP9N2+7ZOEBmmed0iPM4QOCZpBVr+ThAADOBDiINOUCazBqouyY5QOZagAANMDlAM2a0QVVAOUDM/03b7lk5QJD+rZB/czlAZpnndIhzOUAAM4EOIo05QJrMGqi7pjlAM2a0QVXAOUDM/03b7tk5QGaZ53SI8zlAzK9k8033OUA=\",\"dtype\":\"float64\",\"order\":\"little\",\"shape\":[115]}]},\"selected\":{\"id\":\"7040\"},\"selection_policy\":{\"id\":\"7041\"}},\"id\":\"7022\",\"type\":\"ColumnDataSource\"},{\"attributes\":{\"source\":{\"id\":\"7027\"}},\"id\":\"7031\",\"type\":\"CDSView\"},{\"attributes\":{},\"id\":\"7034\",\"type\":\"BasicTickFormatter\"},{\"attributes\":{\"bottom_units\":\"screen\",\"fill_alpha\":0.5,\"fill_color\":\"lightgrey\",\"left_units\":\"screen\",\"level\":\"overlay\",\"line_alpha\":1.0,\"line_color\":\"black\",\"line_dash\":[4,4],\"line_width\":2,\"right_units\":\"screen\",\"syncable\":false,\"top_units\":\"screen\"},\"id\":\"7014\",\"type\":\"BoxAnnotation\"},{\"attributes\":{\"axis\":{\"id\":\"7004\"},\"dimension\":1,\"ticker\":null},\"id\":\"7007\",\"type\":\"Grid\"},{\"attributes\":{\"text\":\"Mulitvariate PDF\"},\"id\":\"6990\",\"type\":\"Title\"},{\"attributes\":{\"data\":{\"x\":{\"__ndarray__\":\"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\",\"dtype\":\"float64\",\"order\":\"little\",\"shape\":[2000]},\"y\":{\"__ndarray__\":\"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\",\"dtype\":\"float64\",\"order\":\"little\",\"shape\":[2000]}},\"selected\":{\"id\":\"7042\"},\"selection_policy\":{\"id\":\"7043\"}},\"id\":\"7027\",\"type\":\"ColumnDataSource\"},{\"attributes\":{},\"id\":\"7040\",\"type\":\"Selection\"},{\"attributes\":{},\"id\":\"7041\",\"type\":\"UnionRenderers\"},{\"attributes\":{},\"id\":\"6992\",\"type\":\"DataRange1d\"},{\"attributes\":{\"source\":{\"id\":\"7022\"}},\"id\":\"7026\",\"type\":\"CDSView\"},{\"attributes\":{},\"id\":\"7011\",\"type\":\"SaveTool\"},{\"attributes\":{\"data_source\":{\"id\":\"7027\"},\"glyph\":{\"id\":\"7028\"},\"hover_glyph\":null,\"muted_glyph\":null,\"nonselection_glyph\":{\"id\":\"7029\"},\"view\":{\"id\":\"7031\"}},\"id\":\"7030\",\"type\":\"GlyphRenderer\"},{\"attributes\":{\"data_source\":{\"id\":\"7022\"},\"glyph\":{\"id\":\"7023\"},\"hover_glyph\":null,\"muted_glyph\":null,\"nonselection_glyph\":{\"id\":\"7024\"},\"view\":{\"id\":\"7026\"}},\"id\":\"7025\",\"type\":\"GlyphRenderer\"},{\"attributes\":{},\"id\":\"6994\",\"type\":\"DataRange1d\"},{\"attributes\":{},\"id\":\"7043\",\"type\":\"UnionRenderers\"},{\"attributes\":{},\"id\":\"6996\",\"type\":\"LinearScale\"},{\"attributes\":{\"line_width\":{\"value\":2},\"xs\":{\"field\":\"xs\"},\"ys\":{\"field\":\"ys\"}},\"id\":\"7023\",\"type\":\"MultiLine\"},{\"attributes\":{\"fill_alpha\":{\"value\":0.1},\"fill_color\":{\"value\":\"#1f77b4\"},\"line_alpha\":{\"value\":0.1},\"line_color\":{\"value\":\"#1f77b4\"},\"x\":{\"field\":\"x\"},\"y\":{\"field\":\"y\"}},\"id\":\"7029\",\"type\":\"Circle\"},{\"attributes\":{},\"id\":\"6998\",\"type\":\"LinearScale\"},{\"attributes\":{},\"id\":\"7005\",\"type\":\"BasicTicker\"},{\"attributes\":{\"fill_color\":{\"value\":\"#1f77b4\"},\"line_color\":{\"value\":\"#1f77b4\"},\"x\":{\"field\":\"x\"},\"y\":{\"field\":\"y\"}},\"id\":\"7028\",\"type\":\"Circle\"},{\"attributes\":{\"line_alpha\":{\"value\":0.1},\"line_width\":{\"value\":2},\"xs\":{\"field\":\"xs\"},\"ys\":{\"field\":\"ys\"}},\"id\":\"7024\",\"type\":\"MultiLine\"},{\"attributes\":{\"axis_label\":\"X3 Distribution\",\"formatter\":{\"id\":\"7034\"},\"major_label_policy\":{\"id\":\"7035\"},\"ticker\":{\"id\":\"7005\"}},\"id\":\"7004\",\"type\":\"LinearAxis\"},{\"attributes\":{},\"id\":\"7038\",\"type\":\"AllLabels\"},{\"attributes\":{},\"id\":\"7008\",\"type\":\"PanTool\"},{\"attributes\":{},\"id\":\"7012\",\"type\":\"ResetTool\"},{\"attributes\":{\"axis_label\":\"X1 Distribution\",\"formatter\":{\"id\":\"7037\"},\"major_label_policy\":{\"id\":\"7038\"},\"ticker\":{\"id\":\"7001\"}},\"id\":\"7000\",\"type\":\"LinearAxis\"},{\"attributes\":{},\"id\":\"7042\",\"type\":\"Selection\"},{\"attributes\":{},\"id\":\"7001\",\"type\":\"BasicTicker\"},{\"attributes\":{},\"id\":\"7013\",\"type\":\"HelpTool\"},{\"attributes\":{\"axis\":{\"id\":\"7000\"},\"ticker\":null},\"id\":\"7003\",\"type\":\"Grid\"},{\"attributes\":{\"label\":{\"value\":\"Trivariate Points\"},\"renderers\":[{\"id\":\"7030\"}]},\"id\":\"7045\",\"type\":\"LegendItem\"},{\"attributes\":{\"overlay\":{\"id\":\"7014\"}},\"id\":\"7010\",\"type\":\"BoxZoomTool\"},{\"attributes\":{},\"id\":\"7037\",\"type\":\"BasicTickFormatter\"},{\"attributes\":{\"active_multi\":null,\"tools\":[{\"id\":\"7008\"},{\"id\":\"7009\"},{\"id\":\"7010\"},{\"id\":\"7011\"},{\"id\":\"7012\"},{\"id\":\"7013\"}]},\"id\":\"7015\",\"type\":\"Toolbar\"},{\"attributes\":{},\"id\":\"7035\",\"type\":\"AllLabels\"}],\"root_ids\":[\"6989\"]},\"title\":\"Bokeh Application\",\"version\":\"2.3.3\"}};\n",
              "  var render_items = [{\"docid\":\"b6bc7768-8664-46e1-9acf-a2816688f70e\",\"root_ids\":[\"6989\"],\"roots\":{\"6989\":\"60437c47-7576-42fa-8f59-27d45cc5c954\"}}];\n",
              "  root.Bokeh.embed.embed_items_notebook(docs_json, render_items);\n",
              "\n",
              "  }\n",
              "  if (root.Bokeh !== undefined) {\n",
              "    embed_document(root);\n",
              "  } else {\n",
              "    var attempts = 0;\n",
              "    var timer = setInterval(function(root) {\n",
              "      if (root.Bokeh !== undefined) {\n",
              "        clearInterval(timer);\n",
              "        embed_document(root);\n",
              "      } else {\n",
              "        attempts++;\n",
              "        if (attempts > 100) {\n",
              "          clearInterval(timer);\n",
              "          console.log(\"Bokeh: ERROR: Unable to run BokehJS code because BokehJS library is missing\");\n",
              "        }\n",
              "      }\n",
              "    }, 10, root)\n",
              "  }\n",
              "})(window);"
            ],
            "application/vnd.bokehjs_exec.v0+json": ""
          },
          "metadata": {
            "application/vnd.bokehjs_exec.v0+json": {
              "id": "6989"
            }
          }
        }
      ]
    },
    {
      "cell_type": "markdown",
      "source": [
        "The multivariate data points and the contour plot of the theoretical joint PDF line up quite well!"
      ],
      "metadata": {
        "id": "oedYMHpoDFa4"
      }
    },
    {
      "cell_type": "markdown",
      "source": [
        "Attribution Statement: TODO"
      ],
      "metadata": {
        "id": "8kZuy7ZdG7es"
      }
    },
    {
      "cell_type": "markdown",
      "source": [
        "Watermark"
      ],
      "metadata": {
        "id": "2wsmpCxMx6D2"
      }
    },
    {
      "cell_type": "code",
      "source": [
        "%load_ext watermark\n",
        "%watermark -v -p pandas,jupyterlab"
      ],
      "metadata": {
        "id": "23taEyY2nteF",
        "outputId": "73f6ec10-8a70-41ad-9085-58a005e63581",
        "colab": {
          "base_uri": "https://localhost:8080/"
        }
      },
      "execution_count": 8,
      "outputs": [
        {
          "output_type": "stream",
          "name": "stdout",
          "text": [
            "Python implementation: CPython\n",
            "Python version       : 3.7.15\n",
            "IPython version      : 7.9.0\n",
            "\n",
            "pandas    : 1.3.5\n",
            "jupyterlab: not installed\n",
            "\n"
          ]
        }
      ]
    }
  ],
  "metadata": {
    "kernelspec": {
      "display_name": "Python 3 (ipykernel)",
      "language": "python",
      "name": "python3"
    },
    "language_info": {
      "codemirror_mode": {
        "name": "ipython",
        "version": 3
      },
      "file_extension": ".py",
      "mimetype": "text/x-python",
      "name": "python",
      "nbconvert_exporter": "python",
      "pygments_lexer": "ipython3",
      "version": "3.9.13"
    },
    "colab": {
      "provenance": [],
      "include_colab_link": true
    }
  },
  "nbformat": 4,
  "nbformat_minor": 0
}